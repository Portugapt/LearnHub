{
 "cells": [
  {
   "cell_type": "markdown",
   "id": "ce3be971-e525-4398-a6fd-1db75288718d",
   "metadata": {},
   "source": [
    "# Bayes Network\n",
    "\n",
    "I am going to use the library pomegranate which is \"a Python package that implements fast and flexible probabilistic models ranging from individual probability distributions to compositional models such as Bayesian networks and hidden Markov models.\"\n",
    "\n",
    "To answer the assignment questions on\n",
    "https://www.ida.liu.se/ext/caisor/TDDC65/dectree-exercise/page-100930.html"
   ]
  },
  {
   "cell_type": "markdown",
   "id": "97d64574-d6d5-462f-9f02-2a31904ace86",
   "metadata": {},
   "source": [
    "## The Network\n",
    "\n",
    "![img1](img/img1.png)"
   ]
  },
  {
   "cell_type": "code",
   "execution_count": 1,
   "id": "6af73e68-41f0-4fea-9c89-3ecc9d6e6adb",
   "metadata": {},
   "outputs": [],
   "source": [
    "from pomegranate import *"
   ]
  },
  {
   "cell_type": "code",
   "execution_count": 2,
   "id": "8288fc38-71ca-4ba6-92ac-457bb2e7418b",
   "metadata": {},
   "outputs": [],
   "source": [
    "tableA = DiscreteDistribution({\"T\": 0.3, \"F\": 0.7})\n",
    "\n",
    "tableB = ConditionalProbabilityTable([\n",
    "    [\"T\", \"T\", 0.8], # Given T, probability of T\n",
    "    [\"T\", \"F\", 0.2], # Given T, probability of F\n",
    "    [\"F\", \"T\", 0.4], # Given F, probability of T\n",
    "    [\"F\", \"F\", 0.6], # Given F, probability of F\n",
    "], [tableA])\n",
    "\n",
    "tableC = ConditionalProbabilityTable([\n",
    "    [\"F\", \"F\", \"T\", 0.1],\n",
    "    [\"F\", \"F\", \"F\", 0.9],\n",
    "    [\"F\", \"T\", \"T\", 0.7],\n",
    "    [\"F\", \"T\", \"F\", 0.3],\n",
    "    [\"T\", \"F\", \"T\", 0.5],\n",
    "    [\"T\", \"F\", \"F\", 0.5],\n",
    "    [\"T\", \"T\", \"T\", 0.99],\n",
    "    [\"T\", \"T\", \"F\", 0.01],\n",
    "], [tableA, tableB])\n",
    "\n",
    "tableD = ConditionalProbabilityTable([\n",
    "    [\"F\", \"T\", 0.55],\n",
    "    [\"F\", \"F\", 0.45],\n",
    "    [\"T\", \"T\", 0.2],\n",
    "    [\"T\", \"F\", 0.8],\n",
    "], [tableB])"
   ]
  },
  {
   "cell_type": "code",
   "execution_count": 3,
   "id": "495f6ebd-b5ba-430d-be6d-9bf149f98a11",
   "metadata": {},
   "outputs": [],
   "source": [
    "nodeA = Node(tableA, name=\"A\")\n",
    "nodeB = Node(tableB, name=\"B\")\n",
    "nodeC = Node(tableC, name=\"C\")\n",
    "nodeD = Node(tableD, name=\"D\")\n",
    "\n",
    "model = BayesianNetwork()\n",
    "model.add_states(nodeA, nodeB, nodeC, nodeD)\n",
    "model.add_edge(nodeA, nodeB)\n",
    "model.add_edge(nodeA, nodeC)\n",
    "model.add_edge(nodeB, nodeC)\n",
    "model.add_edge(nodeB, nodeD)\n",
    "model.bake()"
   ]
  },
  {
   "cell_type": "markdown",
   "id": "6d89b91e-b84b-43eb-bb19-f037a3837078",
   "metadata": {},
   "source": [
    "## Queries\n",
    "\n",
    "![img2](img/img2.png)"
   ]
  },
  {
   "cell_type": "markdown",
   "id": "c174bb7b-6c9c-49c6-95df-2953145208b4",
   "metadata": {},
   "source": [
    "### Query A)"
   ]
  },
  {
   "cell_type": "code",
   "execution_count": 4,
   "id": "5c4e9c83-062f-4db6-8f75-6b4753b5e56b",
   "metadata": {},
   "outputs": [
    {
     "data": {
      "text/plain": [
       "0.5054138717420109"
      ]
     },
     "execution_count": 4,
     "metadata": {},
     "output_type": "execute_result"
    }
   ],
   "source": [
    "model.predict_proba([[None, None, 'T', 'T']])[0][0].parameters[0]['T']"
   ]
  },
  {
   "cell_type": "markdown",
   "id": "98d33367-2815-473a-850c-aee6e13a27eb",
   "metadata": {},
   "source": [
    "Node A result is the first array.   \n",
    "$P(A=T|C=T,D=T) = 0.505$ "
   ]
  },
  {
   "cell_type": "markdown",
   "id": "ccb24c19-17d6-4a94-bc59-5378d5482ecc",
   "metadata": {},
   "source": [
    "### Query B"
   ]
  },
  {
   "cell_type": "code",
   "execution_count": 5,
   "id": "19a77755-aead-4162-9247-4b55ac0dc960",
   "metadata": {},
   "outputs": [
    {
     "data": {
      "text/plain": [
       "0.34651898734177244"
      ]
     },
     "execution_count": 5,
     "metadata": {},
     "output_type": "execute_result"
    }
   ],
   "source": [
    "model.predict_proba([[None, None, None, 'F']])[0][0].parameters[0]['T']"
   ]
  },
  {
   "cell_type": "markdown",
   "id": "aa42c1e6-9e56-4235-8dab-9e43702d65b6",
   "metadata": {},
   "source": [
    "Again, the first array represents Node A probabilities.   \n",
    "$P(A=T|D=F) = 0.346$"
   ]
  },
  {
   "cell_type": "markdown",
   "id": "1f038c70-fef2-42bc-b4e2-7973271e1dab",
   "metadata": {},
   "source": [
    "### Query C"
   ]
  },
  {
   "cell_type": "code",
   "execution_count": 6,
   "id": "c58e77ad-59a3-4865-9b2a-bcb028216bbd",
   "metadata": {},
   "outputs": [
    {
     "data": {
      "text/plain": [
       "0.8100843263425553"
      ]
     },
     "execution_count": 6,
     "metadata": {},
     "output_type": "execute_result"
    }
   ],
   "source": [
    "model.predict_proba([[None, None, 'T', None]])[0][1].parameters[0]['T']"
   ]
  },
  {
   "cell_type": "markdown",
   "id": "5f45256b-5ae2-4569-95ec-3c31ae6f3b6e",
   "metadata": {},
   "source": [
    "Node B probability is in the 2nd array.   \n",
    "$P(B=T|C=T) = 0.810$"
   ]
  },
  {
   "cell_type": "markdown",
   "id": "4ddf32b8-3249-4be3-a2e1-286af188b7c5",
   "metadata": {},
   "source": [
    "### Query D"
   ]
  },
  {
   "cell_type": "code",
   "execution_count": 7,
   "id": "235e2769-c271-4dad-9ae8-faa9ac05acf2",
   "metadata": {},
   "outputs": [
    {
     "data": {
      "text/plain": [
       "0.8878923766816139"
      ]
     },
     "execution_count": 7,
     "metadata": {},
     "output_type": "execute_result"
    }
   ],
   "source": [
    "model.predict_proba([['T', None, 'T', None]])[0][1].parameters[0]['T']"
   ]
  },
  {
   "cell_type": "markdown",
   "id": "20eebb9f-066a-42b8-8fa7-c6652105b484",
   "metadata": {},
   "source": [
    "Node B is the first array.  \n",
    "$P(B=T|A=T,C=T) = 0.88$"
   ]
  },
  {
   "cell_type": "markdown",
   "id": "f49fc96f-ec73-48a0-8451-026f0544d24a",
   "metadata": {},
   "source": [
    "### Query E"
   ]
  },
  {
   "cell_type": "code",
   "execution_count": 8,
   "id": "2730771c-9057-40a4-9519-add728f96f10",
   "metadata": {},
   "outputs": [
    {
     "data": {
      "text/plain": [
       "0.10000000000000016"
      ]
     },
     "execution_count": 8,
     "metadata": {},
     "output_type": "execute_result"
    }
   ],
   "source": [
    "model.predict_proba([['F', 'F', None, 'F']])[0][2].parameters[0]['T']"
   ]
  },
  {
   "cell_type": "markdown",
   "id": "5210e3c0-9d5d-43d0-a685-aa394ee256de",
   "metadata": {},
   "source": [
    "Finally, the last one is in the 'True' part of the parameters of the third array of the result.\n",
    "$P(C=T|A=F,B=F,D=F) = 0.10$"
   ]
  },
  {
   "cell_type": "markdown",
   "id": "da97f651-2b37-497d-b014-18002a3bdaa2",
   "metadata": {},
   "source": [
    "# Naive Bayes\n"
   ]
  },
  {
   "cell_type": "markdown",
   "id": "cd2d2e7a-8951-4fba-85cd-86cef1edacea",
   "metadata": {},
   "source": [
    "![img3](img/img3.png)\n"
   ]
  },
  {
   "cell_type": "code",
   "execution_count": 9,
   "id": "95cd20ba-b2bc-4504-989a-ce95a88817fe",
   "metadata": {},
   "outputs": [],
   "source": [
    "from sklearn.datasets import load_wine\n",
    "\n",
    "from sklearn.model_selection import train_test_split, GridSearchCV\n",
    "\n",
    "\n",
    "from sklearn.naive_bayes import GaussianNB\n",
    "from sklearn.ensemble import ExtraTreesClassifier\n",
    "\n",
    "from sklearn.metrics import f1_score, accuracy_score\n",
    "\n",
    "import numpy as np\n",
    "import pandas as pd"
   ]
  },
  {
   "cell_type": "markdown",
   "id": "bb014338-df76-4ef1-a86e-a0f62c233b8a",
   "metadata": {},
   "source": [
    "## Split the data"
   ]
  },
  {
   "cell_type": "code",
   "execution_count": 10,
   "id": "0b93a271-4a9b-4fa1-a2fd-90b437863c69",
   "metadata": {},
   "outputs": [],
   "source": [
    "X, y = load_wine(return_X_y=True)"
   ]
  },
  {
   "cell_type": "code",
   "execution_count": 11,
   "id": "3d11374c-a818-44d0-b123-8f747ac1a51d",
   "metadata": {},
   "outputs": [],
   "source": [
    "dfTrain_X, dfTest_X, dfTrain_y, dfTest_y = train_test_split(X, y, test_size=0.1, random_state=1337)"
   ]
  },
  {
   "cell_type": "markdown",
   "id": "b32d13b3-3ee4-4bf3-9dc7-648c71134dfe",
   "metadata": {},
   "source": [
    "## a) Use Naive Bayes to classify the dataset, exploring different parameter values\n",
    "\n",
    "* Load and split the dataset."
   ]
  },
  {
   "cell_type": "markdown",
   "id": "2a65f83a-d8cc-4b08-a42c-e51cdf9dc53c",
   "metadata": {},
   "source": [
    "* Apply the sklearn implementation of the Gaussian Naive Bayes"
   ]
  },
  {
   "cell_type": "code",
   "execution_count": 12,
   "id": "28e26ecc-a197-4954-808d-1fa030531b31",
   "metadata": {},
   "outputs": [],
   "source": [
    "m_baselineGNB = GaussianNB().fit(dfTrain_X, dfTrain_y)"
   ]
  },
  {
   "cell_type": "markdown",
   "id": "fa4eccc4-e84e-410e-90d5-7a12503d51e8",
   "metadata": {},
   "source": [
    "* Predict with the model"
   ]
  },
  {
   "cell_type": "code",
   "execution_count": 13,
   "id": "005395e6-b69d-41f8-b5e7-67aff6aeeb07",
   "metadata": {},
   "outputs": [],
   "source": [
    "m_baselineGNB_predictions = m_baselineGNB.predict(dfTest_X)"
   ]
  },
  {
   "cell_type": "markdown",
   "id": "f7cd5caf-56b4-416a-b86e-64359fc4d569",
   "metadata": {},
   "source": [
    "* Evaluate the model results"
   ]
  },
  {
   "cell_type": "code",
   "execution_count": 14,
   "id": "e80ad0b8-d358-4a53-a9b1-4b6806ee9449",
   "metadata": {},
   "outputs": [
    {
     "name": "stdout",
     "output_type": "stream",
     "text": [
      "Gaussian Naive-Bayes:\n",
      "\tF1 Score: 0.7231884057971015\n",
      "\tAccuracy: 0.7777777777777778\n"
     ]
    }
   ],
   "source": [
    "print(f\"Gaussian Naive-Bayes:\\n\\tF1 Score: {f1_score(dfTest_y, m_baselineGNB_predictions, average='macro')}\\n\\tAccuracy: {accuracy_score(dfTest_y, m_baselineGNB_predictions)}\")"
   ]
  },
  {
   "cell_type": "markdown",
   "id": "6c23c2fb-c5d9-4238-9b9e-69f83e86b5bc",
   "metadata": {},
   "source": [
    "### Try different parameters with Gaussian Naive-Bayes\n",
    "\n",
    "Since the only thing avaliable for change are the priors, let us bootstrap the classes, and give their distribution as parameters."
   ]
  },
  {
   "cell_type": "code",
   "execution_count": 15,
   "id": "3713f414-7eed-4ca8-8003-737bdbf47ec5",
   "metadata": {},
   "outputs": [
    {
     "data": {
      "text/plain": [
       "array([1, 1, 0, 0, 0, 1, 0, 1, 2, 1, 1, 2, 1, 1, 1, 2, 1, 0, 1, 2, 0, 2,\n",
       "       0, 0, 1, 2, 0, 0, 1, 0, 1, 2, 1, 0, 1, 0, 0, 1, 0, 2, 0, 1, 1, 2,\n",
       "       1, 0, 1, 1, 2, 1, 1, 2, 1, 0, 1, 2, 2, 1, 1, 0, 1, 1, 0, 0, 0, 1,\n",
       "       1, 1, 2, 0, 2, 1, 1, 2, 1, 0, 2, 0, 1, 2, 0, 1, 2, 1, 1, 2, 1, 1,\n",
       "       2, 2, 1, 0, 0, 1, 0, 0, 0, 0, 0, 2, 0, 1, 2, 1, 2, 2, 2, 1, 0, 2,\n",
       "       0, 2, 1, 2, 1, 2, 2, 0, 0, 0, 2, 2, 1, 2, 2, 1, 1, 1, 2, 0, 2, 0,\n",
       "       1, 1, 1, 2, 1, 1, 1, 1, 2, 0, 0, 1, 0, 1, 2, 0, 2, 2, 0, 1, 1, 1,\n",
       "       1, 1, 2, 2, 1, 2])"
      ]
     },
     "execution_count": 15,
     "metadata": {},
     "output_type": "execute_result"
    }
   ],
   "source": [
    "dfTrain_y"
   ]
  },
  {
   "cell_type": "code",
   "execution_count": 16,
   "id": "8f16b03b-c106-43fb-a94f-a58c38acc81b",
   "metadata": {},
   "outputs": [
    {
     "data": {
      "text/plain": [
       "array([0.2912, 0.423 , 0.2858])"
      ]
     },
     "execution_count": 16,
     "metadata": {},
     "output_type": "execute_result"
    }
   ],
   "source": [
    "n_bootstrap = 1000\n",
    "n_samples = 5\n",
    "\n",
    "dfBootstrap = pd.DataFrame(columns = ['Class', 'Observations'])\n",
    "\n",
    "for i in range(0, n_bootstrap):\n",
    "    samples = np.random.choice(dfTrain_y, n_samples)\n",
    "    unique, counts = np.unique(samples, return_counts=True)\n",
    "    for n_class, count in zip(unique, counts):\n",
    "        data = [[n_class, count]]\n",
    "        dfI = pd.DataFrame(data, columns = ['Class', 'Observations'])\n",
    "        dfBootstrap = pd.concat([dfBootstrap, dfI])\n",
    "        \n",
    "dfFreqs = dfBootstrap.groupby(['Class']).agg('sum')['Observations']\n",
    "freqs = (dfFreqs / sum(dfFreqs)).to_numpy()\n",
    "freqs"
   ]
  },
  {
   "cell_type": "code",
   "execution_count": 17,
   "id": "c31c7d26-3e39-40b1-aeb6-3a9a3ab941b0",
   "metadata": {},
   "outputs": [
    {
     "name": "stdout",
     "output_type": "stream",
     "text": [
      "Gaussian Naive-Bayes:\n",
      "\tF1 Score: 0.7231884057971015\n",
      "\tAccuracy: 0.7777777777777778\n"
     ]
    }
   ],
   "source": [
    "m_freqsGNB = GaussianNB(priors=freqs).fit(dfTrain_X, dfTrain_y)\n",
    "m_freqsGNB_prediction = m_freqsGNB.predict(dfTest_X)\n",
    "\n",
    "print(f\"Gaussian Naive-Bayes:\\n\\tF1 Score: {f1_score(dfTest_y, m_freqsGNB_prediction, average='macro')}\\n\\tAccuracy: {accuracy_score(dfTest_y, m_freqsGNB_prediction)}\")"
   ]
  },
  {
   "cell_type": "markdown",
   "id": "518fb1f3-cdf4-4136-8994-566258ed9c31",
   "metadata": {},
   "source": [
    "We get the same results."
   ]
  },
  {
   "cell_type": "markdown",
   "id": "d94e5b94-171a-49e6-907b-d92c57bdd620",
   "metadata": {},
   "source": [
    "## Use Random Forests to classify the dataset, exploring different parameter values\n",
    "\n",
    "* Apply the sklearn implementation of an ensemble of Trees classifier\n"
   ]
  },
  {
   "cell_type": "code",
   "execution_count": 18,
   "id": "42da3dcd-b06a-4c5c-93c9-9bc13d11b485",
   "metadata": {},
   "outputs": [],
   "source": [
    "m_baselineETC = ExtraTreesClassifier(random_state=1337).fit(dfTrain_X, dfTrain_y)"
   ]
  },
  {
   "cell_type": "markdown",
   "id": "0001d782-f969-4259-ac65-0ca56fccbea1",
   "metadata": {},
   "source": [
    "* Predict with the model"
   ]
  },
  {
   "cell_type": "code",
   "execution_count": 19,
   "id": "4cb9f729-0cbf-431f-8133-4e2bc3819e48",
   "metadata": {},
   "outputs": [],
   "source": [
    "m_baselineETC_predictions = m_baselineETC.predict(dfTest_X)"
   ]
  },
  {
   "cell_type": "markdown",
   "id": "6aca0094-689d-44db-b473-b4a280e2d38f",
   "metadata": {},
   "source": [
    "* Evaluate the model results"
   ]
  },
  {
   "cell_type": "code",
   "execution_count": 20,
   "id": "bbff20b5-ad92-4fe8-8a43-b7884959f876",
   "metadata": {},
   "outputs": [
    {
     "name": "stdout",
     "output_type": "stream",
     "text": [
      "Ensemble of Trees:\n",
      "\tF1 Score: 0.8666666666666667\n",
      "\tAccuracy: 0.9444444444444444\n"
     ]
    }
   ],
   "source": [
    "print(f\"Ensemble of Trees:\\n\\tF1 Score: {f1_score(dfTest_y, m_baselineETC_predictions, average='macro')}\\n\\tAccuracy: {accuracy_score(dfTest_y, m_baselineETC_predictions)}\")"
   ]
  },
  {
   "cell_type": "markdown",
   "id": "d73a2d2b-1765-443a-bf0c-517a768cc48b",
   "metadata": {},
   "source": [
    "### Try different parameters with Tree Ensamble"
   ]
  },
  {
   "cell_type": "code",
   "execution_count": 27,
   "id": "1cddedb2-9d94-4c7a-91e7-831d9a255b1c",
   "metadata": {},
   "outputs": [
    {
     "data": {
      "text/plain": [
       "GridSearchCV(estimator=ExtraTreesClassifier(random_state=1337),\n",
       "             param_grid={'criterion': ['gini', 'entropy'],\n",
       "                         'max_depth': [2, 3, 4, 5],\n",
       "                         'max_features': ['auto', 'sqrt'],\n",
       "                         'n_estimators': [30, 40, 70, 100, 120, 150]},\n",
       "             scoring='precision_macro')"
      ]
     },
     "execution_count": 27,
     "metadata": {},
     "output_type": "execute_result"
    }
   ],
   "source": [
    "m_gridbaseETC = ExtraTreesClassifier(random_state=1337)\n",
    "\n",
    "gridParams = {\"n_estimators\": [30, 40, 70, 100, 120, 150], \n",
    "              \"criterion\": [\"gini\", \"entropy\"], \n",
    "              \"max_depth\": [2,3,4,5],\n",
    "              \"max_features\": [\"auto\", \"sqrt\"]}\n",
    "\n",
    "m_gridETC = GridSearchCV(m_gridbaseETC, gridParams, scoring='precision_macro')\n",
    "m_gridETC.fit(dfTrain_X, dfTrain_y)"
   ]
  },
  {
   "cell_type": "code",
   "execution_count": 28,
   "id": "25efd0c0-d768-4115-b327-e557dbb6e518",
   "metadata": {},
   "outputs": [
    {
     "data": {
      "text/plain": [
       "{'bootstrap': False,\n",
       " 'ccp_alpha': 0.0,\n",
       " 'class_weight': None,\n",
       " 'criterion': 'gini',\n",
       " 'max_depth': 5,\n",
       " 'max_features': 'auto',\n",
       " 'max_leaf_nodes': None,\n",
       " 'max_samples': None,\n",
       " 'min_impurity_decrease': 0.0,\n",
       " 'min_impurity_split': None,\n",
       " 'min_samples_leaf': 1,\n",
       " 'min_samples_split': 2,\n",
       " 'min_weight_fraction_leaf': 0.0,\n",
       " 'n_estimators': 40,\n",
       " 'n_jobs': None,\n",
       " 'oob_score': False,\n",
       " 'random_state': 1337,\n",
       " 'verbose': 0,\n",
       " 'warm_start': False}"
      ]
     },
     "execution_count": 28,
     "metadata": {},
     "output_type": "execute_result"
    }
   ],
   "source": [
    "m_gridbestETC = m_gridETC.best_estimator_\n",
    "m_gridbestETC.get_params()"
   ]
  },
  {
   "cell_type": "code",
   "execution_count": 29,
   "id": "fae92a0f-ce11-4db4-b412-5a8982238ee8",
   "metadata": {},
   "outputs": [],
   "source": [
    "m_gridbestETC_predictions = m_gridbestETC.predict(dfTest_X)"
   ]
  },
  {
   "cell_type": "code",
   "execution_count": 30,
   "id": "544b5ca9-070f-49d6-a25e-6e8f391c8567",
   "metadata": {},
   "outputs": [
    {
     "name": "stdout",
     "output_type": "stream",
     "text": [
      "Ensemble of Trees:\n",
      "\tF1 Score: 0.8888888888888888\n",
      "\tAccuracy: 0.8888888888888888\n"
     ]
    }
   ],
   "source": [
    "print(f\"Ensemble of Trees:\\n\\tF1 Score: {f1_score(dfTest_y, m_gridbestETC_predictions, average='macro')}\\n\\tAccuracy: {accuracy_score(dfTest_y, m_gridbestETC_predictions)}\")"
   ]
  },
  {
   "cell_type": "markdown",
   "id": "022a15e0-4fd8-4e03-b12d-e650c6e8c7da",
   "metadata": {},
   "source": [
    "The results improved over the baseline model."
   ]
  },
  {
   "cell_type": "code",
   "execution_count": null,
   "id": "eadd35be-29f9-4593-94dd-b2d6ff1fb17f",
   "metadata": {},
   "outputs": [],
   "source": []
  }
 ],
 "metadata": {
  "kernelspec": {
   "display_name": "Python 3 (ipykernel)",
   "language": "python",
   "name": "python3"
  },
  "language_info": {
   "codemirror_mode": {
    "name": "ipython",
    "version": 3
   },
   "file_extension": ".py",
   "mimetype": "text/x-python",
   "name": "python",
   "nbconvert_exporter": "python",
   "pygments_lexer": "ipython3",
   "version": "3.9.10"
  }
 },
 "nbformat": 4,
 "nbformat_minor": 5
}
