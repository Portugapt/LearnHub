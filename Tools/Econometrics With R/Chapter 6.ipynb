{
 "cells": [
  {
   "cell_type": "markdown",
   "id": "4f5ba9e4-dcbc-42c1-bd4f-16ac294ed3fd",
   "metadata": {},
   "source": [
    "# Regression Models with Multiple Regressors"
   ]
  },
  {
   "cell_type": "code",
   "execution_count": 1,
   "id": "65ff22bc-9fbd-43b2-8aad-43cd1347a24a",
   "metadata": {},
   "outputs": [],
   "source": [
    "import numpy as np\n",
    "import pandas as pd\n",
    "\n",
    "import matplotlib.pyplot as plt\n",
    "\n",
    "import scipy.stats as stats\n",
    "\n",
    "import statsmodels.api as sm\n",
    "import statsmodels.formula.api as smf"
   ]
  },
  {
   "cell_type": "markdown",
   "id": "295042e5-070f-4bd1-924a-d249bfc95e54",
   "metadata": {},
   "source": [
    "## Omitted Variable Bias"
   ]
  },
  {
   "cell_type": "markdown",
   "id": "6779303c-44c0-408b-8a32-0ef738f82786",
   "metadata": {},
   "source": [
    "The previous analysis of the relationship between test score and class size discussed in Chapters 4 and 5 has a major flaw: we ignored other determinants of the dependent variable (test score) that correlate with the regressor (class size). Remember that influences on the dependent variable which are not captured by the model are collected in the error term, which we so far assumed to be uncorrelated with the regressor. However, this assumption is violated if we exclude determinants of the dependent variable which vary with the regressor. This might induce an estimation bias, i.e., the mean of the OLS estimator’s sampling distribution is no longer equals the true mean. In our example we therefore wrongly estimate the causal effect on test scores of a unit change in the student-teacher ratio, on average. This issue is called omitted variable bias (OVB) and is summarized by Key Concept 6.1.\n",
    "\n",
    "![title](images/chapter6/img1.jpg)\n",
    "\n",
    "![title](images/chapter6/img2.png)"
   ]
  },
  {
   "cell_type": "markdown",
   "id": "a8a6a517-fc3b-453b-884a-a53fde1945f3",
   "metadata": {},
   "source": [
    "## Multiple regression model\n",
    "\n",
    "![title](images/chapter6/img3.png)"
   ]
  },
  {
   "cell_type": "markdown",
   "id": "5130a69d-ec17-4c12-a1c7-266f9baa20e7",
   "metadata": {},
   "source": [
    "We want to minimize $$ \\sum_{i=1}^n (Y_i - b_0 - b_1 X_{1i} - b_2 X_{2i} - \\dots -  b_k X_{ki})^2 \\tag{6.5} $$"
   ]
  },
  {
   "cell_type": "markdown",
   "id": "82e7595f-bb05-4ff4-91f2-ea1bdd79e570",
   "metadata": {},
   "source": [
    "SER <- sqrt(1/(n-k-1) * SSR)                    # standard error of the regression   \n",
    "Rsq <- 1 - (SSR / TSS)                          # R^2   \n",
    "adj_Rsq <- 1 - (n-1)/(n-k-1) * SSR/TSS          # adj. R^2   "
   ]
  },
  {
   "cell_type": "markdown",
   "id": "502c10ee-c52e-49f0-a489-65caa12aff78",
   "metadata": {},
   "source": [
    "As already mentioned, $\\bar{R}^2$ may be used to quantify how good a model fits the data. However, it is rarely a good idea to maximize these measures by stuffing the model with regressors. You will not find any serious study that does so. Instead, it is more useful to include regressors that improve the estimation of the causal effect of interest which is not assessed by means the $\\bar{R}^2$ of the model. The issue of variable selection is covered in Chapter 8."
   ]
  },
  {
   "cell_type": "markdown",
   "id": "93abe9fa-36ea-40fb-a170-0c43f1fc58d7",
   "metadata": {},
   "source": [
    "## Imperfect Multicollinearity\n",
    "\n",
    "If X1 and X2 are highly correlated, OLS struggles to precisely estimate β1.   \n",
    "That means that although ^β1 is a consistent and unbiased estimator for β1, it has a large variance due to X2 being included in the model.   \n",
    "\n",
    "https://www.econometrics-with-r.org/6-4-ols-assumptions-in-multiple-regression.html"
   ]
  },
  {
   "cell_type": "code",
   "execution_count": 8,
   "id": "b615245a-cc0c-4ebe-8c06-2e5f826b33dc",
   "metadata": {},
   "outputs": [],
   "source": [
    "CAS = pd.read_csv('https://raw.githubusercontent.com/ejvanholm/DataProjects/master/CASchools.csv', index_col = 0)\n",
    "\n",
    "CAS['STR'] = CAS['students']/CAS['teachers']\n",
    "CAS['score'] = (CAS['read'] + CAS['math'])/2  \n",
    "\n",
    "CAS['direction'] = np.random.choice([\"West\", \"North\", \"South\", \"East\"], size=420)"
   ]
  },
  {
   "cell_type": "code",
   "execution_count": 13,
   "id": "f23bd053-5dfd-4b98-bd0f-79059f61466b",
   "metadata": {},
   "outputs": [
    {
     "name": "stderr",
     "output_type": "stream",
     "text": [
      "/home/portugapt/.pyenv/versions/3.8.1/envs/LearnHub/lib/python3.8/site-packages/statsmodels/genmod/generalized_linear_model.py:293: DomainWarning: The inverse_power link function does not respect the domain of the Gamma family.\n",
      "  warnings.warn((f\"The {type(family.link).__name__} link function \"\n"
     ]
    }
   ],
   "source": [
    "formula = \"score ~ STR + english + C(direction)\"\n",
    "lm_model = smf.ols(\"score ~ STR + english + C(direction)\", data = CAS).fit()"
   ]
  },
  {
   "cell_type": "code",
   "execution_count": 14,
   "id": "ec12a256-2e20-44b1-9a16-0aa35b83d442",
   "metadata": {},
   "outputs": [
    {
     "data": {
      "text/html": [
       "<table class=\"simpletable\">\n",
       "<caption>Generalized Linear Model Regression Results</caption>\n",
       "<tr>\n",
       "  <th>Dep. Variable:</th>         <td>score</td>      <th>  No. Observations:  </th>   <td>   420</td>  \n",
       "</tr>\n",
       "<tr>\n",
       "  <th>Model:</th>                  <td>GLM</td>       <th>  Df Residuals:      </th>   <td>   414</td>  \n",
       "</tr>\n",
       "<tr>\n",
       "  <th>Model Family:</th>          <td>Gamma</td>      <th>  Df Model:          </th>   <td>     5</td>  \n",
       "</tr>\n",
       "<tr>\n",
       "  <th>Link Function:</th>     <td>inverse_power</td>  <th>  Scale:             </th> <td>0.00048397</td>\n",
       "</tr>\n",
       "<tr>\n",
       "  <th>Method:</th>                <td>IRLS</td>       <th>  Log-Likelihood:    </th>  <td> -1712.6</td> \n",
       "</tr>\n",
       "<tr>\n",
       "  <th>Date:</th>            <td>Wed, 08 Sep 2021</td> <th>  Deviance:          </th>  <td> 0.20024</td> \n",
       "</tr>\n",
       "<tr>\n",
       "  <th>Time:</th>                <td>00:08:10</td>     <th>  Pearson chi2:      </th>   <td> 0.200</td>  \n",
       "</tr>\n",
       "<tr>\n",
       "  <th>No. Iterations:</th>          <td>5</td>        <th>                     </th>      <td> </td>    \n",
       "</tr>\n",
       "<tr>\n",
       "  <th>Covariance Type:</th>     <td>nonrobust</td>    <th>                     </th>      <td> </td>    \n",
       "</tr>\n",
       "</table>\n",
       "<table class=\"simpletable\">\n",
       "<tr>\n",
       "            <td></td>               <th>coef</th>     <th>std err</th>      <th>z</th>      <th>P>|z|</th>  <th>[0.025</th>    <th>0.975]</th>  \n",
       "</tr>\n",
       "<tr>\n",
       "  <th>Intercept</th>             <td>    0.0015</td> <td> 1.77e-05</td> <td>   82.695</td> <td> 0.000</td> <td>    0.001</td> <td>    0.001</td>\n",
       "</tr>\n",
       "<tr>\n",
       "  <th>C(direction)[T.North]</th> <td>-3.497e-06</td> <td> 4.78e-06</td> <td>   -0.731</td> <td> 0.465</td> <td>-1.29e-05</td> <td> 5.88e-06</td>\n",
       "</tr>\n",
       "<tr>\n",
       "  <th>C(direction)[T.South]</th> <td>-6.147e-06</td> <td> 4.74e-06</td> <td>   -1.298</td> <td> 0.194</td> <td>-1.54e-05</td> <td> 3.14e-06</td>\n",
       "</tr>\n",
       "<tr>\n",
       "  <th>C(direction)[T.West]</th>  <td>-1.857e-06</td> <td> 4.82e-06</td> <td>   -0.385</td> <td> 0.700</td> <td>-1.13e-05</td> <td> 7.59e-06</td>\n",
       "</tr>\n",
       "<tr>\n",
       "  <th>STR</th>                   <td> 2.409e-06</td> <td> 8.88e-07</td> <td>    2.714</td> <td> 0.007</td> <td> 6.69e-07</td> <td> 4.15e-06</td>\n",
       "</tr>\n",
       "<tr>\n",
       "  <th>english</th>               <td> 1.569e-06</td> <td> 9.42e-08</td> <td>   16.657</td> <td> 0.000</td> <td> 1.38e-06</td> <td> 1.75e-06</td>\n",
       "</tr>\n",
       "</table>"
      ],
      "text/plain": [
       "<class 'statsmodels.iolib.summary.Summary'>\n",
       "\"\"\"\n",
       "                 Generalized Linear Model Regression Results                  \n",
       "==============================================================================\n",
       "Dep. Variable:                  score   No. Observations:                  420\n",
       "Model:                            GLM   Df Residuals:                      414\n",
       "Model Family:                   Gamma   Df Model:                            5\n",
       "Link Function:          inverse_power   Scale:                      0.00048397\n",
       "Method:                          IRLS   Log-Likelihood:                -1712.6\n",
       "Date:                Wed, 08 Sep 2021   Deviance:                      0.20024\n",
       "Time:                        00:08:10   Pearson chi2:                    0.200\n",
       "No. Iterations:                     5                                         \n",
       "Covariance Type:            nonrobust                                         \n",
       "=========================================================================================\n",
       "                            coef    std err          z      P>|z|      [0.025      0.975]\n",
       "-----------------------------------------------------------------------------------------\n",
       "Intercept                 0.0015   1.77e-05     82.695      0.000       0.001       0.001\n",
       "C(direction)[T.North] -3.497e-06   4.78e-06     -0.731      0.465   -1.29e-05    5.88e-06\n",
       "C(direction)[T.South] -6.147e-06   4.74e-06     -1.298      0.194   -1.54e-05    3.14e-06\n",
       "C(direction)[T.West]  -1.857e-06   4.82e-06     -0.385      0.700   -1.13e-05    7.59e-06\n",
       "STR                    2.409e-06   8.88e-07      2.714      0.007    6.69e-07    4.15e-06\n",
       "english                1.569e-06   9.42e-08     16.657      0.000    1.38e-06    1.75e-06\n",
       "=========================================================================================\n",
       "\"\"\""
      ]
     },
     "execution_count": 14,
     "metadata": {},
     "output_type": "execute_result"
    }
   ],
   "source": [
    "lm_model.summary()"
   ]
  },
  {
   "cell_type": "code",
   "execution_count": null,
   "id": "f28b12c9-e7eb-47e9-bc97-f3a7d227d71f",
   "metadata": {},
   "outputs": [],
   "source": []
  }
 ],
 "metadata": {
  "kernelspec": {
   "display_name": "Python 3 (ipykernel)",
   "language": "python",
   "name": "python3"
  },
  "language_info": {
   "codemirror_mode": {
    "name": "ipython",
    "version": 3
   },
   "file_extension": ".py",
   "mimetype": "text/x-python",
   "name": "python",
   "nbconvert_exporter": "python",
   "pygments_lexer": "ipython3",
   "version": "3.8.1"
  }
 },
 "nbformat": 4,
 "nbformat_minor": 5
}
