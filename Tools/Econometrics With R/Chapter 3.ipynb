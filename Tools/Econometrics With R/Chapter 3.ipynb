{
 "cells": [
  {
   "cell_type": "markdown",
   "id": "11a1ed97-8f22-428d-9162-6f9e7e5e6e43",
   "metadata": {},
   "source": [
    "#  Hypothesis Tests Concerning the Population Mean\n",
    "\n",
    "In hypothesis testing, two types of mistakes are possible:\n",
    "\n",
    "* The null hypothesis is rejected although it is true (type-I-error)\n",
    "\n",
    "* The null hypothesis is not rejected although it is false (type-II-error)\n"
   ]
  },
  {
   "cell_type": "code",
   "execution_count": 1,
   "id": "5bdf80e5-3fd8-41ee-a34d-502846d5d149",
   "metadata": {},
   "outputs": [],
   "source": [
    "import numpy as np\n",
    "import pandas as pd\n",
    "import scipy.stats as stats\n",
    "\n",
    "import os\n",
    "\n",
    "import matplotlib.pyplot as plt"
   ]
  },
  {
   "cell_type": "code",
   "execution_count": 2,
   "id": "1c7618d2-d02c-4f09-9843-bdc4ec7d30e9",
   "metadata": {},
   "outputs": [
    {
     "data": {
      "text/plain": [
       "220.66666666666666"
      ]
     },
     "execution_count": 2,
     "metadata": {},
     "output_type": "execute_result"
    }
   ],
   "source": [
    "arr = np.array([3, 2, 34])\n",
    "stats.moment(arr, 2)"
   ]
  },
  {
   "cell_type": "code",
   "execution_count": 3,
   "id": "b585199c-622d-4df1-aa34-e1df63f8f518",
   "metadata": {},
   "outputs": [
    {
     "data": {
      "text/plain": [
       "DescribeResult(nobs=3, minmax=(2, 34), mean=13.0, variance=331.0, skewness=0.7047042291017759, kurtosis=-1.4999999999999998)"
      ]
     },
     "execution_count": 3,
     "metadata": {},
     "output_type": "execute_result"
    }
   ],
   "source": [
    "stats.describe(arr)"
   ]
  },
  {
   "cell_type": "markdown",
   "id": "53406f79-d62d-4149-b989-c3595cfb23ac",
   "metadata": {},
   "source": [
    "## 1. Biased …\n",
    "\n",
    "Consider the following alternative estimator for μY, the mean of the Yi\n",
    "\n",
    "\n",
    "\n",
    "In this exercise we will illustrate that this estimator is a biased estimator for μY.\n",
    "\n",
    "Instructions:\n",
    "\n",
    "* Define a function Y_tilde that implements the estimator above.\n",
    "\n",
    "* Randomly draw 5 observations from the N(10,25) distribution and compute an estimate using Y_tilde(). Repeat this procedure 10000 times and store the results in est_biased.\n",
    "\n",
    "* Plot a histogram of est_biased.\n",
    "\n",
    "* Add a red vertical line at μ=10 using the function abline()."
   ]
  },
  {
   "cell_type": "code",
   "execution_count": 4,
   "id": "8fee7b21-37d9-45de-a65a-4ce632fcebb0",
   "metadata": {},
   "outputs": [],
   "source": [
    "def y_tilde(y):\n",
    "    return (1/(len(y)-1)) * np.sum(y)"
   ]
  },
  {
   "cell_type": "code",
   "execution_count": 5,
   "id": "9817a5ab-b820-4ff4-8b1c-67313c24e36c",
   "metadata": {},
   "outputs": [],
   "source": [
    "my_norm_1 = stats.norm(10, np.sqrt(25))"
   ]
  },
  {
   "cell_type": "code",
   "execution_count": 6,
   "id": "e2c3f54a-1e0b-4104-9a60-f3e50d145db7",
   "metadata": {},
   "outputs": [],
   "source": [
    "est_biased = []\n",
    "for i in range(1,10000):\n",
    "    est_biased.append(y_tilde(my_norm_1.rvs(5)))"
   ]
  },
  {
   "cell_type": "code",
   "execution_count": 7,
   "id": "179f83ef-2540-4806-81de-9330b098d1ed",
   "metadata": {},
   "outputs": [
    {
     "data": {
      "image/png": "[encoded data removed]",
      "text/plain": [
       "<Figure size 432x288 with 1 Axes>"
      ]
     },
     "metadata": {
      "needs_background": "light"
     },
     "output_type": "display_data"
    }
   ],
   "source": [
    "%matplotlib inline\n",
    "\n",
    "plt.hist(est_biased, bins=33)\n",
    "plt.axvline(10, color = 'red')\n",
    "plt.show()"
   ]
  },
  {
   "cell_type": "markdown",
   "id": "ef480dd2-eff9-42da-8a97-b7370ffb6a20",
   "metadata": {},
   "source": [
    "## 2. … but consistent estimator\n",
    "\n",
    "Consider again the estimator from the previous exercise. It is available in your environment as the function Y_tilde(). You are requested to do the same procedure as in the previous exercise. This time, however, increase the number of observations to draw from 5 to 1000.\n",
    "\n",
    "What do you notice? What can you say about this estimator?\n",
    "\n",
    "Instructions:\n",
    "\n",
    "* Randomly draw 1000 observations from the N(10,25) distribution and compute an estimate of the mean using Y_tilde(). Repeat this procedure 10000 times and store the results in est_consistent.\n",
    "\n",
    "* Plot a histogram of est_consistent.\n",
    "\n",
    "* Add a red vertical line at μ=10 using the function abline()."
   ]
  },
  {
   "cell_type": "code",
   "execution_count": 8,
   "id": "b128e67b-cd97-4e50-9d7b-497da0a435ec",
   "metadata": {},
   "outputs": [],
   "source": [
    "est_consistent = []\n",
    "for i in range(1,10000):\n",
    "    est_consistent.append(y_tilde(my_norm_1.rvs(1000)))"
   ]
  },
  {
   "cell_type": "code",
   "execution_count": 9,
   "id": "b992157c-193d-4227-b1d8-6c164a3b938d",
   "metadata": {},
   "outputs": [
    {
     "data": {
      "image/png": "[encoded data removed]",
      "text/plain": [
       "<Figure size 432x288 with 1 Axes>"
      ]
     },
     "metadata": {
      "needs_background": "light"
     },
     "output_type": "display_data"
    }
   ],
   "source": [
    "%matplotlib inline\n",
    "\n",
    "plt.hist(est_consistent, bins=33)\n",
    "plt.axvline(10, color = 'red')\n",
    "plt.show()"
   ]
  },
  {
   "cell_type": "markdown",
   "id": "e05e2831-b96f-4b1d-8d37-6f7e51923682",
   "metadata": {},
   "source": [
    "## 3. Efficiency of an Estimator\n",
    "\n",
    "In this exercise we want to illustrate the result that the sample mean ^μY=n∑i=1aiYi\n",
    "with the equal weighting scheme ai=1n for i=1,...,n is the best linear unbiased estimator (BLUE) of μY.\n",
    "\n",
    "As an alternative, consider the estimator\n",
    "\n",
    "~μY=n∑i=1biYi\n",
    "\n",
    "where bi gives the first n2 observations a higher weighting than the second n2 observations (we assume that n is even for simplicity).\n",
    "\n",
    "The vector of weights w has been defined already and is available in your working environment.\n",
    "\n",
    "Instructions:\n",
    "\n",
    "* Verify that ~μ is an unbiased estimator of μY, the mean of the Yi.\n",
    "\n",
    "* Implement the alternative estimator of μY as a function mu_tilde().\n",
    "\n",
    "* Randomly draw 100 observations from the N(5,10) distribution and compute estimates with both estimators. \n",
    "\n",
    "* Repeat this procedure 10000 times and store the results in est_bar and est_tilde.\n",
    "\n",
    "* Compute the sample variances of est_bar and est_tilde. What can you say about both estimators?"
   ]
  },
  {
   "cell_type": "code",
   "execution_count": 10,
   "id": "119279a9-3bed-47e5-85bf-6233f5496778",
   "metadata": {},
   "outputs": [
    {
     "data": {
      "text/plain": [
       "99.99999999999794"
      ]
     },
     "execution_count": 10,
     "metadata": {},
     "output_type": "execute_result"
    }
   ],
   "source": [
    "n = 100\n",
    "w = []\n",
    "for i in range(1, int(n/2)+1):\n",
    "    w.append((1+0.5)/(n))\n",
    "for i in range(1, int(n/2)+1):\n",
    "    w.append((1-0.5)/(n))\n",
    "\n",
    "sum(w*n)"
   ]
  },
  {
   "cell_type": "code",
   "execution_count": 11,
   "id": "9ab89fc4-d995-4fe1-a02a-19a583f800c9",
   "metadata": {},
   "outputs": [],
   "source": [
    "def mu_tilde(x):\n",
    "    return sum(w*x)"
   ]
  },
  {
   "cell_type": "code",
   "execution_count": 12,
   "id": "f340776b-504d-4b0c-9da4-4255af6360c7",
   "metadata": {},
   "outputs": [],
   "source": [
    "my_norm_2 = stats.norm(5, 10)\n",
    "est_bar = []\n",
    "for i in range(1,10000):\n",
    "    est_bar.append(np.mean(my_norm_2.rvs(100)))"
   ]
  },
  {
   "cell_type": "code",
   "execution_count": 13,
   "id": "41f24f2e-13e0-4c4e-ae74-ac75202b19e4",
   "metadata": {},
   "outputs": [],
   "source": [
    "est_tilde = []\n",
    "for i in range(1,10000):\n",
    "    est_tilde.append(mu_tilde(my_norm_2.rvs(100)))"
   ]
  },
  {
   "cell_type": "code",
   "execution_count": 14,
   "id": "a99f63ca-4765-4a7f-86c6-767749299400",
   "metadata": {},
   "outputs": [
    {
     "data": {
      "text/plain": [
       "1.0194384758963613"
      ]
     },
     "execution_count": 14,
     "metadata": {},
     "output_type": "execute_result"
    }
   ],
   "source": [
    "np.var(est_bar)"
   ]
  },
  {
   "cell_type": "code",
   "execution_count": 15,
   "id": "c2bcd5e0-5892-4533-af97-43f3291817a5",
   "metadata": {},
   "outputs": [
    {
     "data": {
      "text/plain": [
       "1.2754272241646525"
      ]
     },
     "execution_count": 15,
     "metadata": {},
     "output_type": "execute_result"
    }
   ],
   "source": [
    "np.var(est_tilde)"
   ]
  },
  {
   "cell_type": "markdown",
   "id": "f4a46ffb-52ab-40c5-aef0-3065c399ccac",
   "metadata": {},
   "source": [
    "## 4. Hypothesis Test — t-statistic\n",
    "\n",
    "Consider the CPS dataset from Chapter 3.6 again. The dataset cps is available in your working environment.\n",
    "\n",
    "We suppose that the average hourly earnings (in prices of 2012) ahe12 exceed 23.50 $/h and wish to test this hypothesis at a significance level of α=0.05. \n",
    "\n",
    "Please do the following:\n",
    "\n",
    "Instructions:\n",
    "\n",
    "* Compute the test statistic by hand and assign it to tstat.\n",
    "\n",
    "* Use tstat to accept or reject the null hypothesis. Please do so using the normal approximation.\n"
   ]
  },
  {
   "cell_type": "code",
   "execution_count": 16,
   "id": "6f358b76-94f3-4963-b97c-5e7c41302043",
   "metadata": {},
   "outputs": [],
   "source": [
    "cps = pd.read_csv('data/cps_ch3.csv', sep = ';')"
   ]
  },
  {
   "cell_type": "code",
   "execution_count": 17,
   "id": "568c1217-5382-49f8-a8eb-1250c0427d85",
   "metadata": {},
   "outputs": [
    {
     "data": {
      "text/html": [
       "<div>\n",
       "<style scoped>\n",
       "    .dataframe tbody tr th:only-of-type {\n",
       "        vertical-align: middle;\n",
       "    }\n",
       "\n",
       "    .dataframe tbody tr th {\n",
       "        vertical-align: top;\n",
       "    }\n",
       "\n",
       "    .dataframe thead th {\n",
       "        text-align: right;\n",
       "    }\n",
       "</style>\n",
       "<table border=\"1\" class=\"dataframe\">\n",
       "  <thead>\n",
       "    <tr style=\"text-align: right;\">\n",
       "      <th></th>\n",
       "      <th>a_sex</th>\n",
       "      <th>year</th>\n",
       "      <th>ahe12</th>\n",
       "    </tr>\n",
       "  </thead>\n",
       "  <tbody>\n",
       "    <tr>\n",
       "      <th>0</th>\n",
       "      <td>1</td>\n",
       "      <td>1992</td>\n",
       "      <td>18.309689</td>\n",
       "    </tr>\n",
       "    <tr>\n",
       "      <th>1</th>\n",
       "      <td>1</td>\n",
       "      <td>1992</td>\n",
       "      <td>16.364285</td>\n",
       "    </tr>\n",
       "    <tr>\n",
       "      <th>2</th>\n",
       "      <td>1</td>\n",
       "      <td>1992</td>\n",
       "      <td>24.476494</td>\n",
       "    </tr>\n",
       "    <tr>\n",
       "      <th>3</th>\n",
       "      <td>2</td>\n",
       "      <td>1992</td>\n",
       "      <td>14.171628</td>\n",
       "    </tr>\n",
       "    <tr>\n",
       "      <th>4</th>\n",
       "      <td>1</td>\n",
       "      <td>1992</td>\n",
       "      <td>23.602333</td>\n",
       "    </tr>\n",
       "    <tr>\n",
       "      <th>...</th>\n",
       "      <td>...</td>\n",
       "      <td>...</td>\n",
       "      <td>...</td>\n",
       "    </tr>\n",
       "    <tr>\n",
       "      <th>19345</th>\n",
       "      <td>2</td>\n",
       "      <td>2012</td>\n",
       "      <td>17.307692</td>\n",
       "    </tr>\n",
       "    <tr>\n",
       "      <th>19346</th>\n",
       "      <td>2</td>\n",
       "      <td>2012</td>\n",
       "      <td>26.573427</td>\n",
       "    </tr>\n",
       "    <tr>\n",
       "      <th>19347</th>\n",
       "      <td>1</td>\n",
       "      <td>2012</td>\n",
       "      <td>46.153847</td>\n",
       "    </tr>\n",
       "    <tr>\n",
       "      <th>19348</th>\n",
       "      <td>2</td>\n",
       "      <td>2012</td>\n",
       "      <td>17.521368</td>\n",
       "    </tr>\n",
       "    <tr>\n",
       "      <th>19349</th>\n",
       "      <td>1</td>\n",
       "      <td>2012</td>\n",
       "      <td>9.615385</td>\n",
       "    </tr>\n",
       "  </tbody>\n",
       "</table>\n",
       "<p>19350 rows × 3 columns</p>\n",
       "</div>"
      ],
      "text/plain": [
       "       a_sex  year      ahe12\n",
       "0          1  1992  18.309689\n",
       "1          1  1992  16.364285\n",
       "2          1  1992  24.476494\n",
       "3          2  1992  14.171628\n",
       "4          1  1992  23.602333\n",
       "...      ...   ...        ...\n",
       "19345      2  2012  17.307692\n",
       "19346      2  2012  26.573427\n",
       "19347      1  2012  46.153847\n",
       "19348      2  2012  17.521368\n",
       "19349      1  2012   9.615385\n",
       "\n",
       "[19350 rows x 3 columns]"
      ]
     },
     "execution_count": 17,
     "metadata": {},
     "output_type": "execute_result"
    }
   ],
   "source": [
    "cps"
   ]
  },
  {
   "cell_type": "code",
   "execution_count": 18,
   "id": "7b3404d5-78a3-423c-ac0b-7090fa6c3842",
   "metadata": {},
   "outputs": [
    {
     "data": {
      "text/plain": [
       "Ttest_1sampResult(statistic=3.739356464602733, pvalue=0.0001850237078265723)"
      ]
     },
     "execution_count": 18,
     "metadata": {},
     "output_type": "execute_result"
    }
   ],
   "source": [
    "# With scipy\n",
    "stats.ttest_1samp(cps['ahe12'], 23.5)"
   ]
  },
  {
   "cell_type": "code",
   "execution_count": 19,
   "id": "78cad60e-bf34-4d3f-b119-2e45e9bd1c82",
   "metadata": {},
   "outputs": [],
   "source": [
    "# By hand\n",
    "tstat = (np.mean(cps['ahe12']) - 23.5)/(np.std(cps['ahe12'])/np.sqrt(len(cps['ahe12'])-1))"
   ]
  },
  {
   "cell_type": "code",
   "execution_count": 20,
   "id": "19af7cc3-85b7-48cd-9211-4c68c9af2b19",
   "metadata": {},
   "outputs": [
    {
     "data": {
      "text/plain": [
       "3.7393564646027326"
      ]
     },
     "execution_count": 20,
     "metadata": {},
     "output_type": "execute_result"
    }
   ],
   "source": [
    "tstat"
   ]
  },
  {
   "cell_type": "code",
   "execution_count": 21,
   "id": "627c13a0-d5ea-4c98-999f-5944c9b98233",
   "metadata": {},
   "outputs": [
    {
     "data": {
      "text/plain": [
       "False"
      ]
     },
     "execution_count": 21,
     "metadata": {},
     "output_type": "execute_result"
    }
   ],
   "source": [
    "tstat < stats.norm(0,1).ppf(0.95)"
   ]
  },
  {
   "cell_type": "markdown",
   "id": "a5d530e8-9e17-4531-9089-630d15db2ee1",
   "metadata": {},
   "source": [
    "We do not reject the null hypothesis, that the hourly rate exceeds 23.5$/hr"
   ]
  },
  {
   "cell_type": "markdown",
   "id": "e8690e0a-bb6c-4aae-a868-43fbad74c059",
   "metadata": {},
   "source": [
    "To decide whether the null hypothesis is accepted or rejected you can compare the t-statistic with the respective quantile of the standard normal distribution. Use logical operators."
   ]
  },
  {
   "cell_type": "markdown",
   "id": "1343b39d-dd93-47f4-8fc9-5b331bb68d96",
   "metadata": {},
   "source": [
    "## 5. Hypothesis Test — p-value\n",
    "\n",
    "Reconsider the test situation from the previous exercise. The dataset cps as well as the vector tstat are available in your working environment.\n",
    "\n",
    "Instead of using the t-statistic as decision criterion you may also use the p-value. Now please do the following:\n",
    "\n",
    "Instructions:\n",
    "\n",
    "* Compute the p-value by hand and assign it to pval.\n",
    "\n",
    "* Use pval to accept or reject the null hypothesis."
   ]
  },
  {
   "cell_type": "code",
   "execution_count": 22,
   "id": "d064e6e0-deeb-4907-95b2-14b29abdaedd",
   "metadata": {},
   "outputs": [],
   "source": [
    "pval = 1 - stats.norm().cdf(tstat)"
   ]
  },
  {
   "cell_type": "code",
   "execution_count": 23,
   "id": "c545b0e5-85b9-47f4-b8d6-8f244eb08ea4",
   "metadata": {},
   "outputs": [
    {
     "data": {
      "text/plain": [
       "True"
      ]
     },
     "execution_count": 23,
     "metadata": {},
     "output_type": "execute_result"
    }
   ],
   "source": [
    "pval < 0.05"
   ]
  },
  {
   "cell_type": "markdown",
   "id": "2048b6a4-1b20-4ed8-a40e-18c1e7c37d5d",
   "metadata": {},
   "source": [
    "We do not reject the null hypothesis, that the hourly rate exceeds 23.5$/hr"
   ]
  },
  {
   "cell_type": "markdown",
   "id": "6fd77c02-6282-4006-aba6-6e33c8a91406",
   "metadata": {},
   "source": [
    "## 6. Hypothesis Test — One Sample t-test\n",
    "\n",
    "In the last two exercises we discussed two ways of conducting a hypothesis test. These approaches are somewhat cumbersome to apply by hand which is why R provides the function t.test(). It does most of the work automatically. t.test() provides t\n",
    "-statistics, p-values and even confidence intervals (more on the latter in later exercises). Note that t.test() uses the t-distribution instead of the normal distribution which becomes important when the sample size is small.\n",
    "\n",
    "The dataset cps and the variable pval from Exercise 3.4 are available in your working environment.\n",
    "\n",
    "Instructions:\n",
    "\n",
    "* Conduct the hypothesis test from previous exercises using the function t.test().\n",
    "\n",
    "* Extract the t -statistic and the p-value from the list created by t.test(). Assign them to the variables tstat and pvalue.\n",
    "\n",
    "* Verify that using the normal approximation here is valid as well by computing the difference between both p-values."
   ]
  },
  {
   "cell_type": "code",
   "execution_count": 25,
   "id": "8523748b-4cc4-449f-baf8-b045d2562e97",
   "metadata": {},
   "outputs": [],
   "source": [
    "ttest = stats.ttest_1samp(cps['ahe12'], 23.5)"
   ]
  },
  {
   "cell_type": "code",
   "execution_count": 28,
   "id": "0c100c4c-c730-441d-a20e-a3996dd7f292",
   "metadata": {},
   "outputs": [
    {
     "name": "stdout",
     "output_type": "stream",
     "text": [
      "Ttest_1sampResult(statistic=3.739356464602733, pvalue=0.0001850237078265723)\n",
      "3.739356464602733\n",
      "0.0001850237078265723\n"
     ]
    }
   ],
   "source": [
    "print(ttest)\n",
    "print(ttest[0])\n",
    "print(ttest[1])"
   ]
  },
  {
   "cell_type": "code",
   "execution_count": 29,
   "id": "6e9e865a-7dd8-47cd-bda7-4189be54ed91",
   "metadata": {},
   "outputs": [
    {
     "data": {
      "text/plain": [
       "-9.277773003345724e-05"
      ]
     },
     "execution_count": 29,
     "metadata": {},
     "output_type": "execute_result"
    }
   ],
   "source": [
    "pval - ttest[1]"
   ]
  },
  {
   "cell_type": "markdown",
   "id": "cf48e34c-1032-48de-8366-378f333bd860",
   "metadata": {},
   "source": [
    "## 7. Hypothesis Test — Two Sample t-test\n",
    "\n",
    "Consider the annual maximum sea levels at Port Pirie (Southern Australia) and Fremantle (Western Australia) for the last 30 years.\n",
    "\n",
    "The observations are made available as vectors portpirie and fremantle in your working environment.\n",
    "\n",
    "Instructions:\n",
    "\n",
    "* Test whether there is a significant difference in the annual maximum sea levels at a significance level of α=0.05\n",
    "\n",
    "."
   ]
  },
  {
   "cell_type": "code",
   "execution_count": 38,
   "id": "a6210a24-48b8-4e98-80b2-12f0d8d8355b",
   "metadata": {},
   "outputs": [],
   "source": [
    "portpirie = np.array([3.887578, 4.388305, 4.008977, 4.483017, 4.540467, 3.645556, 4.128105, 4.492419, \n",
    "4.151435, 4.056615, 4.556833, 4.053334, 4.277571, 4.172633, 3.702925, 4.499825, \n",
    "3.846088, 3.642060, 3.927921, 4.554504, 4.489539, 4.292803, 4.240507, 4.594270, \n",
    "4.255706, 4.308530, 4.144066, 4.194142, 3.889160, 3.747114])\n",
    "\n",
    "fremantle = np.array([1.777815, 1.741379, 1.614423, 1.677280, 1.214768, 1.486678, 1.655076, 1.329845, \n",
    "            1.390909, 1.338975, 1.285680, 1.448728, 1.448235, 1.421307, 1.291467, 1.283284, \n",
    "            1.339820, 1.479577, 1.359584, 1.714697, 1.227499, 1.465320, 1.679355, 1.273140, \n",
    "            1.536569, 1.323919, 1.276519, 1.651985, 1.737027, 1.424678])"
   ]
  },
  {
   "cell_type": "code",
   "execution_count": 33,
   "id": "19cbc77d-0ac0-4b61-9d26-2453a8bdefe4",
   "metadata": {},
   "outputs": [
    {
     "name": "stdout",
     "output_type": "stream",
     "text": [
      "Ttest_indResult(statistic=43.727350748286135, pvalue=4.207226753051045e-46)\n"
     ]
    }
   ],
   "source": [
    "ttest_ind_1 = stats.ttest_ind(portpirie, fremantle)\n",
    "print(ttest_ind_1)"
   ]
  },
  {
   "cell_type": "markdown",
   "id": "ce1f7f16-5ea5-4d9f-b470-4aa2818d32c4",
   "metadata": {},
   "source": [
    "P-value < 0.05, therefore we reject the null hypothesis."
   ]
  },
  {
   "cell_type": "markdown",
   "id": "a0061996-85a1-487b-882d-57529cca13e7",
   "metadata": {},
   "source": [
    "## 8. Confidence Interval\n",
    "\n",
    "Reconsider the test situation concerning the annual maximum sea levels at Port Pirie and Fremantle.\n",
    "\n",
    "The variables portpirie and fremantle are again available in your working environment.\n",
    "\n",
    "Instructions:\n",
    "\n",
    "* Construct a 95%-confidence interval for the difference in the sea levels using t.test().\n",
    "\n",
    "https://nikolh92.medium.com/confidence-intervals-in-hypothesis-testing-3dd573287d0e\n",
    "\n",
    "https://stats.stackexchange.com/questions/475289/confidence-interval-for-2-sample-t-test-with-scipy"
   ]
  },
  {
   "cell_type": "code",
   "execution_count": 34,
   "id": "43b12737-f8db-44a4-b944-ffe1401e7e04",
   "metadata": {},
   "outputs": [
    {
     "data": {
      "text/plain": [
       "(-2.015722555656899, 2.015722555656899)"
      ]
     },
     "execution_count": 34,
     "metadata": {},
     "output_type": "execute_result"
    }
   ],
   "source": [
    "stats.t.interval(0.95, ttest_ind_1[0])"
   ]
  },
  {
   "cell_type": "code",
   "execution_count": 35,
   "id": "a3d5cff1-579b-43ac-8b67-219d4c25cef6",
   "metadata": {},
   "outputs": [],
   "source": [
    "def welch_ttest(x1, x2,alternative):\n",
    "    \n",
    "    n1 = x1.size\n",
    "    n2 = x2.size\n",
    "    m1 = np.mean(x1)\n",
    "    m2 = np.mean(x2)\n",
    "    \n",
    "    v1 = np.var(x1, ddof=1)\n",
    "    v2 = np.var(x2, ddof=1)\n",
    "    \n",
    "    pooled_se = np.sqrt(v1 / n1 + v2 / n2)\n",
    "    delta = m1-m2\n",
    "    \n",
    "    tstat = delta /  pooled_se\n",
    "    df = (v1 / n1 + v2 / n2)**2 / (v1**2 / (n1**2 * (n1 - 1)) + v2**2 / (n2**2 * (n2 - 1)))\n",
    "    \n",
    "    # two side t-test\n",
    "    p = 2 * stats.t.cdf(-abs(tstat), df)\n",
    "    \n",
    "    # upper and lower bounds\n",
    "    lb = delta - stats.t.ppf(0.975,df)*pooled_se \n",
    "    ub = delta + stats.t.ppf(0.975,df)*pooled_se\n",
    "  \n",
    "    return pd.DataFrame(np.array([tstat,df,p,delta,lb,ub]).reshape(1,-1),\n",
    "                         columns=['T statistic','df','pvalue 2 sided','Difference in mean','lb','ub'])"
   ]
  },
  {
   "cell_type": "code",
   "execution_count": 39,
   "id": "0b4b73ff-9cfa-4e27-aadf-aa8612875c50",
   "metadata": {},
   "outputs": [
    {
     "data": {
      "text/html": [
       "<div>\n",
       "<style scoped>\n",
       "    .dataframe tbody tr th:only-of-type {\n",
       "        vertical-align: middle;\n",
       "    }\n",
       "\n",
       "    .dataframe tbody tr th {\n",
       "        vertical-align: top;\n",
       "    }\n",
       "\n",
       "    .dataframe thead th {\n",
       "        text-align: right;\n",
       "    }\n",
       "</style>\n",
       "<table border=\"1\" class=\"dataframe\">\n",
       "  <thead>\n",
       "    <tr style=\"text-align: right;\">\n",
       "      <th></th>\n",
       "      <th>T statistic</th>\n",
       "      <th>df</th>\n",
       "      <th>pvalue 2 sided</th>\n",
       "      <th>Difference in mean</th>\n",
       "      <th>lb</th>\n",
       "      <th>ub</th>\n",
       "    </tr>\n",
       "  </thead>\n",
       "  <tbody>\n",
       "    <tr>\n",
       "      <th>0</th>\n",
       "      <td>43.727351</td>\n",
       "      <td>47.347388</td>\n",
       "      <td>6.175523e-40</td>\n",
       "      <td>2.709216</td>\n",
       "      <td>2.584598</td>\n",
       "      <td>2.833833</td>\n",
       "    </tr>\n",
       "  </tbody>\n",
       "</table>\n",
       "</div>"
      ],
      "text/plain": [
       "   T statistic         df  pvalue 2 sided  Difference in mean        lb  \\\n",
       "0    43.727351  47.347388    6.175523e-40            2.709216  2.584598   \n",
       "\n",
       "         ub  \n",
       "0  2.833833  "
      ]
     },
     "execution_count": 39,
     "metadata": {},
     "output_type": "execute_result"
    }
   ],
   "source": [
    "welch_ttest(portpirie, fremantle, 'equal')"
   ]
  },
  {
   "cell_type": "markdown",
   "id": "955a2256-bde2-4a0f-9c60-ecc32ab215f0",
   "metadata": {},
   "source": [
    "## 9. (Co)variance and Correlation I\n",
    "\n",
    "Consider a random sample (Xi,Yi)for i=1,...,100.\n",
    "\n",
    "The respective vectors X and Y are available in your working environment.\n",
    "\n",
    "Instructions:\n",
    "\n",
    "* Compute the variance of X using the function cov().\n",
    "\n",
    "* Compute the covariance of X and Y .\n",
    "\n",
    "* Compute the correlation between X and Y."
   ]
  },
  {
   "cell_type": "code",
   "execution_count": 43,
   "id": "15f7050e-dfbf-46d8-896d-f9f857c6b263",
   "metadata": {},
   "outputs": [],
   "source": [
    "X = np.array([964.3713, 953.7341, 969.2027, 975.3694, 910.6410, 960.0536, 932.2109, 995.2225, \n",
    "                974.3802, 946.3636, 900.9727, 976.8978, 983.7045, 929.5926, 954.7044, 944.2021, \n",
    "                941.8334, 948.7131, 956.1493, 981.7413, 900.5950, 938.7707, 907.0245, 928.3049, \n",
    "                966.8805, 937.9465, 911.9181, 904.9614, 992.7973, 934.4413, 995.9829, 992.9211, \n",
    "                903.5465, 977.4982, 985.4366, 961.9433, 916.9071, 991.8990, 989.4150, 994.7932, \n",
    "                947.2924, 904.8781, 965.4151, 955.2977, 927.9562, 922.7565, 914.7161, 904.5756, \n",
    "                980.8800, 957.2114, 975.4402, 934.8289, 916.3154, 983.9422, 990.5671, 916.8528, \n",
    "                908.3079, 998.7081, 977.8956, 918.2694, 980.4892, 911.0413, 925.0522, 950.1544, \n",
    "                989.0767, 976.8626, 954.5461, 907.6052, 984.5619, 924.2356, 921.9286, 997.1384, \n",
    "                927.4333, 960.2670, 979.7899, 913.8353, 966.0008, 955.2121, 950.4926, 983.9724, \n",
    "                964.6497, 908.2850, 961.5084, 949.5428, 922.9405, 985.6921, 945.3756, 909.4013, \n",
    "                970.8157, 979.1741, 900.3688, 937.5860, 904.7529, 975.5246, 904.5111, 951.3177, \n",
    "                920.2289, 953.7644, 932.5496, 958.3716])\n",
    "\n",
    "Y = np.array([2619.161, 2762.331, 2996.383, 2828.683, 2542.701, 2949.092, 2698.442, 2852.761,\n",
    "                2960.641, 2928.956, 2616.419, 2936.788, 3066.223, 2739.196, 2854.554, 2857.916,\n",
    "                2777.424, 2790.310, 2948.539, 2899.909, 2709.740, 2824.113, 2842.623, 2880.987,\n",
    "                2966.009, 2923.503, 2790.960, 2699.441, 2994.772, 2844.072, 3133.768, 3135.405,\n",
    "                2789.587, 2837.655, 2987.305, 2736.246, 2589.131, 2881.194, 2929.651, 2971.813,\n",
    "                2948.802, 2692.969, 2792.615, 2844.411, 2818.204, 2833.262, 2634.382, 2780.056,\n",
    "                3004.494, 2796.508, 3067.589, 2745.435, 2723.442, 2989.252, 2929.690, 2699.230,\n",
    "                2619.038, 3061.760, 2962.768, 2764.619, 2884.439, 2698.662, 2733.957, 2929.461,\n",
    "                3099.485, 2965.682, 3152.400, 2614.042, 3007.706, 2884.111, 2861.039, 3018.833,\n",
    "                2749.426, 2835.230, 2991.865, 2793.129, 2871.626, 2840.475, 2716.083, 2909.774,\n",
    "                2822.295, 2795.814, 2958.987, 2975.506, 2658.192, 2973.955, 2914.582, 2600.404,\n",
    "                2989.576, 2787.627, 2941.672, 2779.931, 2762.769, 2964.184, 2660.908, 2800.240,\n",
    "                2831.533, 2812.698, 2813.342, 2955.034])"
   ]
  },
  {
   "cell_type": "code",
   "execution_count": 42,
   "id": "fc882a69-b116-43fa-8f67-c621f22dc871",
   "metadata": {},
   "outputs": [
    {
     "data": {
      "text/plain": [
       "array([[897.16734028, 897.16734028],\n",
       "       [897.16734028, 897.16734028]])"
      ]
     },
     "execution_count": 42,
     "metadata": {},
     "output_type": "execute_result"
    }
   ],
   "source": [
    "np.cov(X, X)"
   ]
  },
  {
   "cell_type": "code",
   "execution_count": 44,
   "id": "f4d150f1-d542-4269-b8e7-6cea97edc5ba",
   "metadata": {},
   "outputs": [
    {
     "data": {
      "text/plain": [
       "array([[  897.16734028,  2857.19877382],\n",
       "       [ 2857.19877382, 17580.48367689]])"
      ]
     },
     "execution_count": 44,
     "metadata": {},
     "output_type": "execute_result"
    }
   ],
   "source": [
    "np.cov(X, Y)"
   ]
  },
  {
   "cell_type": "code",
   "execution_count": 47,
   "id": "cd643f44-7f7b-415f-8e68-b3607f6adf2c",
   "metadata": {},
   "outputs": [
    {
     "data": {
      "text/plain": [
       "array([[1.        , 0.71942963],\n",
       "       [0.71942963, 1.        ]])"
      ]
     },
     "execution_count": 47,
     "metadata": {},
     "output_type": "execute_result"
    }
   ],
   "source": [
    "np.corrcoef(X, Y)"
   ]
  },
  {
   "cell_type": "code",
   "execution_count": null,
   "id": "42fc57c8-0765-4c9f-9a5b-d4acffc19258",
   "metadata": {},
   "outputs": [],
   "source": []
  }
 ],
 "metadata": {
  "kernelspec": {
   "display_name": "Python 3 (ipykernel)",
   "language": "python",
   "name": "python3"
  },
  "language_info": {
   "codemirror_mode": {
    "name": "ipython",
    "version": 3
   },
   "file_extension": ".py",
   "mimetype": "text/x-python",
   "name": "python",
   "nbconvert_exporter": "python",
   "pygments_lexer": "ipython3",
   "version": "3.8.1"
  }
 },
 "nbformat": 4,
 "nbformat_minor": 5
}
