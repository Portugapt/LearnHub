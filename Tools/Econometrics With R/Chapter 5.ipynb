{
 "cells": [
  {
   "cell_type": "markdown",
   "id": "5e153ef0-a9e5-4d77-a2b4-4f567791c25e",
   "metadata": {},
   "source": [
    "qq# Hypothesis Tests and Confidence Intervals in the Simple Linear Regression Model"
   ]
  },
  {
   "cell_type": "code",
   "execution_count": 4,
   "id": "2b87fe72-ec05-4069-9ab1-5c5714d1c7f9",
   "metadata": {},
   "outputs": [],
   "source": [
    "import numpy as np\n",
    "import pandas as pd\n",
    "\n",
    "import matplotlib.pyplot as plt\n",
    "\n",
    "import scipy.stats as stats\n",
    "\n",
    "import statsmodels.api as sm\n",
    "import statsmodels.formula.api as smf"
   ]
  },
  {
   "cell_type": "markdown",
   "id": "798cb892-5d4d-4ec1-bd29-26fa85beb749",
   "metadata": {},
   "source": [
    "## Testing Two-Sided Hypotheses Concerning the Slope Coefficient"
   ]
  },
  {
   "cell_type": "markdown",
   "id": "698fff34-e8c3-4450-ac6e-68bc0de9d20d",
   "metadata": {},
   "source": [
    "![title](images/chapter5/img1.png)"
   ]
  },
  {
   "cell_type": "markdown",
   "id": "6a6e57dd-8187-4597-9082-9490b6052579",
   "metadata": {},
   "source": [
    "$$ SE(\\hat{\\beta}_1) = \\sqrt{ \\hat{\\sigma}^2_{\\hat{\\beta}_1} } \\ \\ , \\ \\ \n",
    "  \\hat{\\sigma}^2_{\\hat{\\beta}_1} = \\frac{1}{n} \\times \\frac{\\frac{1}{n-2} \\sum_{i=1}^n (X_i - \\overline{X})^2 \\hat{u_i}^2 }{ \\left[ \\frac{1}{n} \\sum_{i=1}^n (X_i - \\overline{X})^2 \\right]^2}. $$"
   ]
  },
  {
   "cell_type": "markdown",
   "id": "f4c6a47d-c9b7-43a4-b2ae-e61e7dd00d80",
   "metadata": {},
   "source": [
    "$ | t^{act} | > 1.96 $ or if $p-value < 0.05$"
   ]
  },
  {
   "cell_type": "markdown",
   "id": "f16861b2-be58-42a8-8091-f86e5d4a2403",
   "metadata": {},
   "source": [
    "![title](images/chapter5/img2.png)"
   ]
  },
  {
   "cell_type": "markdown",
   "id": "fba64ba6-28b0-4f04-acef-43c9f8a819e5",
   "metadata": {},
   "source": [
    "## Regression when X is a Binary Variable"
   ]
  },
  {
   "cell_type": "code",
   "execution_count": 9,
   "id": "922f727a-8d07-47f4-87e6-0d6958a7ff16",
   "metadata": {},
   "outputs": [],
   "source": [
    "CAS = pd.read_csv('https://raw.githubusercontent.com/ejvanholm/DataProjects/master/CASchools.csv', index_col = 0)\n",
    "\n",
    "CAS['STR'] = CAS['students']/CAS['teachers']\n",
    "\n",
    "CAS['score'] = (CAS['read'] + CAS['math'])/2  "
   ]
  },
  {
   "cell_type": "code",
   "execution_count": 8,
   "id": "77d43a0c-73c1-4626-a18a-d7a33ddffcee",
   "metadata": {
    "collapsed": true,
    "jupyter": {
     "outputs_hidden": true
    },
    "tags": []
   },
   "outputs": [
    {
     "data": {
      "text/html": [
       "<div>\n",
       "<style scoped>\n",
       "    .dataframe tbody tr th:only-of-type {\n",
       "        vertical-align: middle;\n",
       "    }\n",
       "\n",
       "    .dataframe tbody tr th {\n",
       "        vertical-align: top;\n",
       "    }\n",
       "\n",
       "    .dataframe thead th {\n",
       "        text-align: right;\n",
       "    }\n",
       "</style>\n",
       "<table border=\"1\" class=\"dataframe\">\n",
       "  <thead>\n",
       "    <tr style=\"text-align: right;\">\n",
       "      <th></th>\n",
       "      <th>district</th>\n",
       "      <th>school</th>\n",
       "      <th>county</th>\n",
       "      <th>grades</th>\n",
       "      <th>students</th>\n",
       "      <th>teachers</th>\n",
       "      <th>calworks</th>\n",
       "      <th>lunch</th>\n",
       "      <th>computer</th>\n",
       "      <th>expenditure</th>\n",
       "      <th>income</th>\n",
       "      <th>english</th>\n",
       "      <th>read</th>\n",
       "      <th>math</th>\n",
       "    </tr>\n",
       "  </thead>\n",
       "  <tbody>\n",
       "    <tr>\n",
       "      <th>1</th>\n",
       "      <td>75119</td>\n",
       "      <td>Sunol Glen Unified</td>\n",
       "      <td>Alameda</td>\n",
       "      <td>KK-08</td>\n",
       "      <td>195</td>\n",
       "      <td>10.900000</td>\n",
       "      <td>0.510200</td>\n",
       "      <td>2.040800</td>\n",
       "      <td>67</td>\n",
       "      <td>6384.911133</td>\n",
       "      <td>22.690001</td>\n",
       "      <td>0.000000</td>\n",
       "      <td>691.599976</td>\n",
       "      <td>690.000000</td>\n",
       "    </tr>\n",
       "    <tr>\n",
       "      <th>2</th>\n",
       "      <td>61499</td>\n",
       "      <td>Manzanita Elementary</td>\n",
       "      <td>Butte</td>\n",
       "      <td>KK-08</td>\n",
       "      <td>240</td>\n",
       "      <td>11.150000</td>\n",
       "      <td>15.416700</td>\n",
       "      <td>47.916698</td>\n",
       "      <td>101</td>\n",
       "      <td>5099.380859</td>\n",
       "      <td>9.824000</td>\n",
       "      <td>4.583333</td>\n",
       "      <td>660.500000</td>\n",
       "      <td>661.900024</td>\n",
       "    </tr>\n",
       "    <tr>\n",
       "      <th>3</th>\n",
       "      <td>61549</td>\n",
       "      <td>Thermalito Union Elementary</td>\n",
       "      <td>Butte</td>\n",
       "      <td>KK-08</td>\n",
       "      <td>1550</td>\n",
       "      <td>82.900002</td>\n",
       "      <td>55.032299</td>\n",
       "      <td>76.322601</td>\n",
       "      <td>169</td>\n",
       "      <td>5501.954590</td>\n",
       "      <td>8.978000</td>\n",
       "      <td>30.000002</td>\n",
       "      <td>636.299988</td>\n",
       "      <td>650.900024</td>\n",
       "    </tr>\n",
       "    <tr>\n",
       "      <th>4</th>\n",
       "      <td>61457</td>\n",
       "      <td>Golden Feather Union Elementary</td>\n",
       "      <td>Butte</td>\n",
       "      <td>KK-08</td>\n",
       "      <td>243</td>\n",
       "      <td>14.000000</td>\n",
       "      <td>36.475399</td>\n",
       "      <td>77.049202</td>\n",
       "      <td>85</td>\n",
       "      <td>7101.831055</td>\n",
       "      <td>8.978000</td>\n",
       "      <td>0.000000</td>\n",
       "      <td>651.900024</td>\n",
       "      <td>643.500000</td>\n",
       "    </tr>\n",
       "    <tr>\n",
       "      <th>5</th>\n",
       "      <td>61523</td>\n",
       "      <td>Palermo Union Elementary</td>\n",
       "      <td>Butte</td>\n",
       "      <td>KK-08</td>\n",
       "      <td>1335</td>\n",
       "      <td>71.500000</td>\n",
       "      <td>33.108601</td>\n",
       "      <td>78.427002</td>\n",
       "      <td>171</td>\n",
       "      <td>5235.987793</td>\n",
       "      <td>9.080333</td>\n",
       "      <td>13.857677</td>\n",
       "      <td>641.799988</td>\n",
       "      <td>639.900024</td>\n",
       "    </tr>\n",
       "  </tbody>\n",
       "</table>\n",
       "</div>"
      ],
      "text/plain": [
       "   district                           school   county grades  students  \\\n",
       "1     75119               Sunol Glen Unified  Alameda  KK-08       195   \n",
       "2     61499             Manzanita Elementary    Butte  KK-08       240   \n",
       "3     61549      Thermalito Union Elementary    Butte  KK-08      1550   \n",
       "4     61457  Golden Feather Union Elementary    Butte  KK-08       243   \n",
       "5     61523         Palermo Union Elementary    Butte  KK-08      1335   \n",
       "\n",
       "    teachers   calworks      lunch  computer  expenditure     income  \\\n",
       "1  10.900000   0.510200   2.040800        67  6384.911133  22.690001   \n",
       "2  11.150000  15.416700  47.916698       101  5099.380859   9.824000   \n",
       "3  82.900002  55.032299  76.322601       169  5501.954590   8.978000   \n",
       "4  14.000000  36.475399  77.049202        85  7101.831055   8.978000   \n",
       "5  71.500000  33.108601  78.427002       171  5235.987793   9.080333   \n",
       "\n",
       "     english        read        math  \n",
       "1   0.000000  691.599976  690.000000  \n",
       "2   4.583333  660.500000  661.900024  \n",
       "3  30.000002  636.299988  650.900024  \n",
       "4   0.000000  651.900024  643.500000  \n",
       "5  13.857677  641.799988  639.900024  "
      ]
     },
     "execution_count": 8,
     "metadata": {},
     "output_type": "execute_result"
    }
   ],
   "source": [
    "CAS.head()"
   ]
  },
  {
   "cell_type": "code",
   "execution_count": 10,
   "id": "af9283ca-9a2a-40d9-aeb7-f4d242ab921e",
   "metadata": {},
   "outputs": [],
   "source": [
    "CAS['test'] = (CAS['STR'] < 20)"
   ]
  },
  {
   "cell_type": "code",
   "execution_count": 50,
   "id": "7cfe23d9-54ea-469b-8b26-3a6b5a38484c",
   "metadata": {},
   "outputs": [
    {
     "name": "stdout",
     "output_type": "stream",
     "text": [
      "[-0.9750313016157538, 0.9920439347770672, 2.618051065905779, 2.0688161582999354, 4.090672409688811, 4.556167511036623, 3.879638576823098, 3.7897292964061116, 2.2368936178914423, 0.4395873451560955, 0.591716029481143, 0.6463732307305733]\n"
     ]
    }
   ],
   "source": [
    "listTValue = []\n",
    "for i in np.arange(min(CAS['STR']), max(CAS['STR'])):\n",
    "    CAS['Temp'] = (CAS['STR'] <= i).astype(int)\n",
    "    listTValue.append(sm.OLS(CAS['score'], sm.add_constant(CAS['Temp'])).fit().tvalues[1])\n",
    "\n",
    "print(listTValue)"
   ]
  },
  {
   "cell_type": "markdown",
   "id": "46d69642-4799-43e1-ad98-0585683d1a67",
   "metadata": {},
   "source": [
    "## Heteroskedasticity and Homoskedasticity"
   ]
  },
  {
   "cell_type": "markdown",
   "id": "308f0a83-78a1-40fb-99e6-3f5291f6aaa6",
   "metadata": {},
   "source": [
    "![title](images/chapter5/img3.png)"
   ]
  },
  {
   "cell_type": "markdown",
   "id": "f4e373d9-b172-43ef-b9e3-20fff9900dfc",
   "metadata": {},
   "source": [
    "This example makes a case that the assumption of homoskedasticity is doubtful in economic applications. Should we care about heteroskedasticity? Yes, we should. As explained in the next section, heteroskedasticity can have serious negative consequences in hypothesis testing, if we ignore it."
   ]
  },
  {
   "cell_type": "code",
   "execution_count": 53,
   "id": "8213cf5a-28fa-4466-ba29-b364a7b7ae1f",
   "metadata": {},
   "outputs": [
    {
     "data": {
      "text/plain": [
       "array([[107.4199931 ,  -5.36391137],\n",
       "       [ -5.36391137,   0.26986917]])"
      ]
     },
     "execution_count": 53,
     "metadata": {},
     "output_type": "execute_result"
    }
   ],
   "source": [
    "sm.OLS(CAS['score'], sm.add_constant(CAS['STR'])).fit().cov_HC1"
   ]
  },
  {
   "cell_type": "markdown",
   "id": "1568ea48-c9ab-4269-b201-0a1747441398",
   "metadata": {},
   "source": [
    "Interesting stackoverflow link on robust standard error:   \n",
    "https://stackoverflow.com/questions/23420454/newey-west-standard-errors-for-ols-in-python"
   ]
  },
  {
   "cell_type": "markdown",
   "id": "5ef7e6e3-b59d-4392-a52d-6d8fdc9ebd7f",
   "metadata": {},
   "source": [
    "I am still left to wonder how do I test this for multiple features."
   ]
  },
  {
   "cell_type": "markdown",
   "id": "184290c4-fa41-41b8-8fa7-a513ef1cec33",
   "metadata": {},
   "source": [
    "## Exercicios"
   ]
  }
 ],
 "metadata": {
  "kernelspec": {
   "display_name": "Python 3 (ipykernel)",
   "language": "python",
   "name": "python3"
  },
  "language_info": {
   "codemirror_mode": {
    "name": "ipython",
    "version": 3
   },
   "file_extension": ".py",
   "mimetype": "text/x-python",
   "name": "python",
   "nbconvert_exporter": "python",
   "pygments_lexer": "ipython3",
   "version": "3.8.1"
  }
 },
 "nbformat": 4,
 "nbformat_minor": 5
}
