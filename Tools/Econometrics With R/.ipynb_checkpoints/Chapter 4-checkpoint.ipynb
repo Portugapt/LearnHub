{
 "cells": [
  {
   "cell_type": "markdown",
   "id": "e352e9b0-96b6-4be6-9c4c-1e15f408c855",
   "metadata": {},
   "source": [
    "# Simple Linear Regression"
   ]
  },
  {
   "cell_type": "code",
   "execution_count": 1,
   "id": "5d3bc7de-6692-45db-9238-b0379ef69e34",
   "metadata": {},
   "outputs": [],
   "source": [
    "import numpy as np\n",
    "import pandas as pd\n",
    "\n",
    "import matplotlib.pyplot as plt\n",
    "\n",
    "import scipy.stats as stats\n",
    "\n",
    "import statsmodels.api as sm\n",
    "import statsmodels.formula.api as smf"
   ]
  },
  {
   "cell_type": "markdown",
   "id": "dc30d784-0f51-4ea4-8540-36e363c587fb",
   "metadata": {},
   "source": [
    "https://www.econometrics-with-r.org/4-1-simple-linear-regression.html"
   ]
  },
  {
   "cell_type": "code",
   "execution_count": 2,
   "id": "3cac4f52-a565-4fd0-b3fd-8687bd3e5307",
   "metadata": {},
   "outputs": [],
   "source": [
    "STR = np.array([15, 17, 19, 20, 22, 23.5, 25])\n",
    "TestScore = np.array([680, 640, 670, 660, 630, 660, 635]) "
   ]
  },
  {
   "cell_type": "code",
   "execution_count": 3,
   "id": "fb220eff-629b-46ef-9163-a39d1153e60e",
   "metadata": {},
   "outputs": [],
   "source": [
    "def abline(slope, intercept):\n",
    "    \"\"\"Plot a line from slope and intercept\"\"\"\n",
    "    axes = plt.gca()\n",
    "    x_vals = np.array(axes.get_xlim())\n",
    "    y_vals = intercept + slope * x_vals\n",
    "    plt.plot(x_vals, y_vals, '--')"
   ]
  },
  {
   "cell_type": "code",
   "execution_count": 4,
   "id": "0905cfce-0bf0-41a9-96be-46fcd1617ad8",
   "metadata": {},
   "outputs": [
    {
     "data": {
      "image/png": "[encoded data removed]",
      "text/plain": [
       "<Figure size 432x288 with 1 Axes>"
      ]
     },
     "metadata": {
      "needs_background": "light"
     },
     "output_type": "display_data"
    }
   ],
   "source": [
    "%matplotlib inline\n",
    "plt.scatter(STR, TestScore)\n",
    "\n",
    "abline(-3, 713)\n",
    "\n",
    "plt.show()"
   ]
  },
  {
   "cell_type": "markdown",
   "id": "e4ed45cc-f155-4628-a242-aa72f9842ec0",
   "metadata": {},
   "source": [
    "![title](images/chapter4/img1.png)"
   ]
  },
  {
   "cell_type": "markdown",
   "id": "bdb8642d-b5a0-4b6c-8dc4-f0bd1f174801",
   "metadata": {},
   "source": [
    "# [Estimating the Coefficients of the Linear Regression Model](https://www.econometrics-with-r.org/4-2-estimating-the-coefficients-of-the-linear-regression-model.html)"
   ]
  },
  {
   "cell_type": "markdown",
   "id": "aec318b8-0fd8-4db3-b9da-a948b7f83079",
   "metadata": {},
   "source": [
    "In practice, the intercept β0 and slope β1 of the population regression line are unknown. Therefore, we must employ data to estimate both unknown parameters. In the following, a real world example will be used to demonstrate how this is achieved. We want to relate test scores to student-teacher ratios measured in Californian schools."
   ]
  },
  {
   "cell_type": "code",
   "execution_count": 5,
   "id": "23d41496-a100-4acd-8c15-2421bfb06de4",
   "metadata": {},
   "outputs": [],
   "source": [
    "CAS = pd.read_csv('https://raw.githubusercontent.com/ejvanholm/DataProjects/master/CASchools.csv', index_col = 0)"
   ]
  },
  {
   "cell_type": "code",
   "execution_count": 6,
   "id": "fe1cb9e7-4d01-433b-84a0-fdec96a3e88c",
   "metadata": {},
   "outputs": [
    {
     "data": {
      "text/html": [
       "<div>\n",
       "<style scoped>\n",
       "    .dataframe tbody tr th:only-of-type {\n",
       "        vertical-align: middle;\n",
       "    }\n",
       "\n",
       "    .dataframe tbody tr th {\n",
       "        vertical-align: top;\n",
       "    }\n",
       "\n",
       "    .dataframe thead th {\n",
       "        text-align: right;\n",
       "    }\n",
       "</style>\n",
       "<table border=\"1\" class=\"dataframe\">\n",
       "  <thead>\n",
       "    <tr style=\"text-align: right;\">\n",
       "      <th></th>\n",
       "      <th>district</th>\n",
       "      <th>school</th>\n",
       "      <th>county</th>\n",
       "      <th>grades</th>\n",
       "      <th>students</th>\n",
       "      <th>teachers</th>\n",
       "      <th>calworks</th>\n",
       "      <th>lunch</th>\n",
       "      <th>computer</th>\n",
       "      <th>expenditure</th>\n",
       "      <th>income</th>\n",
       "      <th>english</th>\n",
       "      <th>read</th>\n",
       "      <th>math</th>\n",
       "    </tr>\n",
       "  </thead>\n",
       "  <tbody>\n",
       "    <tr>\n",
       "      <th>1</th>\n",
       "      <td>75119</td>\n",
       "      <td>Sunol Glen Unified</td>\n",
       "      <td>Alameda</td>\n",
       "      <td>KK-08</td>\n",
       "      <td>195</td>\n",
       "      <td>10.900000</td>\n",
       "      <td>0.510200</td>\n",
       "      <td>2.040800</td>\n",
       "      <td>67</td>\n",
       "      <td>6384.911133</td>\n",
       "      <td>22.690001</td>\n",
       "      <td>0.000000</td>\n",
       "      <td>691.599976</td>\n",
       "      <td>690.000000</td>\n",
       "    </tr>\n",
       "    <tr>\n",
       "      <th>2</th>\n",
       "      <td>61499</td>\n",
       "      <td>Manzanita Elementary</td>\n",
       "      <td>Butte</td>\n",
       "      <td>KK-08</td>\n",
       "      <td>240</td>\n",
       "      <td>11.150000</td>\n",
       "      <td>15.416700</td>\n",
       "      <td>47.916698</td>\n",
       "      <td>101</td>\n",
       "      <td>5099.380859</td>\n",
       "      <td>9.824000</td>\n",
       "      <td>4.583333</td>\n",
       "      <td>660.500000</td>\n",
       "      <td>661.900024</td>\n",
       "    </tr>\n",
       "    <tr>\n",
       "      <th>3</th>\n",
       "      <td>61549</td>\n",
       "      <td>Thermalito Union Elementary</td>\n",
       "      <td>Butte</td>\n",
       "      <td>KK-08</td>\n",
       "      <td>1550</td>\n",
       "      <td>82.900002</td>\n",
       "      <td>55.032299</td>\n",
       "      <td>76.322601</td>\n",
       "      <td>169</td>\n",
       "      <td>5501.954590</td>\n",
       "      <td>8.978000</td>\n",
       "      <td>30.000002</td>\n",
       "      <td>636.299988</td>\n",
       "      <td>650.900024</td>\n",
       "    </tr>\n",
       "    <tr>\n",
       "      <th>4</th>\n",
       "      <td>61457</td>\n",
       "      <td>Golden Feather Union Elementary</td>\n",
       "      <td>Butte</td>\n",
       "      <td>KK-08</td>\n",
       "      <td>243</td>\n",
       "      <td>14.000000</td>\n",
       "      <td>36.475399</td>\n",
       "      <td>77.049202</td>\n",
       "      <td>85</td>\n",
       "      <td>7101.831055</td>\n",
       "      <td>8.978000</td>\n",
       "      <td>0.000000</td>\n",
       "      <td>651.900024</td>\n",
       "      <td>643.500000</td>\n",
       "    </tr>\n",
       "    <tr>\n",
       "      <th>5</th>\n",
       "      <td>61523</td>\n",
       "      <td>Palermo Union Elementary</td>\n",
       "      <td>Butte</td>\n",
       "      <td>KK-08</td>\n",
       "      <td>1335</td>\n",
       "      <td>71.500000</td>\n",
       "      <td>33.108601</td>\n",
       "      <td>78.427002</td>\n",
       "      <td>171</td>\n",
       "      <td>5235.987793</td>\n",
       "      <td>9.080333</td>\n",
       "      <td>13.857677</td>\n",
       "      <td>641.799988</td>\n",
       "      <td>639.900024</td>\n",
       "    </tr>\n",
       "  </tbody>\n",
       "</table>\n",
       "</div>"
      ],
      "text/plain": [
       "   district                           school   county grades  students  \\\n",
       "1     75119               Sunol Glen Unified  Alameda  KK-08       195   \n",
       "2     61499             Manzanita Elementary    Butte  KK-08       240   \n",
       "3     61549      Thermalito Union Elementary    Butte  KK-08      1550   \n",
       "4     61457  Golden Feather Union Elementary    Butte  KK-08       243   \n",
       "5     61523         Palermo Union Elementary    Butte  KK-08      1335   \n",
       "\n",
       "    teachers   calworks      lunch  computer  expenditure     income  \\\n",
       "1  10.900000   0.510200   2.040800        67  6384.911133  22.690001   \n",
       "2  11.150000  15.416700  47.916698       101  5099.380859   9.824000   \n",
       "3  82.900002  55.032299  76.322601       169  5501.954590   8.978000   \n",
       "4  14.000000  36.475399  77.049202        85  7101.831055   8.978000   \n",
       "5  71.500000  33.108601  78.427002       171  5235.987793   9.080333   \n",
       "\n",
       "     english        read        math  \n",
       "1   0.000000  691.599976  690.000000  \n",
       "2   4.583333  660.500000  661.900024  \n",
       "3  30.000002  636.299988  650.900024  \n",
       "4   0.000000  651.900024  643.500000  \n",
       "5  13.857677  641.799988  639.900024  "
      ]
     },
     "execution_count": 6,
     "metadata": {},
     "output_type": "execute_result"
    }
   ],
   "source": [
    "CAS.head()"
   ]
  },
  {
   "cell_type": "code",
   "execution_count": 7,
   "id": "abe6aa1c-6160-4776-99df-31e89f8dbeed",
   "metadata": {},
   "outputs": [],
   "source": [
    "CAS['STR'] = CAS['students']/CAS['teachers']"
   ]
  },
  {
   "cell_type": "code",
   "execution_count": 8,
   "id": "62a68ebe-91b9-4528-acfe-cc15e2160fde",
   "metadata": {},
   "outputs": [],
   "source": [
    "CAS['score'] = (CAS['read'] + CAS['math'])/2  "
   ]
  },
  {
   "cell_type": "code",
   "execution_count": 9,
   "id": "70aa6dfe-a46c-44ba-96a3-a482a833a690",
   "metadata": {},
   "outputs": [
    {
     "data": {
      "text/html": [
       "<div>\n",
       "<style scoped>\n",
       "    .dataframe tbody tr th:only-of-type {\n",
       "        vertical-align: middle;\n",
       "    }\n",
       "\n",
       "    .dataframe tbody tr th {\n",
       "        vertical-align: top;\n",
       "    }\n",
       "\n",
       "    .dataframe thead th {\n",
       "        text-align: right;\n",
       "    }\n",
       "</style>\n",
       "<table border=\"1\" class=\"dataframe\">\n",
       "  <thead>\n",
       "    <tr style=\"text-align: right;\">\n",
       "      <th></th>\n",
       "      <th>district</th>\n",
       "      <th>school</th>\n",
       "      <th>county</th>\n",
       "      <th>grades</th>\n",
       "      <th>students</th>\n",
       "      <th>teachers</th>\n",
       "      <th>calworks</th>\n",
       "      <th>lunch</th>\n",
       "      <th>computer</th>\n",
       "      <th>expenditure</th>\n",
       "      <th>income</th>\n",
       "      <th>english</th>\n",
       "      <th>read</th>\n",
       "      <th>math</th>\n",
       "      <th>STR</th>\n",
       "      <th>score</th>\n",
       "    </tr>\n",
       "  </thead>\n",
       "  <tbody>\n",
       "    <tr>\n",
       "      <th>1</th>\n",
       "      <td>75119</td>\n",
       "      <td>Sunol Glen Unified</td>\n",
       "      <td>Alameda</td>\n",
       "      <td>KK-08</td>\n",
       "      <td>195</td>\n",
       "      <td>10.900000</td>\n",
       "      <td>0.510200</td>\n",
       "      <td>2.040800</td>\n",
       "      <td>67</td>\n",
       "      <td>6384.911133</td>\n",
       "      <td>22.690001</td>\n",
       "      <td>0.000000</td>\n",
       "      <td>691.599976</td>\n",
       "      <td>690.000000</td>\n",
       "      <td>17.889909</td>\n",
       "      <td>690.799988</td>\n",
       "    </tr>\n",
       "    <tr>\n",
       "      <th>2</th>\n",
       "      <td>61499</td>\n",
       "      <td>Manzanita Elementary</td>\n",
       "      <td>Butte</td>\n",
       "      <td>KK-08</td>\n",
       "      <td>240</td>\n",
       "      <td>11.150000</td>\n",
       "      <td>15.416700</td>\n",
       "      <td>47.916698</td>\n",
       "      <td>101</td>\n",
       "      <td>5099.380859</td>\n",
       "      <td>9.824000</td>\n",
       "      <td>4.583333</td>\n",
       "      <td>660.500000</td>\n",
       "      <td>661.900024</td>\n",
       "      <td>21.524664</td>\n",
       "      <td>661.200012</td>\n",
       "    </tr>\n",
       "    <tr>\n",
       "      <th>3</th>\n",
       "      <td>61549</td>\n",
       "      <td>Thermalito Union Elementary</td>\n",
       "      <td>Butte</td>\n",
       "      <td>KK-08</td>\n",
       "      <td>1550</td>\n",
       "      <td>82.900002</td>\n",
       "      <td>55.032299</td>\n",
       "      <td>76.322601</td>\n",
       "      <td>169</td>\n",
       "      <td>5501.954590</td>\n",
       "      <td>8.978000</td>\n",
       "      <td>30.000002</td>\n",
       "      <td>636.299988</td>\n",
       "      <td>650.900024</td>\n",
       "      <td>18.697225</td>\n",
       "      <td>643.600006</td>\n",
       "    </tr>\n",
       "    <tr>\n",
       "      <th>4</th>\n",
       "      <td>61457</td>\n",
       "      <td>Golden Feather Union Elementary</td>\n",
       "      <td>Butte</td>\n",
       "      <td>KK-08</td>\n",
       "      <td>243</td>\n",
       "      <td>14.000000</td>\n",
       "      <td>36.475399</td>\n",
       "      <td>77.049202</td>\n",
       "      <td>85</td>\n",
       "      <td>7101.831055</td>\n",
       "      <td>8.978000</td>\n",
       "      <td>0.000000</td>\n",
       "      <td>651.900024</td>\n",
       "      <td>643.500000</td>\n",
       "      <td>17.357143</td>\n",
       "      <td>647.700012</td>\n",
       "    </tr>\n",
       "    <tr>\n",
       "      <th>5</th>\n",
       "      <td>61523</td>\n",
       "      <td>Palermo Union Elementary</td>\n",
       "      <td>Butte</td>\n",
       "      <td>KK-08</td>\n",
       "      <td>1335</td>\n",
       "      <td>71.500000</td>\n",
       "      <td>33.108601</td>\n",
       "      <td>78.427002</td>\n",
       "      <td>171</td>\n",
       "      <td>5235.987793</td>\n",
       "      <td>9.080333</td>\n",
       "      <td>13.857677</td>\n",
       "      <td>641.799988</td>\n",
       "      <td>639.900024</td>\n",
       "      <td>18.671329</td>\n",
       "      <td>640.850006</td>\n",
       "    </tr>\n",
       "  </tbody>\n",
       "</table>\n",
       "</div>"
      ],
      "text/plain": [
       "   district                           school   county grades  students  \\\n",
       "1     75119               Sunol Glen Unified  Alameda  KK-08       195   \n",
       "2     61499             Manzanita Elementary    Butte  KK-08       240   \n",
       "3     61549      Thermalito Union Elementary    Butte  KK-08      1550   \n",
       "4     61457  Golden Feather Union Elementary    Butte  KK-08       243   \n",
       "5     61523         Palermo Union Elementary    Butte  KK-08      1335   \n",
       "\n",
       "    teachers   calworks      lunch  computer  expenditure     income  \\\n",
       "1  10.900000   0.510200   2.040800        67  6384.911133  22.690001   \n",
       "2  11.150000  15.416700  47.916698       101  5099.380859   9.824000   \n",
       "3  82.900002  55.032299  76.322601       169  5501.954590   8.978000   \n",
       "4  14.000000  36.475399  77.049202        85  7101.831055   8.978000   \n",
       "5  71.500000  33.108601  78.427002       171  5235.987793   9.080333   \n",
       "\n",
       "     english        read        math        STR       score  \n",
       "1   0.000000  691.599976  690.000000  17.889909  690.799988  \n",
       "2   4.583333  660.500000  661.900024  21.524664  661.200012  \n",
       "3  30.000002  636.299988  650.900024  18.697225  643.600006  \n",
       "4   0.000000  651.900024  643.500000  17.357143  647.700012  \n",
       "5  13.857677  641.799988  639.900024  18.671329  640.850006  "
      ]
     },
     "execution_count": 9,
     "metadata": {},
     "output_type": "execute_result"
    }
   ],
   "source": [
    "CAS.head()"
   ]
  },
  {
   "cell_type": "code",
   "execution_count": 10,
   "id": "2ce92041-c1c4-4480-801d-e3983fc70994",
   "metadata": {},
   "outputs": [
    {
     "data": {
      "text/plain": [
       "<matplotlib.collections.PathCollection at 0x7f982e8f4790>"
      ]
     },
     "execution_count": 10,
     "metadata": {},
     "output_type": "execute_result"
    },
    {
     "data": {
      "image/png": "[encoded data removed]",
      "text/plain": [
       "<Figure size 432x288 with 1 Axes>"
      ]
     },
     "metadata": {
      "needs_background": "light"
     },
     "output_type": "display_data"
    }
   ],
   "source": [
    "plt.scatter(CAS['score'], CAS['STR'])"
   ]
  },
  {
   "cell_type": "code",
   "execution_count": 11,
   "id": "8b6f6ab1-c60f-44e4-b781-79665498f1d9",
   "metadata": {},
   "outputs": [
    {
     "data": {
      "text/plain": [
       "array([[ 1.        , -0.22636275],\n",
       "       [-0.22636275,  1.        ]])"
      ]
     },
     "execution_count": 11,
     "metadata": {},
     "output_type": "execute_result"
    }
   ],
   "source": [
    "np.corrcoef(CAS['score'], CAS['STR'])"
   ]
  },
  {
   "cell_type": "code",
   "execution_count": 12,
   "id": "1234542c-7cc2-43cb-a830-ee846743839f",
   "metadata": {},
   "outputs": [],
   "source": [
    "linear_model_1 = smf.ols('score ~ STR', data = CAS).fit()"
   ]
  },
  {
   "cell_type": "code",
   "execution_count": 13,
   "id": "e51f3e22-a778-4770-861d-06e492f9f1f8",
   "metadata": {},
   "outputs": [
    {
     "name": "stdout",
     "output_type": "stream",
     "text": [
      "                            OLS Regression Results                            \n",
      "==============================================================================\n",
      "Dep. Variable:                  score   R-squared:                       0.051\n",
      "Model:                            OLS   Adj. R-squared:                  0.049\n",
      "Method:                 Least Squares   F-statistic:                     22.58\n",
      "Date:                Mon, 23 Aug 2021   Prob (F-statistic):           2.78e-06\n",
      "Time:                        21:49:43   Log-Likelihood:                -1822.2\n",
      "No. Observations:                 420   AIC:                             3648.\n",
      "Df Residuals:                     418   BIC:                             3657.\n",
      "Df Model:                           1                                         \n",
      "Covariance Type:            nonrobust                                         \n",
      "==============================================================================\n",
      "                 coef    std err          t      P>|t|      [0.025      0.975]\n",
      "------------------------------------------------------------------------------\n",
      "Intercept    698.9329      9.467     73.825      0.000     680.323     717.543\n",
      "STR           -2.2798      0.480     -4.751      0.000      -3.223      -1.337\n",
      "==============================================================================\n",
      "Omnibus:                        5.390   Durbin-Watson:                   0.129\n",
      "Prob(Omnibus):                  0.068   Jarque-Bera (JB):                3.589\n",
      "Skew:                          -0.012   Prob(JB):                        0.166\n",
      "Kurtosis:                       2.548   Cond. No.                         207.\n",
      "==============================================================================\n",
      "\n",
      "Notes:\n",
      "[1] Standard Errors assume that the covariance matrix of the errors is correctly specified.\n"
     ]
    }
   ],
   "source": [
    "print(linear_model_1.summary())"
   ]
  },
  {
   "cell_type": "code",
   "execution_count": 14,
   "id": "7b6c472b-f6f6-4ed6-b19d-00a49211ab6b",
   "metadata": {},
   "outputs": [
    {
     "data": {
      "text/plain": [
       "Intercept    698.932949\n",
       "STR           -2.279808\n",
       "dtype: float64"
      ]
     },
     "execution_count": 14,
     "metadata": {},
     "output_type": "execute_result"
    }
   ],
   "source": [
    "linear_model_1.params"
   ]
  },
  {
   "cell_type": "markdown",
   "id": "af40e533-4012-42d1-8be1-14aebf855c44",
   "metadata": {},
   "source": [
    "In Summary function (Bottom of source)  \n",
    "https://github.com/statsmodels/statsmodels/blob/main/statsmodels/regression/linear_model.py    \n",
    "https://github.com/statsmodels/statsmodels/blob/d7d21984afceaa5ef018c29bdfd9c6d69937b663/statsmodels/iolib/summary.py#L590"
   ]
  },
  {
   "cell_type": "code",
   "execution_count": 15,
   "id": "1e18fe02-d567-454b-80f7-7177ab6e1327",
   "metadata": {},
   "outputs": [
    {
     "name": "stdout",
     "output_type": "stream",
     "text": [
      "Intercept    9.467491\n",
      "STR          0.479826\n",
      "dtype: float64\n",
      "                    0           1\n",
      "Intercept  680.323124  717.542775\n",
      "STR         -3.222980   -1.336636\n"
     ]
    }
   ],
   "source": [
    "print(linear_model_1.bse)\n",
    "print(linear_model_1.conf_int(0.05))"
   ]
  },
  {
   "cell_type": "code",
   "execution_count": 16,
   "id": "1daf8953-57a5-44f8-9a1f-5073cc4d652e",
   "metadata": {},
   "outputs": [
    {
     "data": {
      "image/png": "[encoded data removed]",
      "text/plain": [
       "<Figure size 432x288 with 1 Axes>"
      ]
     },
     "metadata": {
      "needs_background": "light"
     },
     "output_type": "display_data"
    }
   ],
   "source": [
    "%matplotlib inline\n",
    "plt.scatter(CAS['STR'], CAS['score'])\n",
    "\n",
    "abline(linear_model_1.params[1], linear_model_1.params[0])\n",
    "\n",
    "plt.show()"
   ]
  },
  {
   "cell_type": "markdown",
   "id": "943d428a-53ba-4216-908b-da032ffede69",
   "metadata": {},
   "source": [
    "## The Coefficient of Determination\n",
    "\n",
    "R squared.  \n",
    "But be aware of outliers, they screw everything up."
   ]
  },
  {
   "cell_type": "markdown",
   "id": "b4883b6d-b1e1-4097-8caf-13705a8eea4e",
   "metadata": {},
   "source": [
    "## Simulation Study"
   ]
  },
  {
   "cell_type": "code",
   "execution_count": 17,
   "id": "de8dec89-3322-471a-a063-be4e2ecde455",
   "metadata": {},
   "outputs": [],
   "source": [
    "N = 10000\n",
    "X = stats.uniform(0, 20).rvs(N)\n",
    "u = stats.norm(0, 10).rvs(N)"
   ]
  },
  {
   "cell_type": "code",
   "execution_count": 18,
   "id": "0ac542f4-17f4-4bb8-982f-522169e36d4e",
   "metadata": {},
   "outputs": [],
   "source": [
    "Y = -2 + (3.5 * X) + u"
   ]
  },
  {
   "cell_type": "code",
   "execution_count": 19,
   "id": "5dc0686a-a930-4ae3-bf7d-def5b083fd63",
   "metadata": {},
   "outputs": [
    {
     "data": {
      "text/plain": [
       "array([50.9956422 , 53.36628606,  6.51430252, ..., 50.78869279,\n",
       "        6.33919282, 59.64685329])"
      ]
     },
     "execution_count": 19,
     "metadata": {},
     "output_type": "execute_result"
    }
   ],
   "source": [
    "Y"
   ]
  },
  {
   "cell_type": "code",
   "execution_count": 20,
   "id": "3b4c98ce-0dd0-4256-8f0e-680789bf5382",
   "metadata": {},
   "outputs": [],
   "source": [
    "population = pd.DataFrame(columns = ['X', 'Y'],\n",
    "                             data = np.column_stack((X, Y)))"
   ]
  },
  {
   "cell_type": "code",
   "execution_count": 21,
   "id": "693ae5c2-966b-404a-98b5-f454a8204126",
   "metadata": {},
   "outputs": [
    {
     "data": {
      "text/html": [
       "<div>\n",
       "<style scoped>\n",
       "    .dataframe tbody tr th:only-of-type {\n",
       "        vertical-align: middle;\n",
       "    }\n",
       "\n",
       "    .dataframe tbody tr th {\n",
       "        vertical-align: top;\n",
       "    }\n",
       "\n",
       "    .dataframe thead th {\n",
       "        text-align: right;\n",
       "    }\n",
       "</style>\n",
       "<table border=\"1\" class=\"dataframe\">\n",
       "  <thead>\n",
       "    <tr style=\"text-align: right;\">\n",
       "      <th></th>\n",
       "      <th>X</th>\n",
       "      <th>Y</th>\n",
       "    </tr>\n",
       "  </thead>\n",
       "  <tbody>\n",
       "    <tr>\n",
       "      <th>0</th>\n",
       "      <td>13.837221</td>\n",
       "      <td>50.995642</td>\n",
       "    </tr>\n",
       "    <tr>\n",
       "      <th>1</th>\n",
       "      <td>11.857466</td>\n",
       "      <td>53.366286</td>\n",
       "    </tr>\n",
       "    <tr>\n",
       "      <th>2</th>\n",
       "      <td>2.083622</td>\n",
       "      <td>6.514303</td>\n",
       "    </tr>\n",
       "    <tr>\n",
       "      <th>3</th>\n",
       "      <td>2.237069</td>\n",
       "      <td>-10.327998</td>\n",
       "    </tr>\n",
       "    <tr>\n",
       "      <th>4</th>\n",
       "      <td>6.027065</td>\n",
       "      <td>46.658807</td>\n",
       "    </tr>\n",
       "    <tr>\n",
       "      <th>...</th>\n",
       "      <td>...</td>\n",
       "      <td>...</td>\n",
       "    </tr>\n",
       "    <tr>\n",
       "      <th>9995</th>\n",
       "      <td>0.031605</td>\n",
       "      <td>21.978600</td>\n",
       "    </tr>\n",
       "    <tr>\n",
       "      <th>9996</th>\n",
       "      <td>12.003199</td>\n",
       "      <td>52.361669</td>\n",
       "    </tr>\n",
       "    <tr>\n",
       "      <th>9997</th>\n",
       "      <td>14.874649</td>\n",
       "      <td>50.788693</td>\n",
       "    </tr>\n",
       "    <tr>\n",
       "      <th>9998</th>\n",
       "      <td>1.658648</td>\n",
       "      <td>6.339193</td>\n",
       "    </tr>\n",
       "    <tr>\n",
       "      <th>9999</th>\n",
       "      <td>18.865264</td>\n",
       "      <td>59.646853</td>\n",
       "    </tr>\n",
       "  </tbody>\n",
       "</table>\n",
       "<p>10000 rows × 2 columns</p>\n",
       "</div>"
      ],
      "text/plain": [
       "              X          Y\n",
       "0     13.837221  50.995642\n",
       "1     11.857466  53.366286\n",
       "2      2.083622   6.514303\n",
       "3      2.237069 -10.327998\n",
       "4      6.027065  46.658807\n",
       "...         ...        ...\n",
       "9995   0.031605  21.978600\n",
       "9996  12.003199  52.361669\n",
       "9997  14.874649  50.788693\n",
       "9998   1.658648   6.339193\n",
       "9999  18.865264  59.646853\n",
       "\n",
       "[10000 rows x 2 columns]"
      ]
     },
     "execution_count": 21,
     "metadata": {},
     "output_type": "execute_result"
    }
   ],
   "source": [
    "population"
   ]
  },
  {
   "cell_type": "markdown",
   "id": "90178453-b290-4409-8590-0e94b2cd0ec8",
   "metadata": {},
   "source": [
    "Calculate the mean and variance on n = 100"
   ]
  },
  {
   "cell_type": "code",
   "execution_count": 22,
   "id": "afbef203-6f13-4d7c-9bcc-a26dcef57070",
   "metadata": {},
   "outputs": [],
   "source": [
    "# set sample size\n",
    "n = 100\n",
    "\n",
    "# compute the variance of beta_hat_0\n",
    "H_i = 1 - np.mean(X) / np.mean(X**2) * X\n",
    "var_b0 = np.var(H_i * u) / (n * np.mean(H_i**2)**2 )\n",
    "\n",
    "# compute the variance of hat_beta_1\n",
    "var_b1 = np.var( ( X - np.mean(X) ) * u ) / (100 * np.var(X)**2)"
   ]
  },
  {
   "cell_type": "code",
   "execution_count": 23,
   "id": "6d5bec49-e22f-4fde-a248-532272f88060",
   "metadata": {},
   "outputs": [
    {
     "name": "stdout",
     "output_type": "stream",
     "text": [
      "4.1692181142693325\n",
      "0.030841091097546652\n"
     ]
    }
   ],
   "source": [
    "print(var_b0)\n",
    "print(var_b1) "
   ]
  },
  {
   "cell_type": "markdown",
   "id": "935f8aa0-79e3-4922-8c2f-886a763d9c90",
   "metadata": {},
   "source": [
    "## Simulation Study 2\n",
    "\n",
    "Do a random sample of different sizes.\n",
    "\n"
   ]
  },
  {
   "cell_type": "code",
   "execution_count": 24,
   "id": "1f6ff8d1-07ff-4eb1-9e57-a552ea11cd8b",
   "metadata": {},
   "outputs": [],
   "source": [
    "np.random.seed(777)\n",
    "\n",
    "repetitions = 1000\n",
    "\n",
    "n = np.array([100, 250, 1000, 3000])\n",
    "\n",
    "dfBetas = pd.DataFrame()\n",
    "for e, i in enumerate(n):\n",
    "    for j in range(0, repetitions):\n",
    "        sample = population.loc[np.random.randint(len(population), size=i)]\n",
    "        dfBetas.loc[j, e] = smf.ols('Y ~ X', data = sample).fit().params[1]"
   ]
  },
  {
   "cell_type": "markdown",
   "id": "11be6ad0-d62c-4194-8c2a-c32225c8793e",
   "metadata": {},
   "source": [
    "Solutions to the following code:   \n",
    "https://stackoverflow.com/questions/17210646/python-subplot-within-a-loop-first-panel-appears-in-wrong-position   \n",
    "https://stackoverflow.com/questions/4150171/how-to-create-a-density-plot-in-matplotlib   \n",
    "https://matplotlib.org/devdocs/gallery/subplots_axes_and_figures/subplots_demo.html   "
   ]
  },
  {
   "cell_type": "code",
   "execution_count": 25,
   "id": "f734c0bc-0e91-4ac2-9e4f-e103458a60b9",
   "metadata": {},
   "outputs": [
    {
     "data": {
      "image/png": "[encoded data removed]",
      "text/plain": [
       "<Figure size 432x288 with 4 Axes>"
      ]
     },
     "metadata": {
      "needs_background": "light"
     },
     "output_type": "display_data"
    }
   ],
   "source": [
    "fig, axs = plt.subplots(2, 2)\n",
    "axs = axs.ravel()\n",
    "for i in range(0, len(n)):\n",
    "    xs = np.linspace(2.5,4.5,200)\n",
    "    density = stats.gaussian_kde(dfBetas.loc[:,i])\n",
    "    axs[i].plot(xs, density(xs))\n"
   ]
  },
  {
   "cell_type": "markdown",
   "id": "cec8bf9a-c55e-43a7-800d-cd863e84684f",
   "metadata": {},
   "source": [
    "# Exercices"
   ]
  },
  {
   "cell_type": "markdown",
   "id": "487b05eb-9706-4b2a-8dc8-373dd9fe5c66",
   "metadata": {},
   "source": [
    "## 1. Class Sizes and Test Scores\n",
    "\n",
    "A researcher wants to analyze the relationship between class size (measured by the student-teacher ratio) and the average test score. Therefore he measures both variables in 10\n",
    "\n",
    "different classes and ends up with the following results.   \n",
    "Class Size \t23 \t19 \t30 \t22 \t23 \t29 \t35 \t36 \t33 \t25   \n",
    "Test Score \t430 \t430 \t333 \t410 \t390 \t377 \t325 \t310 \t328 \t375   \n",
    "\n",
    "Instructions:\n",
    "\n",
    "* Create the vectors cs (the class size) and ts (the test score), containing the observations above.\n",
    "\n",
    "* Draw a scatterplot of the results using plot().\n"
   ]
  },
  {
   "cell_type": "code",
   "execution_count": 38,
   "id": "0ed7cbfa-3636-4683-b36d-7486da0c3e9c",
   "metadata": {},
   "outputs": [
    {
     "data": {
      "text/plain": [
       "<matplotlib.collections.PathCollection at 0x7f982c3f1610>"
      ]
     },
     "execution_count": 38,
     "metadata": {},
     "output_type": "execute_result"
    },
    {
     "data": {
      "image/png": "[encoded data removed]",
      "text/plain": [
       "<Figure size 432x288 with 1 Axes>"
      ]
     },
     "metadata": {
      "needs_background": "light"
     },
     "output_type": "display_data"
    }
   ],
   "source": [
    "# create both vectors\n",
    "cs = np.array([23, 19, 30, 22, 23, 29, 35, 36, 33, 25])\n",
    "ts = np.array([430, 430, 333, 410, 390, 377, 325, 310, 328, 375])\n",
    "\n",
    "# draw the scatterplot\n",
    "plt.scatter(cs,ts)"
   ]
  },
  {
   "cell_type": "markdown",
   "id": "c9d1d3df-7978-4a3a-8a04-6288cfc38c06",
   "metadata": {},
   "source": [
    "## 2. Mean, Variance, Covariance and Correlation\n",
    "\n",
    "The vectors cs and ts are available in the working environment (you can check this: type their names into the console and press enter).\n",
    "\n",
    "Instructions:\n",
    "\n",
    "* Compute the mean, the sample variance and the sample standard deviation of ts.\n",
    "\n",
    "* Compute the covariance and the correlation coefficient for ts and cs."
   ]
  },
  {
   "cell_type": "code",
   "execution_count": 39,
   "id": "3aa7dfca-ecc2-4328-a198-813702f49db6",
   "metadata": {},
   "outputs": [
    {
     "name": "stdout",
     "output_type": "stream",
     "text": [
      "ts\n",
      "Mean: 370.8\n",
      "Variance: 1802.56\n",
      "S.D: 42.45656604107308\n"
     ]
    }
   ],
   "source": [
    "print(f'ts\\nMean: {np.mean(ts)}\\nVariance: {np.var(ts)}\\nS.D: {np.sqrt(np.var(ts))}')"
   ]
  },
  {
   "cell_type": "code",
   "execution_count": 40,
   "id": "bd58bb7e-5cec-4804-bf28-85470dc704c6",
   "metadata": {},
   "outputs": [
    {
     "name": "stdout",
     "output_type": "stream",
     "text": [
      "-251.44444444444443\n",
      "-0.9474424340334486\n"
     ]
    }
   ],
   "source": [
    "print(np.cov(ts,cs)[0,1])\n",
    "print(np.corrcoef(ts,cs)[0,1])"
   ]
  },
  {
   "cell_type": "markdown",
   "id": "41d2921b-3359-4bb5-805d-f1d479012bff",
   "metadata": {},
   "source": [
    "## 3. Simple Linear Regression\n",
    "\n",
    "The vectors cs and ts are available in the working environment.\n",
    "\n",
    "Instructions:\n",
    "\n",
    "* The function lm() is part of the package AER. Attach the package using library().\n",
    "\n",
    "* Use lm() to estimate the regression model $TestScorei=β0+β1STRi+ui$.\n",
    "\n",
    "    Assign the result to mod.\n",
    "\n",
    "* Obtain a statistical summary of the model."
   ]
  },
  {
   "cell_type": "code",
   "execution_count": 41,
   "id": "61355e45-8755-4f38-9030-9022c8678a72",
   "metadata": {},
   "outputs": [],
   "source": [
    "cs_m = sm.add_constant(cs)\n",
    "\n",
    "lm_ex3 = sm.OLS(ts, cs_m).fit()"
   ]
  },
  {
   "cell_type": "code",
   "execution_count": 42,
   "id": "b3765a77-2f48-4ff0-a85c-8a9658527683",
   "metadata": {},
   "outputs": [
    {
     "name": "stderr",
     "output_type": "stream",
     "text": [
      "/home/portugapt/.pyenv/versions/3.8.1/envs/LearnHub/lib/python3.8/site-packages/scipy/stats/stats.py:1541: UserWarning: kurtosistest only valid for n>=20 ... continuing anyway, n=10\n",
      "  warnings.warn(\"kurtosistest only valid for n>=20 ... continuing \"\n"
     ]
    },
    {
     "data": {
      "text/html": [
       "<table class=\"simpletable\">\n",
       "<caption>OLS Regression Results</caption>\n",
       "<tr>\n",
       "  <th>Dep. Variable:</th>            <td>y</td>        <th>  R-squared:         </th> <td>   0.898</td>\n",
       "</tr>\n",
       "<tr>\n",
       "  <th>Model:</th>                   <td>OLS</td>       <th>  Adj. R-squared:    </th> <td>   0.885</td>\n",
       "</tr>\n",
       "<tr>\n",
       "  <th>Method:</th>             <td>Least Squares</td>  <th>  F-statistic:       </th> <td>   70.16</td>\n",
       "</tr>\n",
       "<tr>\n",
       "  <th>Date:</th>             <td>Mon, 23 Aug 2021</td> <th>  Prob (F-statistic):</th> <td>3.13e-05</td>\n",
       "</tr>\n",
       "<tr>\n",
       "  <th>Time:</th>                 <td>21:51:46</td>     <th>  Log-Likelihood:    </th> <td> -40.278</td>\n",
       "</tr>\n",
       "<tr>\n",
       "  <th>No. Observations:</th>      <td>    10</td>      <th>  AIC:               </th> <td>   84.56</td>\n",
       "</tr>\n",
       "<tr>\n",
       "  <th>Df Residuals:</th>          <td>     8</td>      <th>  BIC:               </th> <td>   85.16</td>\n",
       "</tr>\n",
       "<tr>\n",
       "  <th>Df Model:</th>              <td>     1</td>      <th>                     </th>     <td> </td>   \n",
       "</tr>\n",
       "<tr>\n",
       "  <th>Covariance Type:</th>      <td>nonrobust</td>    <th>                     </th>     <td> </td>   \n",
       "</tr>\n",
       "</table>\n",
       "<table class=\"simpletable\">\n",
       "<tr>\n",
       "    <td></td>       <th>coef</th>     <th>std err</th>      <th>t</th>      <th>P>|t|</th>  <th>[0.025</th>    <th>0.975]</th>  \n",
       "</tr>\n",
       "<tr>\n",
       "  <th>const</th> <td>  567.4272</td> <td>   23.961</td> <td>   23.682</td> <td> 0.000</td> <td>  512.174</td> <td>  622.681</td>\n",
       "</tr>\n",
       "<tr>\n",
       "  <th>x1</th>    <td>   -7.1501</td> <td>    0.854</td> <td>   -8.376</td> <td> 0.000</td> <td>   -9.119</td> <td>   -5.182</td>\n",
       "</tr>\n",
       "</table>\n",
       "<table class=\"simpletable\">\n",
       "<tr>\n",
       "  <th>Omnibus:</th>       <td> 0.814</td> <th>  Durbin-Watson:     </th> <td>   1.554</td>\n",
       "</tr>\n",
       "<tr>\n",
       "  <th>Prob(Omnibus):</th> <td> 0.666</td> <th>  Jarque-Bera (JB):  </th> <td>   0.524</td>\n",
       "</tr>\n",
       "<tr>\n",
       "  <th>Skew:</th>          <td> 0.493</td> <th>  Prob(JB):          </th> <td>   0.770</td>\n",
       "</tr>\n",
       "<tr>\n",
       "  <th>Kurtosis:</th>      <td> 2.469</td> <th>  Cond. No.          </th> <td>    140.</td>\n",
       "</tr>\n",
       "</table><br/><br/>Notes:<br/>[1] Standard Errors assume that the covariance matrix of the errors is correctly specified."
      ],
      "text/plain": [
       "<class 'statsmodels.iolib.summary.Summary'>\n",
       "\"\"\"\n",
       "                            OLS Regression Results                            \n",
       "==============================================================================\n",
       "Dep. Variable:                      y   R-squared:                       0.898\n",
       "Model:                            OLS   Adj. R-squared:                  0.885\n",
       "Method:                 Least Squares   F-statistic:                     70.16\n",
       "Date:                Mon, 23 Aug 2021   Prob (F-statistic):           3.13e-05\n",
       "Time:                        21:51:46   Log-Likelihood:                -40.278\n",
       "No. Observations:                  10   AIC:                             84.56\n",
       "Df Residuals:                       8   BIC:                             85.16\n",
       "Df Model:                           1                                         \n",
       "Covariance Type:            nonrobust                                         \n",
       "==============================================================================\n",
       "                 coef    std err          t      P>|t|      [0.025      0.975]\n",
       "------------------------------------------------------------------------------\n",
       "const        567.4272     23.961     23.682      0.000     512.174     622.681\n",
       "x1            -7.1501      0.854     -8.376      0.000      -9.119      -5.182\n",
       "==============================================================================\n",
       "Omnibus:                        0.814   Durbin-Watson:                   1.554\n",
       "Prob(Omnibus):                  0.666   Jarque-Bera (JB):                0.524\n",
       "Skew:                           0.493   Prob(JB):                        0.770\n",
       "Kurtosis:                       2.469   Cond. No.                         140.\n",
       "==============================================================================\n",
       "\n",
       "Notes:\n",
       "[1] Standard Errors assume that the covariance matrix of the errors is correctly specified.\n",
       "\"\"\""
      ]
     },
     "execution_count": 42,
     "metadata": {},
     "output_type": "execute_result"
    }
   ],
   "source": [
    "lm_ex3.summary()"
   ]
  },
  {
   "cell_type": "code",
   "execution_count": 43,
   "id": "99aed22c-1369-4de0-b514-2fa83cf46341",
   "metadata": {},
   "outputs": [
    {
     "data": {
      "text/plain": [
       "array([23, 19, 30, 22, 23, 29, 35, 36, 33, 25])"
      ]
     },
     "execution_count": 43,
     "metadata": {},
     "output_type": "execute_result"
    }
   ],
   "source": [
    "cs"
   ]
  },
  {
   "cell_type": "markdown",
   "id": "210ee633-cc54-49f2-a6bf-4a0193954037",
   "metadata": {},
   "source": [
    "## 4. The Model Object\n",
    "\n",
    "Let us see how an object of class lm is structured.\n",
    "\n",
    "The vectors cs and ts as well as the model object mod from the previous exercise are available in your workspace.\n",
    "\n",
    "Instructions:\n",
    "\n",
    "* Use class() to learn about the class of the object mod.\n",
    "* mod is an object of type list with named entries. Check this using the function is.list().\n",
    "* See what information you can obtain from mod using names().\n",
    "* Read out an arbitrary entry of the object mod using the $ operator.\n"
   ]
  },
  {
   "cell_type": "code",
   "execution_count": 44,
   "id": "fb9432a0-234a-4c02-81da-acb96ec356f3",
   "metadata": {},
   "outputs": [
    {
     "data": {
      "text/plain": [
       "array([402.97535545, 431.57567141, 352.92480253, 410.12543444,\n",
       "       402.97535545, 360.07488152, 317.17440758, 310.02432859,\n",
       "       331.47456556, 388.67519747])"
      ]
     },
     "execution_count": 44,
     "metadata": {},
     "output_type": "execute_result"
    }
   ],
   "source": [
    "lm_ex3.fittedvalues"
   ]
  },
  {
   "cell_type": "code",
   "execution_count": 48,
   "id": "5201f50d-fd1d-477e-8115-09b7ad70c0ba",
   "metadata": {
    "tags": []
   },
   "outputs": [
    {
     "data": {
      "text/plain": [
       "[('HC0_se', array([16.22659617,  0.51417299])),\n",
       " ('HC1_se', array([18.14188604,  0.57486287])),\n",
       " ('HC2_se', array([17.82053588,  0.5663235 ])),\n",
       " ('HC3_se', array([19.59345768,  0.62494402])),\n",
       " ('_HCCM',\n",
       "  <bound method RegressionResults._HCCM of <statsmodels.regression.linear_model.OLSResults object at 0x7f982e90dbe0>>),\n",
       " ('__class__', statsmodels.regression.linear_model.RegressionResultsWrapper),\n",
       " ('__delattr__',\n",
       "  <method-wrapper '__delattr__' of RegressionResultsWrapper object at 0x7f982e9f8040>),\n",
       " ('__dict__',\n",
       "  {'_results': <statsmodels.regression.linear_model.OLSResults at 0x7f982e90dbe0>,\n",
       "   '__doc__': \"\\n    Results class for for an OLS model.\\n\\n    Parameters\\n    ----------\\n    model : RegressionModel\\n        The regression model instance.\\n    params : ndarray\\n        The estimated parameters.\\n    normalized_cov_params : ndarray\\n        The normalized covariance parameters.\\n    scale : float\\n        The estimated scale of the residuals.\\n    cov_type : str\\n        The covariance estimator used in the results.\\n    cov_kwds : dict\\n        Additional keywords used in the covariance specification.\\n    use_t : bool\\n        Flag indicating to use the Student's t in inference.\\n    **kwargs\\n        Additional keyword arguments used to initialize the results.\\n\\n    See Also\\n    --------\\n    RegressionResults\\n        Results store for WLS and GLW models.\\n\\n    Notes\\n    -----\\n    Most of the methods and attributes are inherited from RegressionResults.\\n    The special methods that are only available for OLS are:\\n\\n    - get_influence\\n    - outlier_test\\n    - el_test\\n    - conf_int_el\\n    \"}),\n",
       " ('__dir__',\n",
       "  <bound method ResultsWrapper.__dir__ of <statsmodels.regression.linear_model.RegressionResultsWrapper object at 0x7f982e9f8040>>),\n",
       " ('__doc__',\n",
       "  \"\\n    Results class for for an OLS model.\\n\\n    Parameters\\n    ----------\\n    model : RegressionModel\\n        The regression model instance.\\n    params : ndarray\\n        The estimated parameters.\\n    normalized_cov_params : ndarray\\n        The normalized covariance parameters.\\n    scale : float\\n        The estimated scale of the residuals.\\n    cov_type : str\\n        The covariance estimator used in the results.\\n    cov_kwds : dict\\n        Additional keywords used in the covariance specification.\\n    use_t : bool\\n        Flag indicating to use the Student's t in inference.\\n    **kwargs\\n        Additional keyword arguments used to initialize the results.\\n\\n    See Also\\n    --------\\n    RegressionResults\\n        Results store for WLS and GLW models.\\n\\n    Notes\\n    -----\\n    Most of the methods and attributes are inherited from RegressionResults.\\n    The special methods that are only available for OLS are:\\n\\n    - get_influence\\n    - outlier_test\\n    - el_test\\n    - conf_int_el\\n    \"),\n",
       " ('__eq__',\n",
       "  <method-wrapper '__eq__' of RegressionResultsWrapper object at 0x7f982e9f8040>),\n",
       " ('__format__',\n",
       "  <function RegressionResultsWrapper.__format__(format_spec, /)>),\n",
       " ('__ge__',\n",
       "  <method-wrapper '__ge__' of RegressionResultsWrapper object at 0x7f982e9f8040>),\n",
       " ('__getattribute__',\n",
       "  <bound method ResultsWrapper.__getattribute__ of <statsmodels.regression.linear_model.RegressionResultsWrapper object at 0x7f982e9f8040>>),\n",
       " ('__gt__',\n",
       "  <method-wrapper '__gt__' of RegressionResultsWrapper object at 0x7f982e9f8040>),\n",
       " ('__hash__',\n",
       "  <method-wrapper '__hash__' of RegressionResultsWrapper object at 0x7f982e9f8040>),\n",
       " ('__init__',\n",
       "  <bound method ResultsWrapper.__init__ of <statsmodels.regression.linear_model.RegressionResultsWrapper object at 0x7f982e9f8040>>),\n",
       " ('__init_subclass__', <function RegressionResultsWrapper.__init_subclass__>),\n",
       " ('__le__',\n",
       "  <method-wrapper '__le__' of RegressionResultsWrapper object at 0x7f982e9f8040>),\n",
       " ('__lt__',\n",
       "  <method-wrapper '__lt__' of RegressionResultsWrapper object at 0x7f982e9f8040>),\n",
       " ('__module__', 'statsmodels.regression.linear_model'),\n",
       " ('__ne__',\n",
       "  <method-wrapper '__ne__' of RegressionResultsWrapper object at 0x7f982e9f8040>),\n",
       " ('__new__', <function object.__new__(*args, **kwargs)>),\n",
       " ('__reduce__', <function RegressionResultsWrapper.__reduce__()>),\n",
       " ('__reduce_ex__',\n",
       "  <function RegressionResultsWrapper.__reduce_ex__(protocol, /)>),\n",
       " ('__repr__',\n",
       "  <method-wrapper '__repr__' of RegressionResultsWrapper object at 0x7f982e9f8040>),\n",
       " ('__setattr__',\n",
       "  <method-wrapper '__setattr__' of RegressionResultsWrapper object at 0x7f982e9f8040>),\n",
       " ('__sizeof__', <function RegressionResultsWrapper.__sizeof__()>),\n",
       " ('__str__',\n",
       "  <method-wrapper '__str__' of RegressionResultsWrapper object at 0x7f982e9f8040>),\n",
       " ('__subclasshook__', <function RegressionResultsWrapper.__subclasshook__>),\n",
       " ('__weakref__', None),\n",
       " ('_abat_diagonal',\n",
       "  <bound method RegressionResults._abat_diagonal of <statsmodels.regression.linear_model.OLSResults object at 0x7f982e90dbe0>>),\n",
       " ('_cache',\n",
       "  {'wresid': array([ 2.70246445e+01, -1.57567141e+00, -1.99248025e+01, -1.25434439e-01,\n",
       "          -1.29753555e+01,  1.69251185e+01,  7.82559242e+00, -2.43285940e-02,\n",
       "          -3.47456556e+00, -1.36751975e+01]),\n",
       "   'eigenvals': array([7.88859879e+03, 4.01211937e-01]),\n",
       "   'condition_number': 140.2209842916249,\n",
       "   'ssr': 1844.9712480252767,\n",
       "   'centered_tss': 18025.6,\n",
       "   'rsquared': 0.8976471658072255,\n",
       "   'nobs': 10.0,\n",
       "   'rsquared_adj': 0.8848530615331287,\n",
       "   'ess': 16180.628751974722,\n",
       "   'mse_model': 16180.628751974722,\n",
       "   'mse_resid': 230.6214060031596,\n",
       "   'fvalue': 70.16100123746988,\n",
       "   'f_pvalue': 3.132286918404457e-05,\n",
       "   'llf': -40.27755473021181,\n",
       "   'aic': 84.55510946042362,\n",
       "   'bic': 85.16027964641171,\n",
       "   'scale': 230.6214060031596,\n",
       "   'bse': array([23.96064479,  0.85361679]),\n",
       "   'tvalues': array([23.681632 , -8.3762164]),\n",
       "   'pvalues': array([1.07591374e-08, 3.13228692e-05]),\n",
       "   'fittedvalues': array([402.97535545, 431.57567141, 352.92480253, 410.12543444,\n",
       "          402.97535545, 360.07488152, 317.17440758, 310.02432859,\n",
       "          331.47456556, 388.67519747]),\n",
       "   'cov_HC0': array([[263.30242325,  -8.08700804],\n",
       "          [ -8.08700804,   0.26437386]]),\n",
       "   'HC0_se': array([16.22659617,  0.51417299]),\n",
       "   'cov_HC1': array([[329.12802906, -10.10876004],\n",
       "          [-10.10876004,   0.33046732]]),\n",
       "   'HC1_se': array([18.14188604,  0.57486287]),\n",
       "   'cov_HC2': array([[317.57149893,  -9.79073069],\n",
       "          [ -9.79073069,   0.3207223 ]]),\n",
       "   'HC2_se': array([17.82053588,  0.5663235 ]),\n",
       "   'cov_HC3': array([[383.90358392, -11.88830461],\n",
       "          [-11.88830461,   0.39055502]]),\n",
       "   'HC3_se': array([19.59345768,  0.62494402]),\n",
       "   'mse_total': 2002.8444444444442,\n",
       "   'resid': array([ 2.70246445e+01, -1.57567141e+00, -1.99248025e+01, -1.25434439e-01,\n",
       "          -1.29753555e+01,  1.69251185e+01,  7.82559242e+00, -2.43285940e-02,\n",
       "          -3.47456556e+00, -1.36751975e+01]),\n",
       "   'resid_pearson': array([ 1.77954995e+00, -1.03756627e-01, -1.31203137e+00, -8.25975156e-03,\n",
       "          -8.54416165e-01,  1.11450471e+00,  5.15308631e-01, -1.60201731e-03,\n",
       "          -2.28797199e-01, -9.00500169e-01]),\n",
       "   'uncentered_tss': 1392952}),\n",
       " ('_data_attr', []),\n",
       " ('_data_in_cache', ['fittedvalues', 'resid']),\n",
       " ('_get_robustcov_results',\n",
       "  <bound method LikelihoodModelResults._get_robustcov_results of <statsmodels.regression.linear_model.OLSResults object at 0x7f982e90dbe0>>),\n",
       " ('_is_nested',\n",
       "  <bound method RegressionResults._is_nested of <statsmodels.regression.linear_model.OLSResults object at 0x7f982e90dbe0>>),\n",
       " ('_use_t', True),\n",
       " ('_wexog_singular_values', array([88.81778419,  0.63341293])),\n",
       " ('aic', 84.55510946042362),\n",
       " ('bic', 85.16027964641171),\n",
       " ('bse', array([23.96064479,  0.85361679])),\n",
       " ('centered_tss', 18025.6),\n",
       " ('compare_f_test',\n",
       "  <bound method RegressionResults.compare_f_test of <statsmodels.regression.linear_model.OLSResults object at 0x7f982e90dbe0>>),\n",
       " ('compare_lm_test',\n",
       "  <bound method RegressionResults.compare_lm_test of <statsmodels.regression.linear_model.OLSResults object at 0x7f982e90dbe0>>),\n",
       " ('compare_lr_test',\n",
       "  <bound method RegressionResults.compare_lr_test of <statsmodels.regression.linear_model.OLSResults object at 0x7f982e90dbe0>>),\n",
       " ('condition_number', 140.2209842916249),\n",
       " ('conf_int',\n",
       "  <bound method RegressionResults.conf_int of <statsmodels.regression.linear_model.RegressionResultsWrapper object at 0x7f982e9f8040>>),\n",
       " ('conf_int_el',\n",
       "  <bound method OLSResults.conf_int_el of <statsmodels.regression.linear_model.OLSResults object at 0x7f982e90dbe0>>),\n",
       " ('cov_HC0',\n",
       "  array([[263.30242325,  -8.08700804],\n",
       "         [ -8.08700804,   0.26437386]])),\n",
       " ('cov_HC1',\n",
       "  array([[329.12802906, -10.10876004],\n",
       "         [-10.10876004,   0.33046732]])),\n",
       " ('cov_HC2',\n",
       "  array([[317.57149893,  -9.79073069],\n",
       "         [ -9.79073069,   0.3207223 ]])),\n",
       " ('cov_HC3',\n",
       "  array([[383.90358392, -11.88830461],\n",
       "         [-11.88830461,   0.39055502]])),\n",
       " ('cov_kwds',\n",
       "  {'description': 'Standard Errors assume that the covariance matrix of the errors is correctly specified.'}),\n",
       " ('cov_params',\n",
       "  <bound method LikelihoodModelResults.cov_params of <statsmodels.regression.linear_model.RegressionResultsWrapper object at 0x7f982e9f8040>>),\n",
       " ('cov_type', 'nonrobust'),\n",
       " ('df_model', 1.0),\n",
       " ('df_resid', 8.0),\n",
       " ('diagn',\n",
       "  {'jb': 0.5235546865742445,\n",
       "   'jbpv': 0.7696823795786972,\n",
       "   'skew': 0.4934776156756607,\n",
       "   'kurtosis': 2.468539165049346,\n",
       "   'omni': 0.814166363107793,\n",
       "   'omnipv': 0.6655888232862188,\n",
       "   'condno': 140.2209842916249,\n",
       "   'mineigval': 0.40121193700321955}),\n",
       " ('eigenvals', array([7.88859879e+03, 4.01211937e-01])),\n",
       " ('el_test',\n",
       "  <bound method OLSResults.el_test of <statsmodels.regression.linear_model.OLSResults object at 0x7f982e90dbe0>>),\n",
       " ('ess', 16180.628751974722),\n",
       " ('f_pvalue', 3.132286918404457e-05),\n",
       " ('f_test',\n",
       "  <bound method LikelihoodModelResults.f_test of <statsmodels.regression.linear_model.OLSResults object at 0x7f982e90dbe0>>),\n",
       " ('fittedvalues',\n",
       "  array([402.97535545, 431.57567141, 352.92480253, 410.12543444,\n",
       "         402.97535545, 360.07488152, 317.17440758, 310.02432859,\n",
       "         331.47456556, 388.67519747])),\n",
       " ('fvalue', 70.16100123746988),\n",
       " ('get_influence',\n",
       "  <bound method OLSResults.get_influence of <statsmodels.regression.linear_model.OLSResults object at 0x7f982e90dbe0>>),\n",
       " ('get_prediction',\n",
       "  <bound method RegressionResults.get_prediction of <statsmodels.regression.linear_model.OLSResults object at 0x7f982e90dbe0>>),\n",
       " ('get_robustcov_results',\n",
       "  <bound method RegressionResults.get_robustcov_results of <statsmodels.regression.linear_model.OLSResults object at 0x7f982e90dbe0>>),\n",
       " ('initialize',\n",
       "  <bound method Results.initialize of <statsmodels.regression.linear_model.OLSResults object at 0x7f982e90dbe0>>),\n",
       " ('k_constant', 1),\n",
       " ('llf', -40.27755473021181),\n",
       " ('load',\n",
       "  <bound method ResultsWrapper.load of <class 'statsmodels.regression.linear_model.RegressionResultsWrapper'>>),\n",
       " ('model', <statsmodels.regression.linear_model.OLS at 0x7f982c316820>),\n",
       " ('mse_model', 16180.628751974722),\n",
       " ('mse_resid', 230.6214060031596),\n",
       " ('mse_total', 2002.8444444444442),\n",
       " ('nobs', 10.0),\n",
       " ('normalized_cov_params',\n",
       "  array([[ 2.48941548, -0.08688784],\n",
       "         [-0.08688784,  0.00315956]])),\n",
       " ('outlier_test',\n",
       "  <bound method OLSResults.outlier_test of <statsmodels.regression.linear_model.OLSResults object at 0x7f982e90dbe0>>),\n",
       " ('params', array([567.4271722 ,  -7.15007899])),\n",
       " ('predict',\n",
       "  <bound method Results.predict of <statsmodels.regression.linear_model.OLSResults object at 0x7f982e90dbe0>>),\n",
       " ('pvalues', array([1.07591374e-08, 3.13228692e-05])),\n",
       " ('remove_data',\n",
       "  <bound method LikelihoodModelResults.remove_data of <statsmodels.regression.linear_model.OLSResults object at 0x7f982e90dbe0>>),\n",
       " ('resid',\n",
       "  array([ 2.70246445e+01, -1.57567141e+00, -1.99248025e+01, -1.25434439e-01,\n",
       "         -1.29753555e+01,  1.69251185e+01,  7.82559242e+00, -2.43285940e-02,\n",
       "         -3.47456556e+00, -1.36751975e+01])),\n",
       " ('resid_pearson',\n",
       "  array([ 1.77954995e+00, -1.03756627e-01, -1.31203137e+00, -8.25975156e-03,\n",
       "         -8.54416165e-01,  1.11450471e+00,  5.15308631e-01, -1.60201731e-03,\n",
       "         -2.28797199e-01, -9.00500169e-01])),\n",
       " ('rsquared', 0.8976471658072255),\n",
       " ('rsquared_adj', 0.8848530615331287),\n",
       " ('save',\n",
       "  <bound method ResultsWrapper.save of <statsmodels.regression.linear_model.RegressionResultsWrapper object at 0x7f982e9f8040>>),\n",
       " ('scale', 230.6214060031596),\n",
       " ('ssr', 1844.9712480252767),\n",
       " ('summary',\n",
       "  <bound method RegressionResults.summary of <statsmodels.regression.linear_model.OLSResults object at 0x7f982e90dbe0>>),\n",
       " ('summary2',\n",
       "  <bound method RegressionResults.summary2 of <statsmodels.regression.linear_model.OLSResults object at 0x7f982e90dbe0>>),\n",
       " ('t_test',\n",
       "  <bound method LikelihoodModelResults.t_test of <statsmodels.regression.linear_model.OLSResults object at 0x7f982e90dbe0>>),\n",
       " ('t_test_pairwise',\n",
       "  <bound method LikelihoodModelResults.t_test_pairwise of <statsmodels.regression.linear_model.OLSResults object at 0x7f982e90dbe0>>),\n",
       " ('tvalues', array([23.681632 , -8.3762164])),\n",
       " ('uncentered_tss', 1392952),\n",
       " ('use_t', True),\n",
       " ('wald_test',\n",
       "  <bound method LikelihoodModelResults.wald_test of <statsmodels.regression.linear_model.OLSResults object at 0x7f982e90dbe0>>),\n",
       " ('wald_test_terms',\n",
       "  <bound method LikelihoodModelResults.wald_test_terms of <statsmodels.regression.linear_model.OLSResults object at 0x7f982e90dbe0>>),\n",
       " ('wresid',\n",
       "  array([ 2.70246445e+01, -1.57567141e+00, -1.99248025e+01, -1.25434439e-01,\n",
       "         -1.29753555e+01,  1.69251185e+01,  7.82559242e+00, -2.43285940e-02,\n",
       "         -3.47456556e+00, -1.36751975e+01]))]"
      ]
     },
     "execution_count": 48,
     "metadata": {},
     "output_type": "execute_result"
    }
   ],
   "source": [
    "import inspect\n",
    "inspect.getmembers(lm_ex3)"
   ]
  },
  {
   "cell_type": "markdown",
   "id": "16559ee4-870f-434d-ac30-eb6ccc7de896",
   "metadata": {},
   "source": [
    "## 5. Plotting the Regression Line\n",
    "\n",
    "You are provided with the code for the scatterplot in script.R\n",
    "\n",
    "Instructions:\n",
    "\n",
    "* Add the regression line to the scatterplot from a few exercises before.\n",
    "\n",
    "* The object mod is available in your working environment.\n"
   ]
  },
  {
   "cell_type": "code",
   "execution_count": 47,
   "id": "8d799994-1127-42bf-bf4f-7aab495c5ea2",
   "metadata": {},
   "outputs": [
    {
     "data": {
      "image/png": "[encoded data removed]",
      "text/plain": [
       "<Figure size 432x288 with 1 Axes>"
      ]
     },
     "metadata": {
      "needs_background": "light"
     },
     "output_type": "display_data"
    }
   ],
   "source": [
    "%matplotlib inline\n",
    "plt.scatter(cs,ts)\n",
    "\n",
    "abline(lm_ex3.params[1], lm_ex3.params[0])\n",
    "\n",
    "plt.show()"
   ]
  },
  {
   "cell_type": "markdown",
   "id": "8628268d-4a63-4cb6-9dc5-c87eb4de7941",
   "metadata": {},
   "source": [
    "## 6. Summary of a Model Object\n",
    "\n",
    "Now read out and store some of the information that is contained in the output of summary().\n",
    "\n",
    "Instructions:\n",
    "\n",
    "* Assign the output of summary(mod) to the variable s.\n",
    "\n",
    "* Check entry names of the object s.\n",
    "\n",
    "* Create a new variable R2 and assign the R2 of the regression.\n",
    "\n",
    "The object mod is available in your working environment."
   ]
  },
  {
   "cell_type": "code",
   "execution_count": 51,
   "id": "81a804c8-fd87-41a7-8d74-1b0e48ed7bd5",
   "metadata": {},
   "outputs": [
    {
     "name": "stdout",
     "output_type": "stream",
     "text": [
      "0.8976471658072255\n"
     ]
    }
   ],
   "source": [
    "R2 = lm_ex3.rsquared\n",
    "\n",
    "print(R2)"
   ]
  },
  {
   "cell_type": "markdown",
   "id": "fea3ffdb-dfd7-4458-9952-779631e1e75f",
   "metadata": {},
   "source": [
    "## 7. Estimated Coefficients\n",
    "\n",
    "The function summary() also provides information on the statistical significance of the estimated coefficients.\n",
    "\n",
    "Instructions:\n",
    "\n",
    "* Extract the named 2×4 matrix with estimated coefficients, standard errors, t-statistics and corresponding p-values from the model summary s. Save this matrix in an object named coefs.\n",
    "\n",
    "* The objects mod and s are available in your working environment."
   ]
  },
  {
   "cell_type": "code",
   "execution_count": 63,
   "id": "e1489610-3b42-4566-91ee-521fafc9883b",
   "metadata": {},
   "outputs": [
    {
     "data": {
      "text/html": [
       "<table class=\"simpletable\">\n",
       "<tr>\n",
       "    <td></td>       <th>coef</th>     <th>std err</th>      <th>t</th>      <th>P>|t|</th>  <th>[0.025</th>    <th>0.975]</th>  \n",
       "</tr>\n",
       "<tr>\n",
       "  <th>const</th> <td>  567.4272</td> <td>   23.961</td> <td>   23.682</td> <td> 0.000</td> <td>  512.174</td> <td>  622.681</td>\n",
       "</tr>\n",
       "<tr>\n",
       "  <th>x1</th>    <td>   -7.1501</td> <td>    0.854</td> <td>   -8.376</td> <td> 0.000</td> <td>   -9.119</td> <td>   -5.182</td>\n",
       "</tr>\n",
       "</table>"
      ],
      "text/plain": [
       "<class 'statsmodels.iolib.table.SimpleTable'>"
      ]
     },
     "execution_count": 63,
     "metadata": {},
     "output_type": "execute_result"
    }
   ],
   "source": [
    "coefs = lm_ex3.summary().tables[1]\n",
    "\n",
    "coefs"
   ]
  },
  {
   "cell_type": "markdown",
   "id": "0ce1790a-4d44-4019-8113-2dfa9a3423ed",
   "metadata": {},
   "source": [
    "## 8. Dropping the Intercept\n",
    "\n",
    "So far, we have estimated regression models consisting of an intercept and a single regressor. In this exercise you will learn how to specify and how to estimate regression a model without intercept.\n",
    "\n",
    "Note that excluding the intercept from a regression model might be a dodgy practice in some applications as this imposes the conditional expectation function of the dependent variable to be zero if the regressor is zero.\n",
    "\n",
    "Instructions:\n",
    "\n",
    "* Figure out how the formula argument must be specified for a regression of ts solely on cs, i.e., a regression without intercept. Google is your friend!\n",
    "\n",
    "* Estimate the regression model without intercept and store the result in mod_ni.\n",
    "\n",
    "The vectors cs, ts and the model object mod from previous exercises are available in the working environment."
   ]
  },
  {
   "cell_type": "code",
   "execution_count": 64,
   "id": "bff03d8e-ec7c-4295-a988-fcd97144bba1",
   "metadata": {},
   "outputs": [],
   "source": [
    "lm_ex4 = sm.OLS(ts, cs).fit()"
   ]
  },
  {
   "cell_type": "code",
   "execution_count": 66,
   "id": "05c74cd6-972f-4c43-9f2a-4a0483ff9471",
   "metadata": {},
   "outputs": [
    {
     "data": {
      "text/html": [
       "<table class=\"simpletable\">\n",
       "<caption>OLS Regression Results</caption>\n",
       "<tr>\n",
       "  <th>Dep. Variable:</th>            <td>y</td>        <th>  R-squared (uncentered):</th>      <td>   0.906</td>\n",
       "</tr>\n",
       "<tr>\n",
       "  <th>Model:</th>                   <td>OLS</td>       <th>  Adj. R-squared (uncentered):</th> <td>   0.895</td>\n",
       "</tr>\n",
       "<tr>\n",
       "  <th>Method:</th>             <td>Least Squares</td>  <th>  F-statistic:       </th>          <td>   86.57</td>\n",
       "</tr>\n",
       "<tr>\n",
       "  <th>Date:</th>             <td>Mon, 23 Aug 2021</td> <th>  Prob (F-statistic):</th>          <td>6.50e-06</td>\n",
       "</tr>\n",
       "<tr>\n",
       "  <th>Time:</th>                 <td>22:04:56</td>     <th>  Log-Likelihood:    </th>          <td> -61.598</td>\n",
       "</tr>\n",
       "<tr>\n",
       "  <th>No. Observations:</th>      <td>    10</td>      <th>  AIC:               </th>          <td>   125.2</td>\n",
       "</tr>\n",
       "<tr>\n",
       "  <th>Df Residuals:</th>          <td>     9</td>      <th>  BIC:               </th>          <td>   125.5</td>\n",
       "</tr>\n",
       "<tr>\n",
       "  <th>Df Model:</th>              <td>     1</td>      <th>                     </th>              <td> </td>   \n",
       "</tr>\n",
       "<tr>\n",
       "  <th>Covariance Type:</th>      <td>nonrobust</td>    <th>                     </th>              <td> </td>   \n",
       "</tr>\n",
       "</table>\n",
       "<table class=\"simpletable\">\n",
       "<tr>\n",
       "   <td></td>     <th>coef</th>     <th>std err</th>      <th>t</th>      <th>P>|t|</th>  <th>[0.025</th>    <th>0.975]</th>  \n",
       "</tr>\n",
       "<tr>\n",
       "  <th>x1</th> <td>   12.6548</td> <td>    1.360</td> <td>    9.304</td> <td> 0.000</td> <td>    9.578</td> <td>   15.732</td>\n",
       "</tr>\n",
       "</table>\n",
       "<table class=\"simpletable\">\n",
       "<tr>\n",
       "  <th>Omnibus:</th>       <td> 2.138</td> <th>  Durbin-Watson:     </th> <td>   1.077</td>\n",
       "</tr>\n",
       "<tr>\n",
       "  <th>Prob(Omnibus):</th> <td> 0.343</td> <th>  Jarque-Bera (JB):  </th> <td>   0.854</td>\n",
       "</tr>\n",
       "<tr>\n",
       "  <th>Skew:</th>          <td>-0.094</td> <th>  Prob(JB):          </th> <td>   0.652</td>\n",
       "</tr>\n",
       "<tr>\n",
       "  <th>Kurtosis:</th>      <td> 1.581</td> <th>  Cond. No.          </th> <td>    1.00</td>\n",
       "</tr>\n",
       "</table><br/><br/>Notes:<br/>[1] R² is computed without centering (uncentered) since the model does not contain a constant.<br/>[2] Standard Errors assume that the covariance matrix of the errors is correctly specified."
      ],
      "text/plain": [
       "<class 'statsmodels.iolib.summary.Summary'>\n",
       "\"\"\"\n",
       "                                 OLS Regression Results                                \n",
       "=======================================================================================\n",
       "Dep. Variable:                      y   R-squared (uncentered):                   0.906\n",
       "Model:                            OLS   Adj. R-squared (uncentered):              0.895\n",
       "Method:                 Least Squares   F-statistic:                              86.57\n",
       "Date:                Mon, 23 Aug 2021   Prob (F-statistic):                    6.50e-06\n",
       "Time:                        22:04:56   Log-Likelihood:                         -61.598\n",
       "No. Observations:                  10   AIC:                                      125.2\n",
       "Df Residuals:                       9   BIC:                                      125.5\n",
       "Df Model:                           1                                                  \n",
       "Covariance Type:            nonrobust                                                  \n",
       "==============================================================================\n",
       "                 coef    std err          t      P>|t|      [0.025      0.975]\n",
       "------------------------------------------------------------------------------\n",
       "x1            12.6548      1.360      9.304      0.000       9.578      15.732\n",
       "==============================================================================\n",
       "Omnibus:                        2.138   Durbin-Watson:                   1.077\n",
       "Prob(Omnibus):                  0.343   Jarque-Bera (JB):                0.854\n",
       "Skew:                          -0.094   Prob(JB):                        0.652\n",
       "Kurtosis:                       1.581   Cond. No.                         1.00\n",
       "==============================================================================\n",
       "\n",
       "Notes:\n",
       "[1] R² is computed without centering (uncentered) since the model does not contain a constant.\n",
       "[2] Standard Errors assume that the covariance matrix of the errors is correctly specified.\n",
       "\"\"\""
      ]
     },
     "execution_count": 66,
     "metadata": {},
     "output_type": "execute_result"
    }
   ],
   "source": [
    "lm_ex4.summary()"
   ]
  },
  {
   "cell_type": "markdown",
   "id": "17e966b8-4916-4e9d-9c09-b493c77f9942",
   "metadata": {},
   "source": [
    "## 9. Regression Output: No Constant Case\n",
    "\n",
    "In Exercise 8 you have estimated a model without intercept. The estimated regression function is\n",
    "\n",
    "$\\text { TestScore }_{i}=\\underset{(1.36)}{12.65} \\times S T R_{i}$\n",
    "\n",
    "Instructions:\n",
    "\n",
    "* Convince yourself that everything is as stated above: extract the coefficient matrix from the summary of mod_ni and store it in a variable named coef.\n",
    "\n",
    "* The vectors cs, ts as well as the model object mod_ni from the previous exercise are available in your working environment."
   ]
  },
  {
   "cell_type": "code",
   "execution_count": 67,
   "id": "55752162-2f16-45be-9f25-b4ecdddb3523",
   "metadata": {},
   "outputs": [
    {
     "data": {
      "text/plain": [
       "12.654778525193548"
      ]
     },
     "execution_count": 67,
     "metadata": {},
     "output_type": "execute_result"
    }
   ],
   "source": [
    "coef = lm_ex4.params[0]"
   ]
  },
  {
   "cell_type": "markdown",
   "id": "cf7827e5-2377-4b74-8ba6-1e5cd3ca211d",
   "metadata": {},
   "source": [
    "## 10. Regression Output: No Constant Case — Ctd.\n",
    "\n",
    "In Exercises 8 and 9 you have dealt with a model without intercept. The estimated regression function was\n",
    "\n",
    "$\\text { TestScore }_{i}=\\underset{(1.36)}{12.65} \\times S T R_{i}$\n",
    "\n",
    "The coefficient matrix coef from Exercise 9 contains the estimated coefficient on STR\n",
    ", its standard error, the t-statistic of the significance test and the corresponding p-value.\n",
    "\n",
    "Instructions:\n",
    "\n",
    "* Print the contents of coef to the console.\n",
    "  \n",
    "* Convince yourself that the reported t-statistic is correct: use the entries of coef to compute the t-statistic and save it to t_stat.\n",
    "\n",
    "The matrix coef from the previous exercise is available in your working environment."
   ]
  },
  {
   "cell_type": "code",
   "execution_count": 72,
   "id": "004c9a1b-6ea6-4de2-af28-494d23afef60",
   "metadata": {},
   "outputs": [
    {
     "data": {
      "text/plain": [
       "9.304097093872121"
      ]
     },
     "execution_count": 72,
     "metadata": {},
     "output_type": "execute_result"
    }
   ],
   "source": [
    "t_stat = lm_ex4.params[0] / lm_ex4.bse[0]\n",
    "\n",
    "t_stat"
   ]
  },
  {
   "cell_type": "markdown",
   "id": "e5163c9f-baaa-48d2-a319-830042031057",
   "metadata": {},
   "source": [
    "## 11. Two Regressions, One Plot\n",
    "\n",
    "The two estimated regression models from the previous exercises are\n",
    "\n",
    "$\\text { TestScore }_{i}=\\underset{(1.36)}{12.65} \\times S T R_{i}$\n",
    "\n",
    "and\n",
    "\n",
    "ˆTestScorei=567.4272(23.96)−7.1501(0.85)×STRi.\n",
    "\n",
    "You are provided with the code line plot(cs, ts) which creates a scatterplot of ts and cs. Note that this line must be executed before calling abline()! You may color the regression lines by using, e.g., col = “red” or col = “blue” as an additional argument to abline() for better distinguishability.\n",
    "\n",
    "The vectors cs and ts as well as the list objects mod and mod_ni from previous exercises are available in your working environment.\n",
    "\n",
    "Instructions:\n",
    "\n",
    "Generate a scatterplot of ts and cs and add the estimated regression lines of mod and mod_ni."
   ]
  },
  {
   "cell_type": "code",
   "execution_count": 76,
   "id": "a79409a4-ceea-4ffc-b6d1-c1bae64614fd",
   "metadata": {},
   "outputs": [
    {
     "data": {
      "image/png": "[encoded data removed]",
      "text/plain": [
       "<Figure size 432x288 with 1 Axes>"
      ]
     },
     "metadata": {
      "needs_background": "light"
     },
     "output_type": "display_data"
    }
   ],
   "source": [
    "%matplotlib inline\n",
    "plt.scatter(cs,ts)\n",
    "\n",
    "abline(lm_ex3.params[1], lm_ex3.params[0])\n",
    "\n",
    "abline(lm_ex4.params[0], 0)\n",
    "\n",
    "plt.show()"
   ]
  },
  {
   "cell_type": "markdown",
   "id": "1abae87a-1291-4823-9216-6fab98cfe00e",
   "metadata": {},
   "source": [
    "## 12. TSS and SSR\n",
    "\n",
    "If graphical inspection does not help, researchers resort to analytic techniques in order to detect if a model fits the data at hand good or better than another model.\n",
    "\n",
    "Let us go back to the simple regression model including an intercept. The estimated regression line for mod was\n",
    "\n",
    "ˆTestScorei=567.43−7.15×STRi,R2=0.8976,SER=15.19.\n",
    "\n",
    "You can check this as mod and the vectors cs and ts are available in your working environment.\n",
    "\n",
    "Instructions:\n",
    "\n",
    "* Compute SSR , the sum of squared residuals, and save it to ssr.\n",
    "\n",
    "* Compute TSS, the total sum of squares, and save it to tss."
   ]
  },
  {
   "cell_type": "code",
   "execution_count": 86,
   "id": "de7dd017-20bc-4200-85ee-a94e72053cc7",
   "metadata": {},
   "outputs": [
    {
     "data": {
      "text/plain": [
       "1844.9712480252767"
      ]
     },
     "execution_count": 86,
     "metadata": {},
     "output_type": "execute_result"
    }
   ],
   "source": [
    "ssr = np.sum(lm_ex3.resid**2)\n",
    "\n",
    "ssr"
   ]
  },
  {
   "cell_type": "code",
   "execution_count": 93,
   "id": "4bfe35ad-84a6-49ab-a3fd-07be18544a5e",
   "metadata": {},
   "outputs": [
    {
     "data": {
      "text/plain": [
       "18025.6"
      ]
     },
     "execution_count": 93,
     "metadata": {},
     "output_type": "execute_result"
    }
   ],
   "source": [
    "tss = (lm_ex3.nobs - 1) * stats.tvar(ts)\n",
    "\n",
    "tss"
   ]
  },
  {
   "cell_type": "markdown",
   "id": "0247bebd-b2a8-4bc4-adc4-def029c231b9",
   "metadata": {},
   "source": [
    "## 13. The R2 of a Regression Model\n",
    "\n",
    "The R2 of the regression saved in mod is 0.8976. \n",
    "You can check this by executing summary(mod)$r.squared in the console below.\n",
    "\n",
    "Remember the formula of R2: \n",
    "\n",
    "R2=ESS/TSS=1− ( SSR /TSS)\n",
    "\n",
    "The objects mod, tss and ssr from the previous exercise are available in your working environment.\n",
    "\n",
    "Instructions:\n",
    "\n",
    "* Use ssr and tss to compute R2 manually. Round the result to four decimal places and save it to R2.\n",
    "* Use the logical operator == to check whether your result matches the value mentioned above."
   ]
  },
  {
   "cell_type": "code",
   "execution_count": 95,
   "id": "305bd145-8c11-4152-8930-9e6777c7841d",
   "metadata": {},
   "outputs": [
    {
     "data": {
      "text/plain": [
       "True"
      ]
     },
     "execution_count": 95,
     "metadata": {},
     "output_type": "execute_result"
    }
   ],
   "source": [
    "round(lm_ex3.rsquared, 4) == round(1 - (ssr / tss),4)"
   ]
  },
  {
   "cell_type": "markdown",
   "id": "8980fc07-32f5-4ea4-b11b-28f85c420092",
   "metadata": {},
   "source": [
    "Got bored for the last two exercices."
   ]
  },
  {
   "cell_type": "code",
   "execution_count": null,
   "id": "211a680c-d68c-4334-9966-71b90abd8302",
   "metadata": {},
   "outputs": [],
   "source": []
  }
 ],
 "metadata": {
  "kernelspec": {
   "display_name": "Python 3 (ipykernel)",
   "language": "python",
   "name": "python3"
  },
  "language_info": {
   "codemirror_mode": {
    "name": "ipython",
    "version": 3
   },
   "file_extension": ".py",
   "mimetype": "text/x-python",
   "name": "python",
   "nbconvert_exporter": "python",
   "pygments_lexer": "ipython3",
   "version": "3.8.1"
  }
 },
 "nbformat": 4,
 "nbformat_minor": 5
}
