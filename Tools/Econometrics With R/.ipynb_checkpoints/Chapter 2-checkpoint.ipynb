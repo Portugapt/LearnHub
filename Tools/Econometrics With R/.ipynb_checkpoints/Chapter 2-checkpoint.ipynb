{
 "cells": [
  {
   "cell_type": "markdown",
   "id": "afd8ac1c-dfd8-4347-9c92-320ab4c4b02b",
   "metadata": {},
   "source": [
    "# 2.3 Exercises\n",
    "\n"
   ]
  },
  {
   "cell_type": "code",
   "execution_count": 98,
   "id": "94fe5604-040f-4fc7-8167-70dcd22fb0dc",
   "metadata": {},
   "outputs": [],
   "source": [
    "import random\n",
    "import math\n",
    "import numpy as np\n",
    "\n",
    "import scipy.stats as stats\n",
    "import scipy.integrate as integrate\n",
    "\n",
    "from matplotlib import pyplot as plt"
   ]
  },
  {
   "cell_type": "markdown",
   "id": "44eff11f-7532-4244-8378-14f00a763365",
   "metadata": {},
   "source": [
    "## 1. Sampling\n",
    "\n",
    "Suppose you are the lottery fairy in a weekly lottery, where 6\n",
    "out of 49 unique numbers are drawn.\n",
    "Instructions:\n",
    "Draw the winning numbers for this week."
   ]
  },
  {
   "cell_type": "code",
   "execution_count": 3,
   "id": "b8f2d22e-6294-4b93-87ad-938fd529aea6",
   "metadata": {},
   "outputs": [
    {
     "name": "stdout",
     "output_type": "stream",
     "text": [
      "List: [1, 2, 3, 4, 5, 6, 7, 8, 9, 10, 11, 12, 13, 14, 15, 16, 17, 18, 19, 20, 21, 22, 23, 24, 25, 26, 27, 28, 29, 30, 31, 32, 33, 34, 35, 36, 37, 38, 39, 40, 41, 42, 43, 44, 45, 46, 47, 48, 49]\n",
      "Winning Numbers: [32, 4, 43, 6, 18, 20]\n"
     ]
    }
   ],
   "source": [
    "list_1_49 = list(range(1,50))\n",
    "print(f'List: {list_1_49}')\n",
    "print(f'Winning Numbers: {random.sample(list_1_49,6)}')"
   ]
  },
  {
   "cell_type": "markdown",
   "id": "cabb1cb2-5438-4cbc-9a10-4c56a3777c63",
   "metadata": {},
   "source": [
    "## 2. Probability Density Function\n",
    "\n",
    "Consider a random variable X\n",
    "\n",
    "with probability density function (PDF)   \n",
    "\n",
    "$$f_{X}(x)=\\frac{x}{4} e^{-x^{2} / 8}, \\quad x \\geq 0$$\n",
    "\n",
    "Instructions:\n",
    "\n",
    "    Define the PDF from above as a function f(). exp(a) computes ea\n",
    "\n",
    "Check whether the function you have defined is indeed a PDF.\n",
    "\n",
    "[Stats library allows to define a continuous PDF.](https://docs.scipy.org/doc/scipy/reference/generated/scipy.stats.rv_continuous.html#scipy.stats.rv_continuous)   \n",
    "\n",
    "\n",
    "Define the PDF:"
   ]
  },
  {
   "cell_type": "code",
   "execution_count": 45,
   "id": "8d2eda00-3820-4029-a3d3-31bc8fecd606",
   "metadata": {},
   "outputs": [],
   "source": [
    "class functionEX1Class(stats.rv_continuous):\n",
    "\n",
    "    \"Wanted Function\"\n",
    "\n",
    "    def _pdf(self, x):\n",
    "        return ((x/4) * math.exp((-x**2)/8))\n",
    "    \n",
    "my_function_1 = functionEX1Class(name='PDF1', a = 0, b = np.Inf)"
   ]
  },
  {
   "cell_type": "markdown",
   "id": "a091fb30-5981-45cf-9370-2ff2a442067f",
   "metadata": {},
   "source": [
    "Integrate over the domain"
   ]
  },
  {
   "cell_type": "code",
   "execution_count": 46,
   "id": "97cbe842-931a-4674-b264-75e39bd07ce0",
   "metadata": {},
   "outputs": [
    {
     "data": {
      "text/plain": [
       "array([0., 1.])"
      ]
     },
     "execution_count": 46,
     "metadata": {},
     "output_type": "execute_result"
    }
   ],
   "source": [
    "from scipy import integrate\n",
    "\n",
    "my_function_1.cdf([-np.Inf,np.Inf])"
   ]
  },
  {
   "cell_type": "markdown",
   "id": "723eb443-6f84-4ad0-9e30-c2421d3b6ab7",
   "metadata": {},
   "source": [
    "## 3. Expected Value and Variance\n",
    "\n",
    "In this exercise you have to compute the expected value and the variance of the random variable X\n",
    "\n",
    "considered in the previous exercise.\n",
    "\n",
    "The PDF f() from the previous exercise is available in your working environment.\n",
    "\n",
    "Instructions:\n",
    "\n",
    "    Define a suitable function ex() which integrates to the expected value of X\n",
    "\n",
    "\n",
    "\n",
    "* Compute the expected value of X\n",
    "\n",
    "* Store the result in expected_value.\n",
    "\n",
    "* Define a suitable function ex2() which integrates to the expected value of X2\n",
    "\n",
    "* Compute the variance of X. Store the result in variance."
   ]
  },
  {
   "cell_type": "code",
   "execution_count": 49,
   "id": "4e59b1db-9d16-410c-88fc-3e49f0ea9e95",
   "metadata": {},
   "outputs": [],
   "source": [
    "f_expected_value = my_function_1.mean()"
   ]
  },
  {
   "cell_type": "code",
   "execution_count": 51,
   "id": "ed0314bc-a0f4-4065-90bb-df5ec4e0af25",
   "metadata": {},
   "outputs": [],
   "source": [
    "f_variance = my_function_1.var()"
   ]
  },
  {
   "cell_type": "code",
   "execution_count": 53,
   "id": "735e7218-b73c-4913-86ac-58c30358d6f3",
   "metadata": {},
   "outputs": [
    {
     "name": "stdout",
     "output_type": "stream",
     "text": [
      "Mean: 2.507, Variance: 1.717\n"
     ]
    }
   ],
   "source": [
    "print(f'Mean: {round(f_expected_value,3)}, Variance: {round(f_variance,3)}')"
   ]
  },
  {
   "cell_type": "markdown",
   "id": "60427764-073f-40c3-8fb3-f02601c7b50b",
   "metadata": {},
   "source": [
    "## 4. Standard Normal Distribution I\n",
    "\n",
    "Let Z∼N(0,1).\n",
    "\n",
    "Instructions:\n",
    "\n",
    "* Compute ϕ(3), that is, the value of the standard normal density at c=3."
   ]
  },
  {
   "cell_type": "code",
   "execution_count": 55,
   "id": "73a8e4c5-51cb-4fd3-9c24-590d30e71a6e",
   "metadata": {},
   "outputs": [],
   "source": [
    "my_norm_1 = stats.norm()"
   ]
  },
  {
   "cell_type": "code",
   "execution_count": 57,
   "id": "b410fe43-8300-4a19-8f1a-6004f20dae72",
   "metadata": {},
   "outputs": [
    {
     "data": {
      "text/plain": [
       "0.0044318484119380075"
      ]
     },
     "execution_count": 57,
     "metadata": {},
     "output_type": "execute_result"
    }
   ],
   "source": [
    "my_norm_1.pdf(3)"
   ]
  },
  {
   "cell_type": "markdown",
   "id": "4f6d8c0c-e307-478e-b73f-0f0934ba2177",
   "metadata": {},
   "source": [
    "## 5. Standard Normal Distribution II\n",
    "\n",
    "Let Z∼N(0,1).\n",
    "\n",
    "Instructions:\n",
    "\n",
    "* Compute P(|Z|≤1.64) by using the function pnorm()."
   ]
  },
  {
   "cell_type": "code",
   "execution_count": 70,
   "id": "0f86e3d2-f7be-42f8-9e5e-3c6403d4aea9",
   "metadata": {},
   "outputs": [
    {
     "data": {
      "text/plain": [
       "0.8989948330517925"
      ]
     },
     "execution_count": 70,
     "metadata": {},
     "output_type": "execute_result"
    }
   ],
   "source": [
    "my_norm_1.cdf(1.64) - my_norm_1.cdf(-1.64)"
   ]
  },
  {
   "cell_type": "markdown",
   "id": "8a407ce7-df8c-4457-82a6-a19aa58c0a78",
   "metadata": {},
   "source": [
    "6. Normal Distribution I\n",
    "\n",
    "Let Y∼N(5,25).\n",
    "\n",
    "Instructions:\n",
    "\n",
    "* Compute the 99% quantile of the given distribution, i.e., find y such that $\\phi(\\frac{y}{55})=0.99$."
   ]
  },
  {
   "cell_type": "code",
   "execution_count": 77,
   "id": "77a35f7b-9cd9-41ff-af23-932d3657eae4",
   "metadata": {},
   "outputs": [],
   "source": [
    "my_norm_2 = stats.norm(5, math.sqrt(25))"
   ]
  },
  {
   "cell_type": "code",
   "execution_count": 78,
   "id": "62a6b8ba-39c0-4275-9ebb-6c915f47b1a4",
   "metadata": {},
   "outputs": [
    {
     "data": {
      "text/plain": [
       "16.631739370204205"
      ]
     },
     "execution_count": 78,
     "metadata": {},
     "output_type": "execute_result"
    }
   ],
   "source": [
    "my_norm_2.ppf(0.99)"
   ]
  },
  {
   "cell_type": "markdown",
   "id": "66379476-cc2c-4ccf-822f-c1da03f1336e",
   "metadata": {},
   "source": [
    "## 7. Normal Distribution II\n",
    "\n",
    "Let Y∼N(2,12).\n",
    "\n",
    "Instructions:\n",
    "\n",
    "* Generate 10 random numbers from this distribution."
   ]
  },
  {
   "cell_type": "code",
   "execution_count": 85,
   "id": "1e7142b2-c673-4cc2-b464-32660c1673ec",
   "metadata": {},
   "outputs": [],
   "source": [
    "my_norm_3 = stats.norm(2, math.sqrt(12))"
   ]
  },
  {
   "cell_type": "code",
   "execution_count": 109,
   "id": "47df216b-9fff-42a8-abc4-9f0b9e47ed6f",
   "metadata": {},
   "outputs": [
    {
     "data": {
      "text/plain": [
       "array([-1.76073473e+00,  5.45490597e+00,  2.98026627e+00, -3.21795795e+00,\n",
       "       -4.33006736e-03,  7.72074398e+00, -6.40626349e+00,  5.14203070e-01,\n",
       "        6.38533184e+00, -1.00247683e+00])"
      ]
     },
     "execution_count": 109,
     "metadata": {},
     "output_type": "execute_result"
    }
   ],
   "source": [
    "np.random.seed(seed=123)\n",
    "# [my_norm_3.rvs() for i in range(1,10)]\n",
    "my_norm_3.rvs(10)"
   ]
  },
  {
   "cell_type": "markdown",
   "id": "59637c36-cd07-402e-a0f7-97430bb1cfca",
   "metadata": {},
   "source": [
    "## 8. Chi-squared Distribution I\n",
    "\n",
    "$$\\text { Let } W \\sim \\chi_{10}^{2}$$.\n",
    "\n",
    "Instructions:\n",
    "\n",
    "* Plot the corresponding PDF using curve(). Specify the range of x-values as [0,25] via the argument xlim."
   ]
  },
  {
   "cell_type": "code",
   "execution_count": 101,
   "id": "7b61e4be-d8a9-4e9a-8b06-7d6a4d37157c",
   "metadata": {},
   "outputs": [
    {
     "data": {
      "image/png": "[encoded data removed]",
      "text/plain": [
       "<Figure size 432x288 with 1 Axes>"
      ]
     },
     "metadata": {
      "needs_background": "light"
     },
     "output_type": "display_data"
    }
   ],
   "source": [
    "%matplotlib inline\n",
    "my_chi2_1 = stats.chi2(10)\n",
    "\n",
    "\n",
    "X = np.arange(0, 25, 0.01)\n",
    "F = my_chi2_1.pdf(X)\n",
    "\n",
    "plt.plot(X, F)\n",
    "plt.show()"
   ]
  },
  {
   "cell_type": "markdown",
   "id": "f3c8bef0-e023-4cae-885c-753140484a46",
   "metadata": {},
   "source": [
    "## 9. Chi-squared Distribution II\n",
    "\n",
    "Let $\\chi_{1}$ and $\\chi_{2}$ be two independent normally distributed random variables with μ=0 and σ2=15.\n",
    "\n",
    "Instructions:\n",
    "\n",
    "* Compute $P(\\chi_{1}^{2}+\\chi_{2}^{2}>10)$."
   ]
  },
  {
   "cell_type": "code",
   "execution_count": 105,
   "id": "e2f3deb4-3c55-48c6-a46d-a1cf4dcf51f6",
   "metadata": {},
   "outputs": [
    {
     "data": {
      "text/plain": [
       "0.7165313105737892"
      ]
     },
     "execution_count": 105,
     "metadata": {},
     "output_type": "execute_result"
    }
   ],
   "source": [
    "my_chi2_2 = stats.chi2(2)\n",
    "\n",
    "1 - my_chi2_2.cdf(10/15)"
   ]
  },
  {
   "cell_type": "markdown",
   "id": "dc563bee-5d6c-4f6d-94f6-e488198aa3ed",
   "metadata": {},
   "source": [
    "## 10. Student t Distribution I\n",
    "\n",
    "Let $X∼t_{10000}$ and $Z∼N(0,1)$.\n",
    "\n",
    "Instructions:\n",
    "\n",
    "* Compute the 95% quantile of both distributions. What do you notice?"
   ]
  },
  {
   "cell_type": "code",
   "execution_count": 106,
   "id": "42314e62-9b4e-4a78-9aa9-ec95b69d4fb8",
   "metadata": {},
   "outputs": [
    {
     "name": "stdout",
     "output_type": "stream",
     "text": [
      "t 95% quantile: 1.6450060180692423 \n",
      "Norm 95% quantile: 1.6448536269514722\n"
     ]
    }
   ],
   "source": [
    "my_t_1 = stats.t(10000)\n",
    "\n",
    "print(f't 95% quantile: {my_t_1.ppf(0.95)} \\nNorm 95% quantile: {my_norm_1.ppf(0.95)}')"
   ]
  },
  {
   "cell_type": "markdown",
   "id": "aee98bc2-915f-4dc6-993b-14974559d10f",
   "metadata": {},
   "source": [
    "Both values are very close to each other. This is not surprising as for sufficient large degrees of freedom the t distribution can be approximated by the standard normal distribution."
   ]
  },
  {
   "cell_type": "markdown",
   "id": "7b41c3c2-64b6-4b08-9aae-af64e3043b05",
   "metadata": {},
   "source": [
    "## 11. Student t Distribution II\n",
    "\n",
    "Let $X∼t_{1}$. Once the session has initialized you will see the plot of the corresponding probability density function (PDF).\n",
    "\n",
    "Instructions:\n",
    "\n",
    "* Generate 1000 random numbers from this distribution and assign them to the variable x.\n",
    "\n",
    "* Compute the sample mean of x. Can you explain the result?"
   ]
  },
  {
   "cell_type": "code",
   "execution_count": 123,
   "id": "fab34a47-d5ad-4527-9a44-73c530eff015",
   "metadata": {},
   "outputs": [
    {
     "data": {
      "text/plain": [
       "80.46123514896436"
      ]
     },
     "execution_count": 123,
     "metadata": {},
     "output_type": "execute_result"
    }
   ],
   "source": [
    "np.random.seed(seed=133515313)\n",
    "my_t_2 = stats.t(1)\n",
    "x = my_t_2.rvs(1000)\n",
    "\n",
    "np.mean(x)"
   ]
  },
  {
   "cell_type": "markdown",
   "id": "ed0a5f1a-98da-45ff-8e43-74abb34461ea",
   "metadata": {},
   "source": [
    "Although a t distribution with M = 1 is, as every other t distribution, symmetric around zero it actually has no expectation. This explains the highly non-zero value for the sample mean."
   ]
  },
  {
   "cell_type": "markdown",
   "id": "af0fa6a1-7fa1-48a2-96ae-26bd917fa932",
   "metadata": {},
   "source": [
    "## 12. F Distribution I\n",
    "\n",
    "Let Y∼F(10,4).\n",
    "\n",
    "Instructions:\n",
    "\n",
    "* Plot the quantile function of the given distribution using the function curve().\n"
   ]
  },
  {
   "cell_type": "code",
   "execution_count": 125,
   "id": "cdb68e22-9359-4ba5-8985-5ca3ba597c5e",
   "metadata": {},
   "outputs": [
    {
     "data": {
      "image/png": "[encoded data removed]",
      "text/plain": [
       "<Figure size 432x288 with 1 Axes>"
      ]
     },
     "metadata": {
      "needs_background": "light"
     },
     "output_type": "display_data"
    }
   ],
   "source": [
    "my_f_1 = stats.f(10, 4)\n",
    "\n",
    "X = np.arange(0, 1, 0.01)\n",
    "F = my_f_1.ppf(X)\n",
    "\n",
    "plt.plot(X, F)\n",
    "plt.show()"
   ]
  },
  {
   "cell_type": "markdown",
   "id": "f73b30df-727c-458e-943c-c08de4a72cd5",
   "metadata": {},
   "source": [
    "## 13. F Distribution II\n",
    "\n",
    "Let Y∼F(4,5).\n",
    "\n",
    "Instructions:\n",
    "\n",
    "* Compute P(1<Y<10) by integration of the PDF."
   ]
  },
  {
   "cell_type": "code",
   "execution_count": 127,
   "id": "5e65ad19-461d-4409-8e31-c056f17d79c1",
   "metadata": {},
   "outputs": [
    {
     "data": {
      "text/plain": [
       "0.47239702300521247"
      ]
     },
     "execution_count": 127,
     "metadata": {},
     "output_type": "execute_result"
    }
   ],
   "source": [
    "my_f_2 = stats.f(4, 5)\n",
    "\n",
    "my_f_2.cdf(10) - my_f_2.cdf(1)"
   ]
  }
 ],
 "metadata": {
  "kernelspec": {
   "display_name": "Python 3 (ipykernel)",
   "language": "python",
   "name": "python3"
  },
  "language_info": {
   "codemirror_mode": {
    "name": "ipython",
    "version": 3
   },
   "file_extension": ".py",
   "mimetype": "text/x-python",
   "name": "python",
   "nbconvert_exporter": "python",
   "pygments_lexer": "ipython3",
   "version": "3.8.1"
  }
 },
 "nbformat": 4,
 "nbformat_minor": 5
}
