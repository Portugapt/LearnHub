{
 "cells": [
  {
   "cell_type": "markdown",
   "id": "053cf81c-a5a0-4a57-908c-7fe8c46a5563",
   "metadata": {},
   "source": [
    "# Spark SQL and DataFrames: Introduction to Built-in Data Sources"
   ]
  },
  {
   "cell_type": "markdown",
   "id": "c89b2f9c-fa2a-4213-9912-cf475431c165",
   "metadata": {},
   "source": [
    "## Notes from previous chapters\n",
    "\n",
    "_Unexplored_ Spark SQL:\n",
    "* Lets you query data using JDBC/ODBC connectors from external business intel‐ ligence (BI) data sources such as Tableau, Power BI, Talend, or from RDBMSs such as MySQL and PostgreSQL.\n"
   ]
  },
  {
   "cell_type": "markdown",
   "id": "536bfafa-0638-47ae-9e37-75383d20d7c0",
   "metadata": {},
   "source": [
    "## Views"
   ]
  },
  {
   "cell_type": "code",
   "execution_count": 2,
   "id": "22790eb3-f236-4033-90f7-4f06861549f3",
   "metadata": {},
   "outputs": [
    {
     "name": "stderr",
     "output_type": "stream",
     "text": [
      "                                                                                \r"
     ]
    }
   ],
   "source": [
    "# In Python\n",
    "from pyspark.sql import SparkSession\n",
    "# Create a SparkSession\n",
    "spark = (SparkSession\n",
    "    .builder\n",
    "    .appName(\"SparkSQLExampleApp\")\n",
    "    .getOrCreate())\n",
    "\n",
    "# Path to data set\n",
    "csv_file = \"../repo/databricks-datasets/learning-spark-v2/flights/departuredelays.csv\"\n",
    "# Read and create a temporary view\n",
    "# Infer schema (note that for larger files you\n",
    "# may want to specify the schema)\n",
    "dfDelays = (spark.read.format(\"csv\")\n",
    "    .option(\"inferSchema\", \"true\")\n",
    "    .option(\"header\", \"true\")\n",
    "    .load(csv_file))\n",
    "dfDelays.createOrReplaceTempView(\"us_delay_flights_tbl\")"
   ]
  },
  {
   "cell_type": "code",
   "execution_count": 3,
   "id": "1843b3e8-81a0-488a-9a75-a14e364d8201",
   "metadata": {},
   "outputs": [
    {
     "data": {
      "text/plain": [
       "DataFrame[date: int, delay: int, distance: int, origin: string, destination: string]"
      ]
     },
     "execution_count": 3,
     "metadata": {},
     "output_type": "execute_result"
    }
   ],
   "source": [
    "dfDelays"
   ]
  },
  {
   "cell_type": "code",
   "execution_count": null,
   "id": "be75258a-c5cc-4a5e-aa60-7bf23e051114",
   "metadata": {},
   "outputs": [],
   "source": []
  }
 ],
 "metadata": {
  "kernelspec": {
   "display_name": "Python 3 (ipykernel)",
   "language": "python",
   "name": "python3"
  },
  "language_info": {
   "codemirror_mode": {
    "name": "ipython",
    "version": 3
   },
   "file_extension": ".py",
   "mimetype": "text/x-python",
   "name": "python",
   "nbconvert_exporter": "python",
   "pygments_lexer": "ipython3",
   "version": "3.8.1"
  }
 },
 "nbformat": 4,
 "nbformat_minor": 5
}
