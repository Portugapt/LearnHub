{
 "cells": [
  {
   "cell_type": "markdown",
   "id": "265ce10b-3954-438e-8e88-c0ef37f5c95d",
   "metadata": {},
   "source": [
    "# Module 1 on PyTorch. Notebook version\n"
   ]
  },
  {
   "cell_type": "code",
   "execution_count": null,
   "id": "0fcbe210-26d1-43e0-9769-2d0ae5c21a60",
   "metadata": {},
   "outputs": [],
   "source": []
  }
 ],
 "metadata": {
  "kernelspec": {
   "display_name": "Python 3 (ipykernel)",
   "language": "python",
   "name": "python3"
  },
  "language_info": {
   "codemirror_mode": {
    "name": "ipython",
    "version": 3
   },
   "file_extension": ".py",
   "mimetype": "text/x-python",
   "name": "python",
   "nbconvert_exporter": "python",
   "pygments_lexer": "ipython3",
   "version": "3.8.1"
  }
 },
 "nbformat": 4,
 "nbformat_minor": 5
}
