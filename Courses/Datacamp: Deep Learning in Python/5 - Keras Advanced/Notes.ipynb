{
 "cells": [
  {
   "cell_type": "markdown",
   "id": "d9f01898-ba22-464f-a36e-866db83afea6",
   "metadata": {},
   "source": [
    "# Advanced Keras\n",
    "\n"
   ]
  },
  {
   "cell_type": "markdown",
   "id": "953c11af-0af9-4e6a-9d79-4a67d0772748",
   "metadata": {},
   "source": [
    "# Input and output layers"
   ]
  },
  {
   "cell_type": "code",
   "execution_count": 1,
   "id": "df5686c1-69cc-45fe-95df-94a42ac1d102",
   "metadata": {},
   "outputs": [],
   "source": [
    "# Import Input from keras.layers\n",
    "from keras.layers import Input\n",
    "\n",
    "# Create an input layer of shape 1\n",
    "input_tensor = Input(shape=(1,))"
   ]
  },
  {
   "cell_type": "code",
   "execution_count": 2,
   "id": "05a52c4d-c590-41a7-98f9-0eeca1f4d888",
   "metadata": {},
   "outputs": [
    {
     "data": {
      "text/plain": [
       "<KerasTensor: shape=(None, 1) dtype=float32 (created by layer 'input_1')>"
      ]
     },
     "execution_count": 2,
     "metadata": {},
     "output_type": "execute_result"
    }
   ],
   "source": [
    "input_tensor"
   ]
  },
  {
   "cell_type": "code",
   "execution_count": null,
   "id": "99f2e64e-b4dd-49e9-b1ba-5feff0dc68a8",
   "metadata": {},
   "outputs": [],
   "source": [
    "# Load layers\n",
    "from keras.layers import Input, Dense\n",
    "\n",
    "# Input layer\n",
    "input_tensor = Input(shape=(1,))\n",
    "\n",
    "# Dense layer\n",
    "output_layer = Dense(1)\n",
    "\n",
    "# Connect the dense layer to the input_tensor\n",
    "output_tensor = output_layer(input_tensor)"
   ]
  },
  {
   "cell_type": "markdown",
   "id": "bb5bafa3-e041-45c6-883b-115a99ef761c",
   "metadata": {},
   "source": [
    "# Visualise a model"
   ]
  },
  {
   "cell_type": "code",
   "execution_count": null,
   "id": "2c4bc38d-60e0-4292-80fe-34598e8baa32",
   "metadata": {},
   "outputs": [],
   "source": [
    "# Import the plotting function\n",
    "from keras.utils import plot_model\n",
    "import matplotlib.pyplot as plt\n",
    "\n",
    "# Summarize the model\n",
    "model.summary()\n",
    "\n",
    "# Plot the model\n",
    "plot_model(model, to_file='model.png')\n",
    "\n",
    "# Display the image\n",
    "data = plt.imread('model.png')\n",
    "plt.imshow(data)\n",
    "plt.show()"
   ]
  },
  {
   "cell_type": "markdown",
   "id": "ae529a1f-92e7-47f6-b29b-b82d9dda9c1d",
   "metadata": {},
   "source": [
    "# Shared layers\n",
    "\n",
    "With the keras.models Model type, I can build reusable components for a NN.\n",
    " \n",
    "What does this mean in pratical terms? See below.\n",
    "\n",
    "(Shared between N inputs?)"
   ]
  },
  {
   "cell_type": "code",
   "execution_count": 3,
   "id": "021b82f4-0f19-44e1-8600-84600b92f311",
   "metadata": {},
   "outputs": [
    {
     "ename": "NameError",
     "evalue": "name 'games_season' is not defined",
     "output_type": "error",
     "traceback": [
      "\u001b[0;31m---------------------------------------------------------------------------\u001b[0m",
      "\u001b[0;31mNameError\u001b[0m                                 Traceback (most recent call last)",
      "\u001b[0;32m/tmp/ipykernel_326350/3076549326.py\u001b[0m in \u001b[0;36m<module>\u001b[0;34m\u001b[0m\n\u001b[1;32m      5\u001b[0m \u001b[0;34m\u001b[0m\u001b[0m\n\u001b[1;32m      6\u001b[0m \u001b[0;31m# Count the unique number of teams\u001b[0m\u001b[0;34m\u001b[0m\u001b[0;34m\u001b[0m\u001b[0;34m\u001b[0m\u001b[0m\n\u001b[0;32m----> 7\u001b[0;31m \u001b[0mn_teams\u001b[0m \u001b[0;34m=\u001b[0m \u001b[0munique\u001b[0m\u001b[0;34m(\u001b[0m\u001b[0mgames_season\u001b[0m\u001b[0;34m[\u001b[0m\u001b[0;34m'team_1'\u001b[0m\u001b[0;34m]\u001b[0m\u001b[0;34m)\u001b[0m\u001b[0;34m.\u001b[0m\u001b[0mshape\u001b[0m\u001b[0;34m[\u001b[0m\u001b[0;36m0\u001b[0m\u001b[0;34m]\u001b[0m\u001b[0;34m\u001b[0m\u001b[0;34m\u001b[0m\u001b[0m\n\u001b[0m\u001b[1;32m      8\u001b[0m \u001b[0;34m\u001b[0m\u001b[0m\n\u001b[1;32m      9\u001b[0m \u001b[0;31m# Create an embedding layer\u001b[0m\u001b[0;34m\u001b[0m\u001b[0;34m\u001b[0m\u001b[0;34m\u001b[0m\u001b[0m\n",
      "\u001b[0;31mNameError\u001b[0m: name 'games_season' is not defined"
     ]
    }
   ],
   "source": [
    "# Imports\n",
    "from keras.layers import Input, Embedding, Flatten\n",
    "from keras.models import Model\n",
    "from numpy import unique\n",
    "\n",
    "# Count the unique number of teams\n",
    "n_teams = unique(games_season['team_1']).shape[0]\n",
    "\n",
    "# Create an embedding layer\n",
    "team_lookup = Embedding(input_dim=n_teams,\n",
    "                        output_dim=1,\n",
    "                        input_length=1,\n",
    "                        name='Team-Strength')\n",
    "\n",
    "\n",
    "\n",
    "# Create an input layer for the team ID\n",
    "teamid_in = Input(shape=(1,))\n",
    "\n",
    "# Lookup the input in the team strength embedding layer\n",
    "strength_lookup = team_lookup(teamid_in)\n",
    "\n",
    "# Flatten the output\n",
    "strength_lookup_flat = Flatten()(strength_lookup)\n",
    "\n",
    "# Combine the operations into a single, re-usable model\n",
    "team_strength_model = Model(teamid_in, strength_lookup_flat, name='Team-Strength-Model')\n",
    "\n",
    "# Input layer for team 1\n",
    "team_in_1 = Input((1,), name= \"Team-1-In\")\n",
    "\n",
    "# Separate input layer for team 2\n",
    "team_in_2 = Input((1,), name = \"Team-2-In\")\n",
    "\n",
    "# Lookup team 1 in the team strength model\n",
    "team_1_strength = team_strength_model(team_in_1)\n",
    "\n",
    "# Lookup team 2 in the team strength model\n",
    "team_2_strength = team_strength_model(team_in_2)\n",
    "\n"
   ]
  },
  {
   "cell_type": "markdown",
   "id": "048fee26-60d6-40f6-b9e2-dfb89a3a0359",
   "metadata": {},
   "source": [
    "The above model has two inputs with a shared layer. `team_strength_model` is a component, which is being reused. \n",
    "\n",
    "Now that you have your two inputs (team id 1 and team id 2) and output (score difference), you can wrap them up in a model so you can use it later for fitting to data and evaluating on new data.\n",
    "\n",
    "Your model will look like the following diagram:  \n",
    "![mergelayers](https://s3.amazonaws.com/assets.datacamp.com/production/course_6554/datasets/basketball_model_2.png)"
   ]
  },
  {
   "cell_type": "code",
   "execution_count": null,
   "id": "20cd1f99-e22a-4a12-88f0-93196cf9c125",
   "metadata": {},
   "outputs": [],
   "source": [
    "# Imports\n",
    "from keras.layers import Subtract\n",
    "from keras.models import Model\n",
    "\n",
    "# Subtraction layer from previous exercise\n",
    "score_diff = Subtract()([team_1_strength, team_2_strength])\n",
    "\n",
    "# Create the model\n",
    "model = Model([team_in_1, team_in_2], score_diff)\n",
    "\n",
    "# Compile the model\n",
    "model.compile(optimizer = 'adam', loss = 'mean_absolute_error')"
   ]
  },
  {
   "cell_type": "code",
   "execution_count": null,
   "id": "e008dad0-1cba-42c1-9280-d4d2d7c9a6bf",
   "metadata": {},
   "outputs": [],
   "source": [
    "# Get the team_1 column from the regular season data\n",
    "input_1 = games_season['team_1']\n",
    "\n",
    "# Get the team_2 column from the regular season data\n",
    "input_2 = games_season['team_2']\n",
    "\n",
    "# Fit the model to input 1 and 2, using score diff as a target\n",
    "model.fit([input_1, input_2],\n",
    "          games_season['score_diff'],\n",
    "          epochs=1,\n",
    "          batch_size=2048,\n",
    "          validation_split=0.1,\n",
    "          verbose=True)"
   ]
  },
  {
   "cell_type": "markdown",
   "id": "18bf33b3-a5ec-43a4-9692-41a041bd0936",
   "metadata": {},
   "source": [
    "# Stacked Models\n",
    "\n",
    "The model trained with the regular season is used to predict on the tournament data.\n",
    "\n",
    "![stack1](https://i.imgur.com/xphNQto.png)"
   ]
  },
  {
   "cell_type": "code",
   "execution_count": null,
   "id": "b8340f72-cf67-4088-a069-2533cf7f3a51",
   "metadata": {},
   "outputs": [],
   "source": [
    "# Predict\n",
    "games_tourney['pred'] = model.predict([games_tourney['team_1'], games_tourney['team_2'],\n",
    "                                        games_tourney['home']])"
   ]
  },
  {
   "cell_type": "code",
   "execution_count": null,
   "id": "50c2a199-7282-4f29-924f-2aedaf7e43b9",
   "metadata": {},
   "outputs": [],
   "source": [
    "# Create an input layer with 3 columns\n",
    "input_tensor = Input((3,))\n",
    "\n",
    "# Pass it to a Dense layer with 1 unit\n",
    "output_tensor = Dense(1)(input_tensor)\n",
    "\n",
    "# Create a model\n",
    "model = Model(input_tensor, output_tensor)\n",
    "\n",
    "# Compile the model\n",
    "model.compile(optimizer='adam', loss='mean_absolute_error')"
   ]
  },
  {
   "cell_type": "code",
   "execution_count": null,
   "id": "b4bcce5a-38c8-4a63-b90b-24b5b5f97cd0",
   "metadata": {},
   "outputs": [],
   "source": [
    "# Fit the model\n",
    "model.fit(games_tourney_train[['home', 'seed_diff', 'pred']],\n",
    "          games_tourney_train['score_diff'],\n",
    "          epochs=1,\n",
    "          verbose=True)"
   ]
  },
  {
   "cell_type": "code",
   "execution_count": null,
   "id": "3c9badb7-b502-4eee-9222-e00ee71575f2",
   "metadata": {},
   "outputs": [],
   "source": [
    "# Evaluate the model on the games_tourney_test dataset\n",
    "print(model.evaluate(games_tourney_test[['home', 'seed_diff', 'prediction']],\n",
    "               games_tourney_test['score_diff'], verbose=False))\n",
    "\n",
    "#<script.py> output:\n",
    "#    9.07315489498804"
   ]
  },
  {
   "cell_type": "markdown",
   "id": "6eeddf73-db18-4c4d-b923-36571cc24d1f",
   "metadata": {},
   "source": [
    "# Two Output model\n",
    "\n"
   ]
  },
  {
   "cell_type": "code",
   "execution_count": null,
   "id": "d9a5bc5a-4604-427c-8b97-92723ac26510",
   "metadata": {},
   "outputs": [],
   "source": [
    "# Define the input\n",
    "input_tensor = Input((2,))\n",
    "\n",
    "# Define the output\n",
    "output_tensor = Dense(2)(input_tensor)\n",
    "\n",
    "# Create a model\n",
    "model = Model(input_tensor, output_tensor)\n",
    "\n",
    "# Compile the model\n",
    "model.compile(optimizer = 'adam', loss = 'mean_absolute_error')"
   ]
  },
  {
   "cell_type": "code",
   "execution_count": null,
   "id": "85a6109a-b59b-49c1-b523-b969cba93af8",
   "metadata": {},
   "outputs": [],
   "source": [
    "# Fit the model\n",
    "model.fit(games_tourney_train[['seed_diff', 'pred']],\n",
    "            games_tourney_train[['score_1', 'score_2']],\n",
    "            verbose=True,\n",
    "            epochs = 100,\n",
    "            batch_size = 16384)"
   ]
  },
  {
   "cell_type": "code",
   "execution_count": null,
   "id": "26049c0b-8d48-45e0-9c87-36dcf09117ab",
   "metadata": {},
   "outputs": [],
   "source": [
    "# Print the model's weights\n",
    "print(model.get_weights() )\n",
    "\n",
    "# Print the column means of the training data\n",
    "print(games_tourney_train.mean())"
   ]
  },
  {
   "cell_type": "code",
   "execution_count": null,
   "id": "b18f5af8-88cf-4ad1-8028-b269e393e797",
   "metadata": {},
   "outputs": [],
   "source": [
    "# Evaluate the model on the tournament test data\n",
    "print(model.evaluate(games_tourney_test[['seed_diff','pred']], games_tourney_test[['score_1','score_2']], verbose=False))"
   ]
  },
  {
   "cell_type": "markdown",
   "id": "af83cb82-c221-4f5d-bac8-4f83c6a0044f",
   "metadata": {},
   "source": [
    "# Classification and Regression Model\n"
   ]
  },
  {
   "cell_type": "code",
   "execution_count": null,
   "id": "530c41d5-8926-4e5d-8eda-a9cab9a90b43",
   "metadata": {},
   "outputs": [],
   "source": [
    "# Create an input layer with 2 columns\n",
    "input_tensor = Input((2,))\n",
    "\n",
    "# Create the first output\n",
    "output_tensor_1 = Dense(1, activation='linear', use_bias=False)(input_tensor)\n",
    "\n",
    "# Create the second output (use the first output as input here)\n",
    "output_tensor_2 = Dense(1, activation='sigmoid', use_bias=False)(output_tensor_1)\n",
    "\n",
    "# Create a model with 2 outputs\n",
    "model = Model(input_tensor, [output_tensor_1, output_tensor_2])"
   ]
  },
  {
   "cell_type": "markdown",
   "id": "12b98383-741c-41e1-9497-e19366dadfe7",
   "metadata": {},
   "source": [
    "\n",
    "    Import Adam from keras.optimizers.\n",
    "    Compile the model with 2 losses: 'mean_absolute_error' and 'binary_crossentropy', and use the Adam optimizer with a learning rate of 0.01.\n",
    "    Fit the model with 'seed_diff' and 'pred' columns as the inputs and 'score_diff' and 'won' columns as the targets.\n",
    "    Use 10 epochs and a batch size of 16384.\n"
   ]
  },
  {
   "cell_type": "code",
   "execution_count": null,
   "id": "60c18228-14c0-45b2-8da1-ddc904ed59c9",
   "metadata": {},
   "outputs": [],
   "source": [
    "# Import the Adam optimizer\n",
    "from keras.optimizers import Adam\n",
    "\n",
    "# Compile the model with 2 losses and the Adam optimzer with a higher learning rate\n",
    "model.compile(loss=['mean_absolute_error', 'binary_crossentropy'], optimizer=Adam(lr =.01))\n",
    "\n",
    "# Fit the model to the tournament training data, with 2 inputs and 2 outputs\n",
    "model.fit(games_tourney_train[['seed_diff', 'pred']],\n",
    "          [games_tourney_train[['score_diff']], games_tourney_train[['won']]],\n",
    "          epochs=10,\n",
    "          verbose=True,\n",
    "          batch_size=16384)"
   ]
  },
  {
   "cell_type": "code",
   "execution_count": null,
   "id": "6d797a07-7d40-4b8b-8ea2-ba509a4b0bac",
   "metadata": {},
   "outputs": [],
   "source": [
    "# Print the model weights\n",
    "print(model.get_weights())\n",
    "\n",
    "# Print the training data means\n",
    "print(games_tourney_train.mean())"
   ]
  },
  {
   "cell_type": "code",
   "execution_count": null,
   "id": "02039e96-9e48-4d4e-ab2a-1d18ae82505b",
   "metadata": {},
   "outputs": [],
   "source": [
    "# Import the sigmoid function from scipy\n",
    "from scipy.special import expit as sigmoid\n",
    "\n",
    "# Weight from the model\n",
    "weight = 0.14\n",
    "\n",
    "# Print the approximate win probability predicted close game\n",
    "print(sigmoid(1 * weight))\n",
    "\n",
    "# Print the approximate win probability predicted blowout game\n",
    "print(sigmoid(10 * weight))"
   ]
  },
  {
   "cell_type": "code",
   "execution_count": null,
   "id": "39f7326c-4c96-45bf-b7af-1b1267f79558",
   "metadata": {},
   "outputs": [],
   "source": [
    "# Evaluate the model on new data\n",
    "print(model.evaluate(games_tourney_test[['seed_diff', 'pred']],\n",
    "               [games_tourney_test[['score_diff']], games_tourney_test[['won']]], verbose=False))"
   ]
  }
 ],
 "metadata": {
  "kernelspec": {
   "display_name": "Python 3 (ipykernel)",
   "language": "python",
   "name": "python3"
  },
  "language_info": {
   "codemirror_mode": {
    "name": "ipython",
    "version": 3
   },
   "file_extension": ".py",
   "mimetype": "text/x-python",
   "name": "python",
   "nbconvert_exporter": "python",
   "pygments_lexer": "ipython3",
   "version": "3.8.1"
  }
 },
 "nbformat": 4,
 "nbformat_minor": 5
}
