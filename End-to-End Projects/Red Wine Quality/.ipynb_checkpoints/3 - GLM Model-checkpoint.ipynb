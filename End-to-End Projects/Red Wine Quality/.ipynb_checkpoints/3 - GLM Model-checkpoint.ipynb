{
 "cells": [
  {
   "cell_type": "markdown",
   "id": "d522a272-2445-47b1-9402-dd3c63d57246",
   "metadata": {},
   "source": [
    "# Generalized Linear Model\n",
    "\n",
    "Even though the target, quality, is an ordinal feature,\n",
    "\n",
    "We'll see."
   ]
  },
  {
   "cell_type": "code",
   "execution_count": 10,
   "id": "5a4864b5-036a-401f-8427-dec2f45781e7",
   "metadata": {},
   "outputs": [],
   "source": [
    "# Import libraries\n",
    "\n",
    "import pandas as pd\n",
    "import numpy as np\n",
    "\n",
    "import scipy.stats as stats\n",
    "\n",
    "import statsmodels.api as sm"
   ]
  },
  {
   "cell_type": "code",
   "execution_count": 23,
   "id": "adba727a-b868-4fba-ad84-8985c927a7eb",
   "metadata": {},
   "outputs": [],
   "source": [
    "dfInput = pd.read_csv('output/dataReady.csv', index_col = 'idx')\n",
    "\n",
    "dfTrain = dfInput.loc[dfInput.Set == 'train']\n",
    "dfVal = dfInput.loc[dfInput.Set == 'valid']"
   ]
  },
  {
   "cell_type": "code",
   "execution_count": 4,
   "id": "dc464d0c-1f4f-4af6-8bea-8422b82ef63d",
   "metadata": {},
   "outputs": [],
   "source": [
    "# \"ANOVA\" Test \n",
    "def calculate_nested_f_statistic(small_model, big_model):\n",
    "    \"\"\"Given two fitted GLMs, the larger of which contains the parameter space of the smaller, return the F Stat and P value corresponding to the larger model adding explanatory power\"\"\"\n",
    "    addtl_params = big_model.df_model - small_model.df_model\n",
    "    f_stat = (small_model.deviance - big_model.deviance) / (addtl_params * big_model.scale)\n",
    "    df_numerator = addtl_params\n",
    "    # use fitted values to obtain n_obs from model object:\n",
    "    df_denom = (big_model.fittedvalues.shape[0] - big_model.df_model)\n",
    "    p_value = stats.f.sf(f_stat, df_numerator, df_denom)\n",
    "    return (f_stat, p_value)"
   ]
  },
  {
   "cell_type": "code",
   "execution_count": 42,
   "id": "8177aa38-604d-4bd6-a465-47fcea08b969",
   "metadata": {},
   "outputs": [],
   "source": [
    "## Model one\n",
    "# https://stats.stackexchange.com/questions/190763/how-to-decide-which-glm-family-to-use\n",
    "target = 'quality'\n",
    "features = ['alcohol']\n",
    "\n",
    "formula = f'{target}~{\"+\".join(features)}'\n",
    "\n",
    "glm_model1 = sm.GLM.from_formula(formula, \n",
    "                                 data = dfTrain, \n",
    "                                 family=sm.families.Poisson()).fit()\n"
   ]
  },
  {
   "cell_type": "code",
   "execution_count": 43,
   "id": "3e24840e-aad0-4ad4-8c6d-dd2b5181237f",
   "metadata": {},
   "outputs": [
    {
     "data": {
      "text/html": [
       "<table class=\"simpletable\">\n",
       "<caption>Generalized Linear Model Regression Results</caption>\n",
       "<tr>\n",
       "  <th>Dep. Variable:</th>        <td>quality</td>     <th>  No. Observations:  </th>  <td>  1107</td> \n",
       "</tr>\n",
       "<tr>\n",
       "  <th>Model:</th>                  <td>GLM</td>       <th>  Df Residuals:      </th>  <td>  1105</td> \n",
       "</tr>\n",
       "<tr>\n",
       "  <th>Model Family:</th>         <td>Poisson</td>     <th>  Df Model:          </th>  <td>     1</td> \n",
       "</tr>\n",
       "<tr>\n",
       "  <th>Link Function:</th>          <td>log</td>       <th>  Scale:             </th> <td>  1.0000</td>\n",
       "</tr>\n",
       "<tr>\n",
       "  <th>Method:</th>                <td>IRLS</td>       <th>  Log-Likelihood:    </th> <td> -2032.8</td>\n",
       "</tr>\n",
       "<tr>\n",
       "  <th>Date:</th>            <td>Sat, 18 Sep 2021</td> <th>  Deviance:          </th> <td>  94.720</td>\n",
       "</tr>\n",
       "<tr>\n",
       "  <th>Time:</th>                <td>19:11:44</td>     <th>  Pearson chi2:      </th>  <td>  93.4</td> \n",
       "</tr>\n",
       "<tr>\n",
       "  <th>No. Iterations:</th>          <td>4</td>        <th>                     </th>     <td> </td>   \n",
       "</tr>\n",
       "<tr>\n",
       "  <th>Covariance Type:</th>     <td>nonrobust</td>    <th>                     </th>     <td> </td>   \n",
       "</tr>\n",
       "</table>\n",
       "<table class=\"simpletable\">\n",
       "<tr>\n",
       "      <td></td>         <th>coef</th>     <th>std err</th>      <th>z</th>      <th>P>|z|</th>  <th>[0.025</th>    <th>0.975]</th>  \n",
       "</tr>\n",
       "<tr>\n",
       "  <th>Intercept</th> <td>    1.0269</td> <td>    0.124</td> <td>    8.259</td> <td> 0.000</td> <td>    0.783</td> <td>    1.271</td>\n",
       "</tr>\n",
       "<tr>\n",
       "  <th>alcohol</th>   <td>    0.0673</td> <td>    0.012</td> <td>    5.699</td> <td> 0.000</td> <td>    0.044</td> <td>    0.090</td>\n",
       "</tr>\n",
       "</table>"
      ],
      "text/plain": [
       "<class 'statsmodels.iolib.summary.Summary'>\n",
       "\"\"\"\n",
       "                 Generalized Linear Model Regression Results                  \n",
       "==============================================================================\n",
       "Dep. Variable:                quality   No. Observations:                 1107\n",
       "Model:                            GLM   Df Residuals:                     1105\n",
       "Model Family:                 Poisson   Df Model:                            1\n",
       "Link Function:                    log   Scale:                          1.0000\n",
       "Method:                          IRLS   Log-Likelihood:                -2032.8\n",
       "Date:                Sat, 18 Sep 2021   Deviance:                       94.720\n",
       "Time:                        19:11:44   Pearson chi2:                     93.4\n",
       "No. Iterations:                     4                                         \n",
       "Covariance Type:            nonrobust                                         \n",
       "==============================================================================\n",
       "                 coef    std err          z      P>|z|      [0.025      0.975]\n",
       "------------------------------------------------------------------------------\n",
       "Intercept      1.0269      0.124      8.259      0.000       0.783       1.271\n",
       "alcohol        0.0673      0.012      5.699      0.000       0.044       0.090\n",
       "==============================================================================\n",
       "\"\"\""
      ]
     },
     "execution_count": 43,
     "metadata": {},
     "output_type": "execute_result"
    }
   ],
   "source": [
    "glm_model1.summary()"
   ]
  },
  {
   "cell_type": "code",
   "execution_count": 44,
   "id": "fd2ff529-86ec-4ca3-b207-c8e1e1d1c164",
   "metadata": {},
   "outputs": [
    {
     "data": {
      "text/plain": [
       "idx\n",
       "4       5.258505\n",
       "11      5.662748\n",
       "15      5.188169\n",
       "22      5.294030\n",
       "24      5.365801\n",
       "          ...   \n",
       "1580    6.222494\n",
       "1581    5.976129\n",
       "1585    6.057147\n",
       "1594    5.662748\n",
       "1598    5.856629\n",
       "Length: 150, dtype: float64"
      ]
     },
     "execution_count": 44,
     "metadata": {},
     "output_type": "execute_result"
    }
   ],
   "source": [
    "glm_model1.predict(dfVal)"
   ]
  },
  {
   "cell_type": "code",
   "execution_count": null,
   "id": "ef448ce9-10d3-4af0-81cb-3d03b310d376",
   "metadata": {},
   "outputs": [],
   "source": []
  }
 ],
 "metadata": {
  "kernelspec": {
   "display_name": "Python 3 (ipykernel)",
   "language": "python",
   "name": "python3"
  },
  "language_info": {
   "codemirror_mode": {
    "name": "ipython",
    "version": 3
   },
   "file_extension": ".py",
   "mimetype": "text/x-python",
   "name": "python",
   "nbconvert_exporter": "python",
   "pygments_lexer": "ipython3",
   "version": "3.8.1"
  }
 },
 "nbformat": 4,
 "nbformat_minor": 5
}
