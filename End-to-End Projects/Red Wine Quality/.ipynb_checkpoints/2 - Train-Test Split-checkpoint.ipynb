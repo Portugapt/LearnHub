{
 "cells": [
  {
   "cell_type": "markdown",
   "id": "b96d9694-80c9-4f02-bf99-a0600ebf564a",
   "metadata": {},
   "source": [
    "# Train - Test Split\n",
    "\n",
    "The split of Data is indepedent of the model. This allows for the results to be comparable. \n",
    "\n",
    "\n",
    "In this case I will split the data in 3.\n",
    "* 70% Train\n",
    "* 10% Validation\n",
    "* 20% Test\n",
    "\n",
    "Things to have in consideration:\n",
    "\n",
    "* Cross Validation.\n"
   ]
  },
  {
   "cell_type": "code",
   "execution_count": 2,
   "id": "335056e0-b480-4a73-baba-b03cba10caef",
   "metadata": {},
   "outputs": [],
   "source": [
    "# Import libraries\n",
    "\n",
    "import pandas as pd"
   ]
  },
  {
   "cell_type": "code",
   "execution_count": 1,
   "id": "234c3f85-906b-4333-ba54-49cd4239170c",
   "metadata": {},
   "outputs": [
    {
     "ename": "NameError",
     "evalue": "name 'pd' is not defined",
     "output_type": "error",
     "traceback": [
      "\u001b[0;31m---------------------------------------------------------------------------\u001b[0m",
      "\u001b[0;31mNameError\u001b[0m                                 Traceback (most recent call last)",
      "\u001b[0;32m/tmp/ipykernel_233020/3040770203.py\u001b[0m in \u001b[0;36m<module>\u001b[0;34m\u001b[0m\n\u001b[0;32m----> 1\u001b[0;31m \u001b[0mdfInput\u001b[0m \u001b[0;34m=\u001b[0m \u001b[0mpd\u001b[0m\u001b[0;34m.\u001b[0m\u001b[0mread_csv\u001b[0m\u001b[0;34m(\u001b[0m\u001b[0;34m'data/dataPrepared.csv'\u001b[0m\u001b[0;34m)\u001b[0m\u001b[0;34m\u001b[0m\u001b[0;34m\u001b[0m\u001b[0m\n\u001b[0m\u001b[1;32m      2\u001b[0m \u001b[0mtarget\u001b[0m \u001b[0;34m=\u001b[0m \u001b[0;34m'quality'\u001b[0m\u001b[0;34m\u001b[0m\u001b[0;34m\u001b[0m\u001b[0m\n\u001b[1;32m      3\u001b[0m \u001b[0;32mif\u001b[0m \u001b[0;34m\"Set\"\u001b[0m \u001b[0;32mnot\u001b[0m \u001b[0;32min\u001b[0m \u001b[0mtrain\u001b[0m\u001b[0;34m.\u001b[0m\u001b[0mcolumns\u001b[0m\u001b[0;34m:\u001b[0m\u001b[0;34m\u001b[0m\u001b[0;34m\u001b[0m\u001b[0m\n\u001b[1;32m      4\u001b[0m     \u001b[0mdfInput\u001b[0m\u001b[0;34m[\u001b[0m\u001b[0;34m\"Set\"\u001b[0m\u001b[0;34m]\u001b[0m \u001b[0;34m=\u001b[0m \u001b[0mnp\u001b[0m\u001b[0;34m.\u001b[0m\u001b[0mrandom\u001b[0m\u001b[0;34m.\u001b[0m\u001b[0mchoice\u001b[0m\u001b[0;34m(\u001b[0m\u001b[0;34m[\u001b[0m\u001b[0;34m\"train\"\u001b[0m\u001b[0;34m,\u001b[0m \u001b[0;34m\"valid\"\u001b[0m\u001b[0;34m,\u001b[0m \u001b[0;34m\"test\"\u001b[0m\u001b[0;34m]\u001b[0m\u001b[0;34m,\u001b[0m \u001b[0mp\u001b[0m \u001b[0;34m=\u001b[0m\u001b[0;34m[\u001b[0m\u001b[0;36m.8\u001b[0m\u001b[0;34m,\u001b[0m \u001b[0;36m.1\u001b[0m\u001b[0;34m,\u001b[0m \u001b[0;36m.1\u001b[0m\u001b[0;34m]\u001b[0m\u001b[0;34m,\u001b[0m \u001b[0msize\u001b[0m\u001b[0;34m=\u001b[0m\u001b[0;34m(\u001b[0m\u001b[0mdfInput\u001b[0m\u001b[0;34m.\u001b[0m\u001b[0mshape\u001b[0m\u001b[0;34m[\u001b[0m\u001b[0;36m0\u001b[0m\u001b[0;34m]\u001b[0m\u001b[0;34m,\u001b[0m\u001b[0;34m)\u001b[0m\u001b[0;34m)\u001b[0m\u001b[0;34m\u001b[0m\u001b[0;34m\u001b[0m\u001b[0m\n\u001b[1;32m      5\u001b[0m \u001b[0;34m\u001b[0m\u001b[0m\n",
      "\u001b[0;31mNameError\u001b[0m: name 'pd' is not defined"
     ]
    }
   ],
   "source": [
    "dfInput = pd.read_csv('data/dataPrepared.csv')\n",
    "target = 'quality'\n",
    "if \"Set\" not in train.columns:\n",
    "    dfInput[\"Set\"] = np.random.choice([\"train\", \"valid\", \"test\"], p =[.8, .1, .1], size=(dfInput.shape[0],))\n"
   ]
  },
  {
   "cell_type": "code",
   "execution_count": null,
   "id": "808c0d94-819e-4644-bcd2-74c67ecbd7c7",
   "metadata": {},
   "outputs": [],
   "source": [
    "train_indices = dfInput[dfInput.Set==\"train\"].index\n",
    "valid_indices = dfInput[dfInput.Set==\"valid\"].index\n",
    "test_indices = dfInput[dfInput.Set==\"test\"].index\n",
    "\n",
    "unused_feat = ['Set']\n",
    "\n",
    "features = [ col for col in dfPrepare.columns if col not in unused_feat+[target]] "
   ]
  },
  {
   "cell_type": "code",
   "execution_count": null,
   "id": "13979bc2-142f-49a3-9d94-6e7efcda8063",
   "metadata": {},
   "outputs": [],
   "source": [
    "X_train = dfInput[features].values[train_indices]\n",
    "y_train = dfInput[target].values[train_indices].reshape(-1, 1)\n",
    "\n",
    "X_valid = dfInput[features].values[valid_indices]\n",
    "y_valid = dfInput[target].values[valid_indices].reshape(-1, 1)\n",
    "\n",
    "X_test = dfInput[features].values[test_indices]\n",
    "y_test = dfInput[target].values[test_indices].reshape(-1, 1)"
   ]
  }
 ],
 "metadata": {
  "kernelspec": {
   "display_name": "Python 3 (ipykernel)",
   "language": "python",
   "name": "python3"
  },
  "language_info": {
   "codemirror_mode": {
    "name": "ipython",
    "version": 3
   },
   "file_extension": ".py",
   "mimetype": "text/x-python",
   "name": "python",
   "nbconvert_exporter": "python",
   "pygments_lexer": "ipython3",
   "version": "3.8.1"
  }
 },
 "nbformat": 4,
 "nbformat_minor": 5
}
