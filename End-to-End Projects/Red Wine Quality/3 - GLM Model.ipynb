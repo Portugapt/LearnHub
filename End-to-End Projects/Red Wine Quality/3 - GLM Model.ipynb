{
 "cells": [
  {
   "cell_type": "markdown",
   "id": "d522a272-2445-47b1-9402-dd3c63d57246",
   "metadata": {},
   "source": [
    "# Generalized Linear Model\n",
    "\n",
    "Even though the target, quality, is an ordinal feature,\n",
    "\n",
    "We'll see."
   ]
  },
  {
   "cell_type": "code",
   "execution_count": 77,
   "id": "5a4864b5-036a-401f-8427-dec2f45781e7",
   "metadata": {},
   "outputs": [],
   "source": [
    "# Import libraries\n",
    "\n",
    "import pandas as pd\n",
    "import numpy as np\n",
    "\n",
    "import matplotlib.pyplot as plt\n",
    "import seaborn as sns\n",
    "\n",
    "import scipy.stats as stats\n",
    "\n",
    "import statsmodels.api as sm\n",
    "\n",
    "from sklearn.metrics import accuracy_score"
   ]
  },
  {
   "cell_type": "code",
   "execution_count": 23,
   "id": "adba727a-b868-4fba-ad84-8985c927a7eb",
   "metadata": {},
   "outputs": [],
   "source": [
    "dfInput = pd.read_csv('output/dataReady.csv', index_col = 'idx')\n",
    "\n",
    "dfTrain = dfInput.loc[dfInput.Set == 'train']\n",
    "dfVal = dfInput.loc[dfInput.Set == 'valid']"
   ]
  },
  {
   "cell_type": "code",
   "execution_count": 4,
   "id": "dc464d0c-1f4f-4af6-8bea-8422b82ef63d",
   "metadata": {},
   "outputs": [],
   "source": [
    "# \"ANOVA\" Test \n",
    "def calculate_nested_f_statistic(small_model, big_model):\n",
    "    \"\"\"Given two fitted GLMs, the larger of which contains the parameter space of the smaller, return the F Stat and P value corresponding to the larger model adding explanatory power\"\"\"\n",
    "    addtl_params = big_model.df_model - small_model.df_model\n",
    "    f_stat = (small_model.deviance - big_model.deviance) / (addtl_params * big_model.scale)\n",
    "    df_numerator = addtl_params\n",
    "    # use fitted values to obtain n_obs from model object:\n",
    "    df_denom = (big_model.fittedvalues.shape[0] - big_model.df_model)\n",
    "    p_value = stats.f.sf(f_stat, df_numerator, df_denom)\n",
    "    return (f_stat, p_value)"
   ]
  },
  {
   "cell_type": "code",
   "execution_count": 111,
   "id": "0c2ba30e-12fb-46ea-b78a-d1167de96511",
   "metadata": {},
   "outputs": [],
   "source": [
    "def glm_metrics(model, df, target):\n",
    "    aic = model.aic\n",
    "    results = pd.DataFrame(columns = ['True', 'Predicted', 'RMSE'])\n",
    "    results['Predicted'] = np.around(model.predict(df))\n",
    "    results['True'] = df[target]\n",
    "    results['RMSE'] = np.sqrt((results['True'] - results['Predicted'])**2)\n",
    "    tab = pd.crosstab(results['True'], results['Predicted'])\n",
    "    acc = accuracy_score(results['True'], results['Predicted'])\n",
    "    return (aic, results['RMSE'].mean(), acc, tab, results)"
   ]
  },
  {
   "cell_type": "code",
   "execution_count": 119,
   "id": "8177aa38-604d-4bd6-a465-47fcea08b969",
   "metadata": {},
   "outputs": [],
   "source": [
    "## Model one\n",
    "# https://stats.stackexchange.com/questions/190763/how-to-decide-which-glm-family-to-use\n",
    "target = 'quality'\n",
    "features = ['alcohol']\n",
    "\n",
    "formula = f'{target}~{\"+\".join(features)}'\n",
    "\n",
    "glm_model1 = sm.GLM.from_formula(formula, \n",
    "                                 data = dfTrain, \n",
    "                                 family=sm.families.Poisson()).fit()\n"
   ]
  },
  {
   "cell_type": "code",
   "execution_count": 120,
   "id": "3e24840e-aad0-4ad4-8c6d-dd2b5181237f",
   "metadata": {},
   "outputs": [
    {
     "data": {
      "text/html": [
       "<table class=\"simpletable\">\n",
       "<caption>Generalized Linear Model Regression Results</caption>\n",
       "<tr>\n",
       "  <th>Dep. Variable:</th>        <td>quality</td>     <th>  No. Observations:  </th>  <td>  1107</td> \n",
       "</tr>\n",
       "<tr>\n",
       "  <th>Model:</th>                  <td>GLM</td>       <th>  Df Residuals:      </th>  <td>  1105</td> \n",
       "</tr>\n",
       "<tr>\n",
       "  <th>Model Family:</th>         <td>Poisson</td>     <th>  Df Model:          </th>  <td>     1</td> \n",
       "</tr>\n",
       "<tr>\n",
       "  <th>Link Function:</th>          <td>log</td>       <th>  Scale:             </th> <td>  1.0000</td>\n",
       "</tr>\n",
       "<tr>\n",
       "  <th>Method:</th>                <td>IRLS</td>       <th>  Log-Likelihood:    </th> <td> -2032.8</td>\n",
       "</tr>\n",
       "<tr>\n",
       "  <th>Date:</th>            <td>Sat, 18 Sep 2021</td> <th>  Deviance:          </th> <td>  94.720</td>\n",
       "</tr>\n",
       "<tr>\n",
       "  <th>Time:</th>                <td>20:11:39</td>     <th>  Pearson chi2:      </th>  <td>  93.4</td> \n",
       "</tr>\n",
       "<tr>\n",
       "  <th>No. Iterations:</th>          <td>4</td>        <th>                     </th>     <td> </td>   \n",
       "</tr>\n",
       "<tr>\n",
       "  <th>Covariance Type:</th>     <td>nonrobust</td>    <th>                     </th>     <td> </td>   \n",
       "</tr>\n",
       "</table>\n",
       "<table class=\"simpletable\">\n",
       "<tr>\n",
       "      <td></td>         <th>coef</th>     <th>std err</th>      <th>z</th>      <th>P>|z|</th>  <th>[0.025</th>    <th>0.975]</th>  \n",
       "</tr>\n",
       "<tr>\n",
       "  <th>Intercept</th> <td>    1.0269</td> <td>    0.124</td> <td>    8.259</td> <td> 0.000</td> <td>    0.783</td> <td>    1.271</td>\n",
       "</tr>\n",
       "<tr>\n",
       "  <th>alcohol</th>   <td>    0.0673</td> <td>    0.012</td> <td>    5.699</td> <td> 0.000</td> <td>    0.044</td> <td>    0.090</td>\n",
       "</tr>\n",
       "</table>"
      ],
      "text/plain": [
       "<class 'statsmodels.iolib.summary.Summary'>\n",
       "\"\"\"\n",
       "                 Generalized Linear Model Regression Results                  \n",
       "==============================================================================\n",
       "Dep. Variable:                quality   No. Observations:                 1107\n",
       "Model:                            GLM   Df Residuals:                     1105\n",
       "Model Family:                 Poisson   Df Model:                            1\n",
       "Link Function:                    log   Scale:                          1.0000\n",
       "Method:                          IRLS   Log-Likelihood:                -2032.8\n",
       "Date:                Sat, 18 Sep 2021   Deviance:                       94.720\n",
       "Time:                        20:11:39   Pearson chi2:                     93.4\n",
       "No. Iterations:                     4                                         \n",
       "Covariance Type:            nonrobust                                         \n",
       "==============================================================================\n",
       "                 coef    std err          z      P>|z|      [0.025      0.975]\n",
       "------------------------------------------------------------------------------\n",
       "Intercept      1.0269      0.124      8.259      0.000       0.783       1.271\n",
       "alcohol        0.0673      0.012      5.699      0.000       0.044       0.090\n",
       "==============================================================================\n",
       "\"\"\""
      ]
     },
     "execution_count": 120,
     "metadata": {},
     "output_type": "execute_result"
    }
   ],
   "source": [
    "glm_model1.summary()"
   ]
  },
  {
   "cell_type": "code",
   "execution_count": 100,
   "id": "fd2ff529-86ec-4ca3-b207-c8e1e1d1c164",
   "metadata": {},
   "outputs": [
    {
     "data": {
      "text/plain": [
       "<AxesSubplot:ylabel='Density'>"
      ]
     },
     "execution_count": 100,
     "metadata": {},
     "output_type": "execute_result"
    },
    {
     "data": {
      "image/png": "[encoded data removed]",
      "text/plain": [
       "<Figure size 432x288 with 2 Axes>"
      ]
     },
     "metadata": {
      "needs_background": "light"
     },
     "output_type": "display_data"
    }
   ],
   "source": [
    "results = np.around(glm_model1.predict(dfVal))\n",
    "fig, ax1 = plt.subplots()\n",
    "ax2 = ax1.twinx()\n",
    "\n",
    "sns.histplot(results, ax=ax1)\n",
    "sns.kdeplot(results, ax=ax2, bw_method=0.8)"
   ]
  },
  {
   "cell_type": "code",
   "execution_count": 101,
   "id": "ef448ce9-10d3-4af0-81cb-3d03b310d376",
   "metadata": {},
   "outputs": [
    {
     "data": {
      "text/plain": [
       "(4069.634888039317,\n",
       " 0.5266666666666666,\n",
       " 0.52,\n",
       " Predicted  5.0  6.0  7.0\n",
       " True                    \n",
       " 4            3    4    0\n",
       " 5           40   20    2\n",
       " 6           22   37    7\n",
       " 7            1   12    1\n",
       " 8            0    0    1,\n",
       "       True  Predicted  RMSE\n",
       " idx                        \n",
       " 4        5        5.0   0.0\n",
       " 11       5        6.0   1.0\n",
       " 15       5        5.0   0.0\n",
       " 22       5        5.0   0.0\n",
       " 24       6        5.0   1.0\n",
       " ...    ...        ...   ...\n",
       " 1580     6        6.0   0.0\n",
       " 1581     5        6.0   1.0\n",
       " 1585     6        6.0   0.0\n",
       " 1594     5        6.0   1.0\n",
       " 1598     6        6.0   0.0\n",
       " \n",
       " [150 rows x 3 columns])"
      ]
     },
     "execution_count": 101,
     "metadata": {},
     "output_type": "execute_result"
    }
   ],
   "source": [
    "glm_metrics(glm_model1, dfVal, 'quality')"
   ]
  },
  {
   "cell_type": "code",
   "execution_count": 116,
   "id": "58ef929e-d367-4222-99b9-1b6009999752",
   "metadata": {},
   "outputs": [],
   "source": [
    "## Model two\n",
    "# https://stats.stackexchange.com/questions/190763/how-to-decide-which-glm-family-to-use\n",
    "target = 'quality'\n",
    "features = ['alcohol', 'sulphates']\n",
    "\n",
    "formula = f'{target}~{\"+\".join(features)}'\n",
    "\n",
    "glm_model2 = sm.GLM.from_formula(formula, \n",
    "                                 data = dfTrain, \n",
    "                                 family=sm.families.Poisson()).fit()"
   ]
  },
  {
   "cell_type": "code",
   "execution_count": 117,
   "id": "c28b2657-1d84-4efb-974e-03a6ac2ce517",
   "metadata": {},
   "outputs": [
    {
     "data": {
      "text/html": [
       "<table class=\"simpletable\">\n",
       "<caption>Generalized Linear Model Regression Results</caption>\n",
       "<tr>\n",
       "  <th>Dep. Variable:</th>        <td>quality</td>     <th>  No. Observations:  </th>  <td>  1107</td> \n",
       "</tr>\n",
       "<tr>\n",
       "  <th>Model:</th>                  <td>GLM</td>       <th>  Df Residuals:      </th>  <td>  1104</td> \n",
       "</tr>\n",
       "<tr>\n",
       "  <th>Model Family:</th>         <td>Poisson</td>     <th>  Df Model:          </th>  <td>     2</td> \n",
       "</tr>\n",
       "<tr>\n",
       "  <th>Link Function:</th>          <td>log</td>       <th>  Scale:             </th> <td>  1.0000</td>\n",
       "</tr>\n",
       "<tr>\n",
       "  <th>Method:</th>                <td>IRLS</td>       <th>  Log-Likelihood:    </th> <td> -2029.5</td>\n",
       "</tr>\n",
       "<tr>\n",
       "  <th>Date:</th>            <td>Sat, 18 Sep 2021</td> <th>  Deviance:          </th> <td>  88.172</td>\n",
       "</tr>\n",
       "<tr>\n",
       "  <th>Time:</th>                <td>20:09:50</td>     <th>  Pearson chi2:      </th>  <td>  86.8</td> \n",
       "</tr>\n",
       "<tr>\n",
       "  <th>No. Iterations:</th>          <td>4</td>        <th>                     </th>     <td> </td>   \n",
       "</tr>\n",
       "<tr>\n",
       "  <th>Covariance Type:</th>     <td>nonrobust</td>    <th>                     </th>     <td> </td>   \n",
       "</tr>\n",
       "</table>\n",
       "<table class=\"simpletable\">\n",
       "<tr>\n",
       "      <td></td>         <th>coef</th>     <th>std err</th>      <th>z</th>      <th>P>|z|</th>  <th>[0.025</th>    <th>0.975]</th>  \n",
       "</tr>\n",
       "<tr>\n",
       "  <th>Intercept</th> <td>    0.9289</td> <td>    0.130</td> <td>    7.132</td> <td> 0.000</td> <td>    0.674</td> <td>    1.184</td>\n",
       "</tr>\n",
       "<tr>\n",
       "  <th>alcohol</th>   <td>    0.0636</td> <td>    0.012</td> <td>    5.345</td> <td> 0.000</td> <td>    0.040</td> <td>    0.087</td>\n",
       "</tr>\n",
       "<tr>\n",
       "  <th>sulphates</th> <td>    0.2084</td> <td>    0.081</td> <td>    2.584</td> <td> 0.010</td> <td>    0.050</td> <td>    0.367</td>\n",
       "</tr>\n",
       "</table>"
      ],
      "text/plain": [
       "<class 'statsmodels.iolib.summary.Summary'>\n",
       "\"\"\"\n",
       "                 Generalized Linear Model Regression Results                  \n",
       "==============================================================================\n",
       "Dep. Variable:                quality   No. Observations:                 1107\n",
       "Model:                            GLM   Df Residuals:                     1104\n",
       "Model Family:                 Poisson   Df Model:                            2\n",
       "Link Function:                    log   Scale:                          1.0000\n",
       "Method:                          IRLS   Log-Likelihood:                -2029.5\n",
       "Date:                Sat, 18 Sep 2021   Deviance:                       88.172\n",
       "Time:                        20:09:50   Pearson chi2:                     86.8\n",
       "No. Iterations:                     4                                         \n",
       "Covariance Type:            nonrobust                                         \n",
       "==============================================================================\n",
       "                 coef    std err          z      P>|z|      [0.025      0.975]\n",
       "------------------------------------------------------------------------------\n",
       "Intercept      0.9289      0.130      7.132      0.000       0.674       1.184\n",
       "alcohol        0.0636      0.012      5.345      0.000       0.040       0.087\n",
       "sulphates      0.2084      0.081      2.584      0.010       0.050       0.367\n",
       "==============================================================================\n",
       "\"\"\""
      ]
     },
     "execution_count": 117,
     "metadata": {},
     "output_type": "execute_result"
    }
   ],
   "source": [
    "glm_model2.summary()"
   ]
  },
  {
   "cell_type": "code",
   "execution_count": 118,
   "id": "ee08b449-5d80-4f7d-bc6a-983f50a180e6",
   "metadata": {},
   "outputs": [
    {
     "data": {
      "text/plain": [
       "(4065.0868870366567,\n",
       " 0.5,\n",
       " 0.54,\n",
       " Predicted  5.0  6.0  7.0\n",
       " True                    \n",
       " 4            3    4    0\n",
       " 5           38   23    1\n",
       " 6           20   40    6\n",
       " 7            1   10    3\n",
       " 8            0    0    1,\n",
       "       True  Predicted  RMSE\n",
       " idx                        \n",
       " 4        5        5.0   0.0\n",
       " 11       5        6.0   1.0\n",
       " 15       5        6.0   1.0\n",
       " 22       5        6.0   1.0\n",
       " 24       6        5.0   1.0\n",
       " ...    ...        ...   ...\n",
       " 1580     6        6.0   0.0\n",
       " 1581     5        6.0   1.0\n",
       " 1585     6        6.0   0.0\n",
       " 1594     5        6.0   1.0\n",
       " 1598     6        6.0   0.0\n",
       " \n",
       " [150 rows x 3 columns])"
      ]
     },
     "execution_count": 118,
     "metadata": {},
     "output_type": "execute_result"
    }
   ],
   "source": [
    "glm_metrics(glm_model2, dfVal, 'quality')"
   ]
  },
  {
   "cell_type": "code",
   "execution_count": 121,
   "id": "25879869-7c3f-45f1-9304-fb074f1a5b3c",
   "metadata": {},
   "outputs": [
    {
     "data": {
      "text/html": [
       "<div>\n",
       "<style scoped>\n",
       "    .dataframe tbody tr th:only-of-type {\n",
       "        vertical-align: middle;\n",
       "    }\n",
       "\n",
       "    .dataframe tbody tr th {\n",
       "        vertical-align: top;\n",
       "    }\n",
       "\n",
       "    .dataframe thead th {\n",
       "        text-align: right;\n",
       "    }\n",
       "</style>\n",
       "<table border=\"1\" class=\"dataframe\">\n",
       "  <thead>\n",
       "    <tr style=\"text-align: right;\">\n",
       "      <th>Predicted</th>\n",
       "      <th>5.0</th>\n",
       "      <th>6.0</th>\n",
       "      <th>7.0</th>\n",
       "    </tr>\n",
       "    <tr>\n",
       "      <th>True</th>\n",
       "      <th></th>\n",
       "      <th></th>\n",
       "      <th></th>\n",
       "    </tr>\n",
       "  </thead>\n",
       "  <tbody>\n",
       "    <tr>\n",
       "      <th>4</th>\n",
       "      <td>3</td>\n",
       "      <td>4</td>\n",
       "      <td>0</td>\n",
       "    </tr>\n",
       "    <tr>\n",
       "      <th>5</th>\n",
       "      <td>38</td>\n",
       "      <td>23</td>\n",
       "      <td>1</td>\n",
       "    </tr>\n",
       "    <tr>\n",
       "      <th>6</th>\n",
       "      <td>20</td>\n",
       "      <td>40</td>\n",
       "      <td>6</td>\n",
       "    </tr>\n",
       "    <tr>\n",
       "      <th>7</th>\n",
       "      <td>1</td>\n",
       "      <td>10</td>\n",
       "      <td>3</td>\n",
       "    </tr>\n",
       "    <tr>\n",
       "      <th>8</th>\n",
       "      <td>0</td>\n",
       "      <td>0</td>\n",
       "      <td>1</td>\n",
       "    </tr>\n",
       "  </tbody>\n",
       "</table>\n",
       "</div>"
      ],
      "text/plain": [
       "Predicted  5.0  6.0  7.0\n",
       "True                    \n",
       "4            3    4    0\n",
       "5           38   23    1\n",
       "6           20   40    6\n",
       "7            1   10    3\n",
       "8            0    0    1"
      ]
     },
     "execution_count": 121,
     "metadata": {},
     "output_type": "execute_result"
    }
   ],
   "source": [
    "glm_metrics(glm_model2, dfVal, 'quality')[3]"
   ]
  },
  {
   "cell_type": "code",
   "execution_count": null,
   "id": "6d265f25-58cc-4d4d-a919-29d4b63304d1",
   "metadata": {},
   "outputs": [],
   "source": []
  }
 ],
 "metadata": {
  "kernelspec": {
   "display_name": "Python 3 (ipykernel)",
   "language": "python",
   "name": "python3"
  },
  "language_info": {
   "codemirror_mode": {
    "name": "ipython",
    "version": 3
   },
   "file_extension": ".py",
   "mimetype": "text/x-python",
   "name": "python",
   "nbconvert_exporter": "python",
   "pygments_lexer": "ipython3",
   "version": "3.8.1"
  }
 },
 "nbformat": 4,
 "nbformat_minor": 5
}
