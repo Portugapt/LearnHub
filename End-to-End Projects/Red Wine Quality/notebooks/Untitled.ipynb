{
 "cells": [
  {
   "cell_type": "code",
   "execution_count": 2,
   "id": "af1bdecb-cbf7-49a3-a872-429935080845",
   "metadata": {},
   "outputs": [],
   "source": [
    "import dvc.api"
   ]
  },
  {
   "cell_type": "code",
   "execution_count": 8,
   "id": "f8ee7798-fcd8-486d-8834-4c3786ba25ee",
   "metadata": {},
   "outputs": [
    {
     "data": {
      "text/plain": [
       "'gs://jm-learnhub-redwine/datasets/redwine/6a/883fd98624e18c0b7ce251f4fab4fb'"
      ]
     },
     "execution_count": 8,
     "metadata": {},
     "output_type": "execute_result"
    }
   ],
   "source": [
    "dvc.api.get_url('End-to-End Projects/Red Wine Quality/input/winequality-red.csv')"
   ]
  },
  {
   "cell_type": "code",
   "execution_count": null,
   "id": "b1a57233-828e-4120-97dc-0a05fa080689",
   "metadata": {},
   "outputs": [],
   "source": []
  }
 ],
 "metadata": {
  "kernelspec": {
   "display_name": "Python 3 (ipykernel)",
   "language": "python",
   "name": "python3"
  },
  "language_info": {
   "codemirror_mode": {
    "name": "ipython",
    "version": 3
   },
   "file_extension": ".py",
   "mimetype": "text/x-python",
   "name": "python",
   "nbconvert_exporter": "python",
   "pygments_lexer": "ipython3",
   "version": "3.8.1"
  }
 },
 "nbformat": 4,
 "nbformat_minor": 5
}
