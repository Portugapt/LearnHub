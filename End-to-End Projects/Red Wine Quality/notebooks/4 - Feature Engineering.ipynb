{
 "cells": [
  {
   "cell_type": "markdown",
   "id": "83e8706e-b5cd-4a78-8a56-1997aea559f2",
   "metadata": {},
   "source": [
    "# Feature Engineering\n",
    "\n",
    "In this notebook, I will grab the data produced in the second notebook, and I will apply feature engineering tools, such as PCA & UMAP's.  \n",
    "I will also explore the library FeatureTools. I have never used it, and I am not sure if it applies to this dataset, and what value does it bring, but that's what I intend to find out.\n",
    "\n",
    "Everything I do in this notebook will be applied to the methods in the fifth notebook, and revised as needed.  \n",
    "I will also try to create an Airflow DAG with the functions to load and transform the data to feed to the subsequent notebook methods."
   ]
  },
  {
   "cell_type": "markdown",
   "id": "cf257fb1-163f-4658-a0ed-2e33c21a02d3",
   "metadata": {},
   "source": [
    "## Load Data & libraries\n",
    "\n"
   ]
  }
 ],
 "metadata": {
  "kernelspec": {
   "display_name": "Python 3 (ipykernel)",
   "language": "python",
   "name": "python3"
  },
  "language_info": {
   "codemirror_mode": {
    "name": "ipython",
    "version": 3
   },
   "file_extension": ".py",
   "mimetype": "text/x-python",
   "name": "python",
   "nbconvert_exporter": "python",
   "pygments_lexer": "ipython3",
   "version": "3.8.1"
  }
 },
 "nbformat": 4,
 "nbformat_minor": 5
}
