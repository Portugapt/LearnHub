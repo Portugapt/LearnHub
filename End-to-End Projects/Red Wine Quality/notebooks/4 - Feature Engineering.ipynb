{
 "cells": [
  {
   "cell_type": "markdown",
   "id": "83e8706e-b5cd-4a78-8a56-1997aea559f2",
   "metadata": {},
   "source": [
    "# Feature Engineering\n",
    "\n",
    "In this notebook, I will grab the data produced in the second notebook, and I will apply feature engineering tools, such as PCA & UMAP's.  \n",
    "I will also explore the library FeatureTools. I have never used it, and I am not sure if it applies to this dataset, and what value does it bring, but that's what I intend to find out.\n",
    "\n",
    "Everything I do in this notebook will be applied to the methods in the fifth notebook, and revised as needed.  \n",
    "\n",
    "I will also try to create an Airflow DAG with the functions to load and transform the data to feed to the subsequent notebook methods.   \n",
    "Some of these. "
   ]
  },
  {
   "cell_type": "markdown",
   "id": "cf257fb1-163f-4658-a0ed-2e33c21a02d3",
   "metadata": {},
   "source": [
    "# Load Data & libraries"
   ]
  },
  {
   "cell_type": "code",
   "execution_count": 1,
   "id": "a90d07eb-e877-4d6a-b47e-91f5fb7bba10",
   "metadata": {},
   "outputs": [],
   "source": [
    "# Import libraries\n",
    "\n",
    "import pandas as pd\n",
    "import numpy as np"
   ]
  },
  {
   "cell_type": "code",
   "execution_count": 2,
   "id": "5b78ec03-c0a9-4131-8d8a-5f96102e7471",
   "metadata": {},
   "outputs": [],
   "source": [
    "# Import the data.\n",
    "# Using the data with the train/test/dev sets already defined (In the column set)\n",
    "\n",
    "dfInput = pd.read_csv('../output/dataReady.csv', index_col = 'idx')"
   ]
  },
  {
   "cell_type": "code",
   "execution_count": 1,
   "id": "f8e6de5c-e823-4a45-b309-8c7cad8f71e3",
   "metadata": {},
   "outputs": [],
   "source": [
    "import seaborn as sns\n",
    "\n",
    "exercise = sns.load_dataset(\"exercise\")"
   ]
  },
  {
   "cell_type": "code",
   "execution_count": 2,
   "id": "fe0b5294-e78f-4d8d-b2ed-24c1991140e5",
   "metadata": {},
   "outputs": [
    {
     "data": {
      "text/html": [
       "<div>\n",
       "<style scoped>\n",
       "    .dataframe tbody tr th:only-of-type {\n",
       "        vertical-align: middle;\n",
       "    }\n",
       "\n",
       "    .dataframe tbody tr th {\n",
       "        vertical-align: top;\n",
       "    }\n",
       "\n",
       "    .dataframe thead th {\n",
       "        text-align: right;\n",
       "    }\n",
       "</style>\n",
       "<table border=\"1\" class=\"dataframe\">\n",
       "  <thead>\n",
       "    <tr style=\"text-align: right;\">\n",
       "      <th></th>\n",
       "      <th>Unnamed: 0</th>\n",
       "      <th>id</th>\n",
       "      <th>diet</th>\n",
       "      <th>pulse</th>\n",
       "      <th>time</th>\n",
       "      <th>kind</th>\n",
       "    </tr>\n",
       "  </thead>\n",
       "  <tbody>\n",
       "    <tr>\n",
       "      <th>0</th>\n",
       "      <td>0</td>\n",
       "      <td>1</td>\n",
       "      <td>low fat</td>\n",
       "      <td>85</td>\n",
       "      <td>1 min</td>\n",
       "      <td>rest</td>\n",
       "    </tr>\n",
       "    <tr>\n",
       "      <th>1</th>\n",
       "      <td>1</td>\n",
       "      <td>1</td>\n",
       "      <td>low fat</td>\n",
       "      <td>85</td>\n",
       "      <td>15 min</td>\n",
       "      <td>rest</td>\n",
       "    </tr>\n",
       "    <tr>\n",
       "      <th>2</th>\n",
       "      <td>2</td>\n",
       "      <td>1</td>\n",
       "      <td>low fat</td>\n",
       "      <td>88</td>\n",
       "      <td>30 min</td>\n",
       "      <td>rest</td>\n",
       "    </tr>\n",
       "    <tr>\n",
       "      <th>3</th>\n",
       "      <td>3</td>\n",
       "      <td>2</td>\n",
       "      <td>low fat</td>\n",
       "      <td>90</td>\n",
       "      <td>1 min</td>\n",
       "      <td>rest</td>\n",
       "    </tr>\n",
       "    <tr>\n",
       "      <th>4</th>\n",
       "      <td>4</td>\n",
       "      <td>2</td>\n",
       "      <td>low fat</td>\n",
       "      <td>92</td>\n",
       "      <td>15 min</td>\n",
       "      <td>rest</td>\n",
       "    </tr>\n",
       "    <tr>\n",
       "      <th>...</th>\n",
       "      <td>...</td>\n",
       "      <td>...</td>\n",
       "      <td>...</td>\n",
       "      <td>...</td>\n",
       "      <td>...</td>\n",
       "      <td>...</td>\n",
       "    </tr>\n",
       "    <tr>\n",
       "      <th>85</th>\n",
       "      <td>85</td>\n",
       "      <td>29</td>\n",
       "      <td>no fat</td>\n",
       "      <td>135</td>\n",
       "      <td>15 min</td>\n",
       "      <td>running</td>\n",
       "    </tr>\n",
       "    <tr>\n",
       "      <th>86</th>\n",
       "      <td>86</td>\n",
       "      <td>29</td>\n",
       "      <td>no fat</td>\n",
       "      <td>130</td>\n",
       "      <td>30 min</td>\n",
       "      <td>running</td>\n",
       "    </tr>\n",
       "    <tr>\n",
       "      <th>87</th>\n",
       "      <td>87</td>\n",
       "      <td>30</td>\n",
       "      <td>no fat</td>\n",
       "      <td>99</td>\n",
       "      <td>1 min</td>\n",
       "      <td>running</td>\n",
       "    </tr>\n",
       "    <tr>\n",
       "      <th>88</th>\n",
       "      <td>88</td>\n",
       "      <td>30</td>\n",
       "      <td>no fat</td>\n",
       "      <td>111</td>\n",
       "      <td>15 min</td>\n",
       "      <td>running</td>\n",
       "    </tr>\n",
       "    <tr>\n",
       "      <th>89</th>\n",
       "      <td>89</td>\n",
       "      <td>30</td>\n",
       "      <td>no fat</td>\n",
       "      <td>150</td>\n",
       "      <td>30 min</td>\n",
       "      <td>running</td>\n",
       "    </tr>\n",
       "  </tbody>\n",
       "</table>\n",
       "<p>90 rows × 6 columns</p>\n",
       "</div>"
      ],
      "text/plain": [
       "    Unnamed: 0  id     diet  pulse    time     kind\n",
       "0            0   1  low fat     85   1 min     rest\n",
       "1            1   1  low fat     85  15 min     rest\n",
       "2            2   1  low fat     88  30 min     rest\n",
       "3            3   2  low fat     90   1 min     rest\n",
       "4            4   2  low fat     92  15 min     rest\n",
       "..         ...  ..      ...    ...     ...      ...\n",
       "85          85  29   no fat    135  15 min  running\n",
       "86          86  29   no fat    130  30 min  running\n",
       "87          87  30   no fat     99   1 min  running\n",
       "88          88  30   no fat    111  15 min  running\n",
       "89          89  30   no fat    150  30 min  running\n",
       "\n",
       "[90 rows x 6 columns]"
      ]
     },
     "execution_count": 2,
     "metadata": {},
     "output_type": "execute_result"
    }
   ],
   "source": [
    "exercise"
   ]
  },
  {
   "cell_type": "markdown",
   "id": "c01ca18a-139d-4bea-af03-a29c2650f1b6",
   "metadata": {},
   "source": [
    "## Map"
   ]
  },
  {
   "cell_type": "markdown",
   "id": "ed33957e-0bec-40d7-9639-f024584e6796",
   "metadata": {},
   "source": [
    "Idk, I can start by transformations. Like `log` and normalizations. Also by creating shallow decision trees on each feature. List time.   \n",
    "1. Log\n",
    "2. Normalization\n",
    "3. Interactions between features\n",
    "4. Shallow decisions trees\n",
    "\n",
    "Other techniques include dimensionality reduction techniques.\n",
    "1. PCA\n",
    "2. UMAP"
   ]
  }
 ],
 "metadata": {
  "kernelspec": {
   "display_name": "Python 3 (ipykernel)",
   "language": "python",
   "name": "python3"
  },
  "language_info": {
   "codemirror_mode": {
    "name": "ipython",
    "version": 3
   },
   "file_extension": ".py",
   "mimetype": "text/x-python",
   "name": "python",
   "nbconvert_exporter": "python",
   "pygments_lexer": "ipython3",
   "version": "3.8.1"
  }
 },
 "nbformat": 4,
 "nbformat_minor": 5
}
