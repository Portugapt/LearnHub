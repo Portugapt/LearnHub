{
 "cells": [
  {
   "cell_type": "markdown",
   "id": "b96d9694-80c9-4f02-bf99-a0600ebf564a",
   "metadata": {},
   "source": [
    "# Train - Test Split\n",
    "\n",
    "The split of Data is indepedent of the model. This allows for the results to be comparable. \n",
    "\n",
    "\n",
    "In this case I will split the data in 3.\n",
    "* 70% Train\n",
    "* 10% Validation\n",
    "* 20% Test\n",
    "\n",
    "Things to have in consideration:\n",
    "\n",
    "* Cross Validation.\n"
   ]
  },
  {
   "cell_type": "code",
   "execution_count": 1,
   "id": "335056e0-b480-4a73-baba-b03cba10caef",
   "metadata": {},
   "outputs": [],
   "source": [
    "# Import libraries\n",
    "\n",
    "import pandas as pd\n",
    "import numpy as np"
   ]
  },
  {
   "cell_type": "code",
   "execution_count": 2,
   "id": "234c3f85-906b-4333-ba54-49cd4239170c",
   "metadata": {},
   "outputs": [],
   "source": [
    "dfInput = pd.read_csv('../output/dataPrepared.csv', index_col = 'idx')\n",
    "target = 'quality'\n",
    "np.random.seed(123)\n",
    "if \"Set\" not in dfInput.columns:\n",
    "    dfInput[\"Set\"] = np.random.choice([\"train\", \"valid\", \"test\"], p =[.7, .1, .2], size=(dfInput.shape[0],))"
   ]
  },
  {
   "cell_type": "code",
   "execution_count": 3,
   "id": "92170723-5104-45c3-a5a4-0d02a26cf33c",
   "metadata": {},
   "outputs": [],
   "source": [
    "dfInput.to_csv('../output/dataReady.csv', index_label = 'idx')"
   ]
  },
  {
   "cell_type": "code",
   "execution_count": null,
   "id": "f6afddb7-b326-41f4-aec0-7931273eae6b",
   "metadata": {},
   "outputs": [],
   "source": []
  }
 ],
 "metadata": {
  "kernelspec": {
   "display_name": "Python 3 (ipykernel)",
   "language": "python",
   "name": "python3"
  },
  "language_info": {
   "codemirror_mode": {
    "name": "ipython",
    "version": 3
   },
   "file_extension": ".py",
   "mimetype": "text/x-python",
   "name": "python",
   "nbconvert_exporter": "python",
   "pygments_lexer": "ipython3",
   "version": "3.8.1"
  }
 },
 "nbformat": 4,
 "nbformat_minor": 5
}
