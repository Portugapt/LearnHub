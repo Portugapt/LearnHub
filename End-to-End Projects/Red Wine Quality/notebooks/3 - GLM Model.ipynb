{
 "cells": [
  {
   "cell_type": "markdown",
   "id": "d522a272-2445-47b1-9402-dd3c63d57246",
   "metadata": {},
   "source": [
    "# Generalized Linear Model\n",
    "\n",
    "Even though the target, quality, is an ordinal feature, we can transform it into a categorical feature.  \n",
    "For example, above 7, it's High Quality. Between 5 and 6, it's Moderate quality, and below 5 is Poor quality. \n",
    "\n",
    "In the initial case, I am comparing the predicted regression quality VS the true regression."
   ]
  },
  {
   "cell_type": "markdown",
   "id": "faf7c975-a7f2-4649-82df-08dbc8f6062a",
   "metadata": {},
   "source": [
    "# TO DO\n",
    "\n",
    "1. How to add a description, creator, schema and everything else.\n",
    "2. Get the hang of the UI."
   ]
  },
  {
   "cell_type": "code",
   "execution_count": 1,
   "id": "5a4864b5-036a-401f-8427-dec2f45781e7",
   "metadata": {},
   "outputs": [],
   "source": [
    "# Import libraries\n",
    "import os \n",
    "import tempfile\n",
    "import pickle\n",
    "from pathlib import Path\n",
    "import json\n",
    "\n",
    "import pandas as pd\n",
    "import numpy as np\n",
    "\n",
    "import matplotlib.pyplot as plt\n",
    "import seaborn as sns\n",
    "\n",
    "import scipy.stats as stats\n",
    "import statsmodels.api as sm\n",
    "\n",
    "from sklearn.metrics import accuracy_score, r2_score\n",
    "\n",
    "from urllib.parse import urlparse\n",
    "\n",
    "import mlflow\n",
    "from google.cloud import storage\n",
    "\n",
    "import logging\n",
    "\n",
    "logging.basicConfig(level=logging.WARN)\n",
    "logger = logging.getLogger(__name__)"
   ]
  },
  {
   "cell_type": "code",
   "execution_count": 2,
   "id": "109aa72f-0d17-4441-8640-fb9ebc88f1f2",
   "metadata": {},
   "outputs": [
    {
     "name": "stdout",
     "output_type": "stream",
     "text": [
      "/home/portugapt/Documents/LearnHub/auth/credentials.json\n"
     ]
    }
   ],
   "source": [
    "print(os.environ['GOOGLE_APPLICATION_CREDENTIALS'])"
   ]
  },
  {
   "cell_type": "code",
   "execution_count": 3,
   "id": "adba727a-b868-4fba-ad84-8985c927a7eb",
   "metadata": {},
   "outputs": [],
   "source": [
    "dfInput = pd.read_csv('../output/dataReady.csv', index_col = 'idx')\n",
    "\n",
    "dfTrain = dfInput.loc[dfInput.Set == 'train']\n",
    "dfVal = dfInput.loc[dfInput.Set == 'valid']"
   ]
  },
  {
   "cell_type": "code",
   "execution_count": 4,
   "id": "dc464d0c-1f4f-4af6-8bea-8422b82ef63d",
   "metadata": {},
   "outputs": [],
   "source": [
    "# \"ANOVA\" Test \n",
    "def calculate_nested_f_statistic(small_model, big_model):\n",
    "    \"\"\"Given two fitted GLMs, the larger of which contains the parameter space of the smaller, return the F Stat and P value corresponding to the larger model adding explanatory power\"\"\"\n",
    "    addtl_params = big_model.df_model - small_model.df_model\n",
    "    f_stat = (small_model.deviance - big_model.deviance) / (addtl_params * big_model.scale)\n",
    "    df_numerator = addtl_params\n",
    "    # use fitted values to obtain n_obs from model object:\n",
    "    df_denom = (big_model.fittedvalues.shape[0] - big_model.df_model)\n",
    "    p_value = stats.f.sf(f_stat, df_numerator, df_denom)\n",
    "    return (f_stat, p_value)"
   ]
  },
  {
   "cell_type": "code",
   "execution_count": 5,
   "id": "0c2ba30e-12fb-46ea-b78a-d1167de96511",
   "metadata": {},
   "outputs": [],
   "source": [
    "def glm_metrics(model, df, target):\n",
    "    aic = model.aic\n",
    "    results = pd.DataFrame(columns = ['True', 'Predicted', 'RMSE'])\n",
    "    results['Predicted'] = np.around(model.predict(df))\n",
    "    results['True'] = df[target]\n",
    "    \n",
    "    results['RMSE'] = np.sqrt((results['True'] - results['Predicted'])**2)\n",
    "    results['MAE'] = np.abs((results['True'] - results['Predicted']))\n",
    "    \n",
    "    tab = pd.crosstab(results['True'], results['Predicted'])\n",
    "    acc = accuracy_score(results['True'], results['Predicted'])\n",
    "    \n",
    "    rmse = results['RMSE'].mean()\n",
    "    mae = results['MAE'].mean()\n",
    "    \n",
    "    return (aic, rmse, mae, acc, tab, results)"
   ]
  },
  {
   "cell_type": "markdown",
   "id": "1b4fad93-047e-4b5d-9184-165fc6dec978",
   "metadata": {},
   "source": [
    "## Model Regressor\n",
    "\n",
    "I use a poisson as the family in the GLM, due to it's discrete nature. "
   ]
  },
  {
   "cell_type": "markdown",
   "id": "7c0eac0b-f94f-4da3-9af0-b7ed89a6143d",
   "metadata": {},
   "source": [
    "### Run 1"
   ]
  },
  {
   "cell_type": "code",
   "execution_count": 28,
   "id": "8177aa38-604d-4bd6-a465-47fcea08b969",
   "metadata": {},
   "outputs": [],
   "source": [
    "## Model one\n",
    "# https://stats.stackexchange.com/questions/190763/how-to-decide-which-glm-family-to-use\n",
    "target = 'quality'\n",
    "features = ['alcohol']\n",
    "\n",
    "formula = f'{target}~{\"+\".join(features)}'\n",
    "\n",
    "glm_model1 = sm.GLM.from_formula(formula, \n",
    "                                 data = dfTrain, \n",
    "                                 family=sm.families.Poisson()).fit()\n",
    "\n",
    "\n",
    "(aic, rmse, mae, acc, tab, results) = glm_metrics(glm_model1, dfVal, 'quality')"
   ]
  },
  {
   "cell_type": "code",
   "execution_count": 29,
   "id": "4ec8d12a-4078-4191-b0e1-58a3fac1f291",
   "metadata": {},
   "outputs": [
    {
     "name": "stderr",
     "output_type": "stream",
     "text": [
      "/home/portugapt/.pyenv/versions/3.8.1/envs/LearnHub/lib/python3.8/site-packages/matplotlib/cbook/__init__.py:1402: FutureWarning: Support for multi-dimensional indexing (e.g. `obj[:, None]`) is deprecated and will be removed in a future version.  Convert to a numpy array before indexing instead.\n",
      "  x[:, None]\n",
      "/home/portugapt/.pyenv/versions/3.8.1/envs/LearnHub/lib/python3.8/site-packages/matplotlib/axes/_base.py:276: FutureWarning: Support for multi-dimensional indexing (e.g. `obj[:, None]`) is deprecated and will be removed in a future version.  Convert to a numpy array before indexing instead.\n",
      "  x = x[:, np.newaxis]\n",
      "/home/portugapt/.pyenv/versions/3.8.1/envs/LearnHub/lib/python3.8/site-packages/matplotlib/axes/_base.py:278: FutureWarning: Support for multi-dimensional indexing (e.g. `obj[:, None]`) is deprecated and will be removed in a future version.  Convert to a numpy array before indexing instead.\n",
      "  y = y[:, np.newaxis]\n"
     ]
    },
    {
     "data": {
      "image/png": "[encoded data removed]",
      "text/plain": [
       "<Figure size 432x288 with 2 Axes>"
      ]
     },
     "metadata": {
      "needs_background": "light"
     },
     "output_type": "display_data"
    }
   ],
   "source": [
    "results = np.around(glm_model1.predict(dfVal))\n",
    "fig, ax1 = plt.subplots()\n",
    "ax2 = ax1.twinx()\n",
    "\n",
    "sns.histplot(results, ax=ax1)\n",
    "sns.kdeplot(results, ax=ax2, bw_method=0.8)\n",
    "\n",
    "model_results = fig"
   ]
  },
  {
   "cell_type": "code",
   "execution_count": 30,
   "id": "2abecb8f-2665-4693-9164-6f976a3d252d",
   "metadata": {},
   "outputs": [],
   "source": [
    "## Log Metrics and Model into MLFlow\n",
    "with mlflow.start_run(run_name=\"GLM 1 Feature\") as run:\n",
    "    mlflow.log_param(\"Input Features\", features)\n",
    "    mlflow.log_metric(\"aic\", aic)\n",
    "    mlflow.log_metric(\"rmse\", rmse)\n",
    "    mlflow.log_metric(\"mae\", mae)\n",
    "    mlflow.log_metric(\"acc\", acc)\n",
    "\n",
    "    with tempfile.TemporaryDirectory() as temp_dir:\n",
    "        temp_dir_path = Path(temp_dir)\n",
    "        model_file_path = temp_dir_path / \"model.pickle\"\n",
    "        dist_categories_path =  temp_dir_path / \"output.png\"\n",
    "        model_results.savefig(dist_categories_path)\n",
    "        with open(model_file_path, \"wb\") as f:\n",
    "            pickle.dump(glm_model1, f)\n",
    "        mlflow.log_artifact(model_file_path)\n",
    "        mlflow.log_artifact(dist_categories_path)"
   ]
  },
  {
   "cell_type": "code",
   "execution_count": 22,
   "id": "3e24840e-aad0-4ad4-8c6d-dd2b5181237f",
   "metadata": {},
   "outputs": [
    {
     "name": "stdout",
     "output_type": "stream",
     "text": [
      "                 Generalized Linear Model Regression Results                  \n",
      "==============================================================================\n",
      "Dep. Variable:                quality   No. Observations:                 1107\n",
      "Model:                            GLM   Df Residuals:                     1105\n",
      "Model Family:                 Poisson   Df Model:                            1\n",
      "Link Function:                    log   Scale:                          1.0000\n",
      "Method:                          IRLS   Log-Likelihood:                -2032.8\n",
      "Date:                Mon, 08 Nov 2021   Deviance:                       94.720\n",
      "Time:                        19:21:54   Pearson chi2:                     93.4\n",
      "No. Iterations:                     4                                         \n",
      "Covariance Type:            nonrobust                                         \n",
      "==============================================================================\n",
      "                 coef    std err          z      P>|z|      [0.025      0.975]\n",
      "------------------------------------------------------------------------------\n",
      "Intercept      1.0269      0.124      8.259      0.000       0.783       1.271\n",
      "alcohol        0.0673      0.012      5.699      0.000       0.044       0.090\n",
      "==============================================================================\n"
     ]
    },
    {
     "data": {
      "image/png": "[encoded data removed]",
      "text/plain": [
       "<Figure size 432x288 with 2 Axes>"
      ]
     },
     "execution_count": 22,
     "metadata": {},
     "output_type": "execute_result"
    }
   ],
   "source": [
    "print(glm_model1.summary())\n",
    "\n",
    "model_results"
   ]
  },
  {
   "cell_type": "markdown",
   "id": "68641ec0-8b92-4bb9-8f13-3f13b7a6abb8",
   "metadata": {},
   "source": [
    "### Run 2"
   ]
  },
  {
   "cell_type": "code",
   "execution_count": 23,
   "id": "58ef929e-d367-4222-99b9-1b6009999752",
   "metadata": {},
   "outputs": [],
   "source": [
    "## Model two\n",
    "# https://stats.stackexchange.com/questions/190763/how-to-decide-which-glm-family-to-use\n",
    "target = 'quality'\n",
    "features = ['alcohol', 'sulphates']\n",
    "\n",
    "formula = f'{target}~{\"+\".join(features)}'\n",
    "\n",
    "glm_model2 = sm.GLM.from_formula(formula, \n",
    "                                 data = dfTrain, \n",
    "                                 family=sm.families.Poisson()).fit()\n",
    "\n",
    "(aic, rmse, mae, acc, tab, results) = glm_metrics(glm_model2, dfVal, 'quality')"
   ]
  },
  {
   "cell_type": "code",
   "execution_count": 24,
   "id": "825c5eee-90a1-4019-9fae-b8908a03fd03",
   "metadata": {},
   "outputs": [
    {
     "name": "stderr",
     "output_type": "stream",
     "text": [
      "/home/portugapt/.pyenv/versions/3.8.1/envs/LearnHub/lib/python3.8/site-packages/matplotlib/cbook/__init__.py:1402: FutureWarning: Support for multi-dimensional indexing (e.g. `obj[:, None]`) is deprecated and will be removed in a future version.  Convert to a numpy array before indexing instead.\n",
      "  x[:, None]\n",
      "/home/portugapt/.pyenv/versions/3.8.1/envs/LearnHub/lib/python3.8/site-packages/matplotlib/axes/_base.py:276: FutureWarning: Support for multi-dimensional indexing (e.g. `obj[:, None]`) is deprecated and will be removed in a future version.  Convert to a numpy array before indexing instead.\n",
      "  x = x[:, np.newaxis]\n",
      "/home/portugapt/.pyenv/versions/3.8.1/envs/LearnHub/lib/python3.8/site-packages/matplotlib/axes/_base.py:278: FutureWarning: Support for multi-dimensional indexing (e.g. `obj[:, None]`) is deprecated and will be removed in a future version.  Convert to a numpy array before indexing instead.\n",
      "  y = y[:, np.newaxis]\n"
     ]
    },
    {
     "data": {
      "image/png": "[encoded data removed]",
      "text/plain": [
       "<Figure size 432x288 with 2 Axes>"
      ]
     },
     "metadata": {
      "needs_background": "light"
     },
     "output_type": "display_data"
    }
   ],
   "source": [
    "results = np.around(glm_model2.predict(dfVal))\n",
    "fig, ax1 = plt.subplots()\n",
    "ax2 = ax1.twinx()\n",
    "\n",
    "sns.histplot(results, ax=ax1)\n",
    "sns.kdeplot(results, ax=ax2, bw_method=0.8)\n",
    "\n",
    "model_results = fig"
   ]
  },
  {
   "cell_type": "code",
   "execution_count": 25,
   "id": "90126ca4-0707-4709-82ae-45581391e656",
   "metadata": {},
   "outputs": [],
   "source": [
    "## Log Metrics and Model into MLFlow\n",
    "with mlflow.start_run(run_name=\"GLM 2 Features\") as run:\n",
    "    mlflow.log_param(\"Input Features\", features)\n",
    "    mlflow.log_metric(\"aic\", aic)\n",
    "    mlflow.log_metric(\"rmse\", rmse)\n",
    "    mlflow.log_metric(\"mae\", mae)\n",
    "    mlflow.log_metric(\"acc\", acc)\n",
    "\n",
    "    with tempfile.TemporaryDirectory() as temp_dir:\n",
    "        temp_dir_path = Path(temp_dir)\n",
    "        model_file_path = temp_dir_path / \"model.pickle\"\n",
    "        dist_categories_path =  temp_dir_path / \"output.png\"\n",
    "        model_results.savefig(dist_categories_path)\n",
    "        with open(model_file_path, \"wb\") as f:\n",
    "            pickle.dump(glm_model2, f)\n",
    "        mlflow.log_artifact(model_file_path)\n",
    "        mlflow.log_artifact(dist_categories_path)"
   ]
  },
  {
   "cell_type": "code",
   "execution_count": 12,
   "id": "c28b2657-1d84-4efb-974e-03a6ac2ce517",
   "metadata": {},
   "outputs": [
    {
     "data": {
      "text/html": [
       "<table class=\"simpletable\">\n",
       "<caption>Generalized Linear Model Regression Results</caption>\n",
       "<tr>\n",
       "  <th>Dep. Variable:</th>        <td>quality</td>     <th>  No. Observations:  </th>  <td>  1107</td> \n",
       "</tr>\n",
       "<tr>\n",
       "  <th>Model:</th>                  <td>GLM</td>       <th>  Df Residuals:      </th>  <td>  1104</td> \n",
       "</tr>\n",
       "<tr>\n",
       "  <th>Model Family:</th>         <td>Poisson</td>     <th>  Df Model:          </th>  <td>     2</td> \n",
       "</tr>\n",
       "<tr>\n",
       "  <th>Link Function:</th>          <td>log</td>       <th>  Scale:             </th> <td>  1.0000</td>\n",
       "</tr>\n",
       "<tr>\n",
       "  <th>Method:</th>                <td>IRLS</td>       <th>  Log-Likelihood:    </th> <td> -2029.5</td>\n",
       "</tr>\n",
       "<tr>\n",
       "  <th>Date:</th>            <td>Fri, 05 Nov 2021</td> <th>  Deviance:          </th> <td>  88.172</td>\n",
       "</tr>\n",
       "<tr>\n",
       "  <th>Time:</th>                <td>16:43:00</td>     <th>  Pearson chi2:      </th>  <td>  86.8</td> \n",
       "</tr>\n",
       "<tr>\n",
       "  <th>No. Iterations:</th>          <td>4</td>        <th>                     </th>     <td> </td>   \n",
       "</tr>\n",
       "<tr>\n",
       "  <th>Covariance Type:</th>     <td>nonrobust</td>    <th>                     </th>     <td> </td>   \n",
       "</tr>\n",
       "</table>\n",
       "<table class=\"simpletable\">\n",
       "<tr>\n",
       "      <td></td>         <th>coef</th>     <th>std err</th>      <th>z</th>      <th>P>|z|</th>  <th>[0.025</th>    <th>0.975]</th>  \n",
       "</tr>\n",
       "<tr>\n",
       "  <th>Intercept</th> <td>    0.9289</td> <td>    0.130</td> <td>    7.132</td> <td> 0.000</td> <td>    0.674</td> <td>    1.184</td>\n",
       "</tr>\n",
       "<tr>\n",
       "  <th>alcohol</th>   <td>    0.0636</td> <td>    0.012</td> <td>    5.345</td> <td> 0.000</td> <td>    0.040</td> <td>    0.087</td>\n",
       "</tr>\n",
       "<tr>\n",
       "  <th>sulphates</th> <td>    0.2084</td> <td>    0.081</td> <td>    2.584</td> <td> 0.010</td> <td>    0.050</td> <td>    0.367</td>\n",
       "</tr>\n",
       "</table>"
      ],
      "text/plain": [
       "<class 'statsmodels.iolib.summary.Summary'>\n",
       "\"\"\"\n",
       "                 Generalized Linear Model Regression Results                  \n",
       "==============================================================================\n",
       "Dep. Variable:                quality   No. Observations:                 1107\n",
       "Model:                            GLM   Df Residuals:                     1104\n",
       "Model Family:                 Poisson   Df Model:                            2\n",
       "Link Function:                    log   Scale:                          1.0000\n",
       "Method:                          IRLS   Log-Likelihood:                -2029.5\n",
       "Date:                Fri, 05 Nov 2021   Deviance:                       88.172\n",
       "Time:                        16:43:00   Pearson chi2:                     86.8\n",
       "No. Iterations:                     4                                         \n",
       "Covariance Type:            nonrobust                                         \n",
       "==============================================================================\n",
       "                 coef    std err          z      P>|z|      [0.025      0.975]\n",
       "------------------------------------------------------------------------------\n",
       "Intercept      0.9289      0.130      7.132      0.000       0.674       1.184\n",
       "alcohol        0.0636      0.012      5.345      0.000       0.040       0.087\n",
       "sulphates      0.2084      0.081      2.584      0.010       0.050       0.367\n",
       "==============================================================================\n",
       "\"\"\""
      ]
     },
     "execution_count": 12,
     "metadata": {},
     "output_type": "execute_result"
    }
   ],
   "source": [
    "glm_model2.summary()"
   ]
  },
  {
   "cell_type": "code",
   "execution_count": 13,
   "id": "1c22a736-bdff-4fa4-a0bd-468c0979a1e5",
   "metadata": {},
   "outputs": [
    {
     "name": "stderr",
     "output_type": "stream",
     "text": [
      "/home/portugapt/.pyenv/versions/3.8.1/envs/LearnHub/lib/python3.8/site-packages/matplotlib/cbook/__init__.py:1402: FutureWarning: Support for multi-dimensional indexing (e.g. `obj[:, None]`) is deprecated and will be removed in a future version.  Convert to a numpy array before indexing instead.\n",
      "  x[:, None]\n",
      "/home/portugapt/.pyenv/versions/3.8.1/envs/LearnHub/lib/python3.8/site-packages/matplotlib/axes/_base.py:276: FutureWarning: Support for multi-dimensional indexing (e.g. `obj[:, None]`) is deprecated and will be removed in a future version.  Convert to a numpy array before indexing instead.\n",
      "  x = x[:, np.newaxis]\n",
      "/home/portugapt/.pyenv/versions/3.8.1/envs/LearnHub/lib/python3.8/site-packages/matplotlib/axes/_base.py:278: FutureWarning: Support for multi-dimensional indexing (e.g. `obj[:, None]`) is deprecated and will be removed in a future version.  Convert to a numpy array before indexing instead.\n",
      "  y = y[:, np.newaxis]\n"
     ]
    },
    {
     "data": {
      "text/plain": [
       "<matplotlib.axes._subplots.AxesSubplot at 0x7f81baa4ad60>"
      ]
     },
     "execution_count": 13,
     "metadata": {},
     "output_type": "execute_result"
    },
    {
     "data": {
      "image/png": "[encoded data removed]",
      "text/plain": [
       "<Figure size 432x288 with 2 Axes>"
      ]
     },
     "metadata": {
      "needs_background": "light"
     },
     "output_type": "display_data"
    }
   ],
   "source": [
    "results = np.around(glm_model2.predict(dfVal))\n",
    "fig, ax1 = plt.subplots()\n",
    "ax2 = ax1.twinx()\n",
    "\n",
    "sns.histplot(results, ax=ax1)\n",
    "sns.kdeplot(results, ax=ax2, bw_method=0.8)"
   ]
  },
  {
   "cell_type": "markdown",
   "id": "8a942410-acb5-47f8-8308-80f5dfb3d12f",
   "metadata": {},
   "source": [
    "### Generic Run\n"
   ]
  },
  {
   "cell_type": "code",
   "execution_count": 56,
   "id": "89914bbb-8c5c-48ef-95c1-72f8d687c619",
   "metadata": {},
   "outputs": [],
   "source": [
    "## Model two\n",
    "# https://stats.stackexchange.com/questions/190763/how-to-decide-which-glm-family-to-use\n",
    "target = 'quality'\n",
    "features = ['alcohol', 'sulphates','Q(\"volatile acidity\")', 'Q(\"total sulfur dioxide\")']\n",
    "\n",
    "formula = f'{target}~{\"+\".join(features)}'\n",
    "\n",
    "glm_model = sm.GLM.from_formula(formula, \n",
    "                                 data = dfTrain, \n",
    "                                 family=sm.families.Poisson()).fit()"
   ]
  },
  {
   "cell_type": "code",
   "execution_count": 57,
   "id": "1ef52cb5-ab6d-4371-9523-fd5c2e85af56",
   "metadata": {},
   "outputs": [
    {
     "name": "stdout",
     "output_type": "stream",
     "text": [
      "                 Generalized Linear Model Regression Results                  \n",
      "==============================================================================\n",
      "Dep. Variable:                quality   No. Observations:                 1107\n",
      "Model:                            GLM   Df Residuals:                     1102\n",
      "Model Family:                 Poisson   Df Model:                            4\n",
      "Link Function:                    log   Scale:                          1.0000\n",
      "Method:                          IRLS   Log-Likelihood:                -2025.4\n",
      "Date:                Mon, 08 Nov 2021   Deviance:                       79.961\n",
      "Time:                        20:09:33   Pearson chi2:                     79.0\n",
      "No. Iterations:                     4                                         \n",
      "Covariance Type:            nonrobust                                         \n",
      "=============================================================================================\n",
      "                                coef    std err          z      P>|z|      [0.025      0.975]\n",
      "---------------------------------------------------------------------------------------------\n",
      "Intercept                     1.1891      0.159      7.469      0.000       0.877       1.501\n",
      "alcohol                       0.0540      0.012      4.326      0.000       0.030       0.078\n",
      "sulphates                     0.1522      0.084      1.801      0.072      -0.013       0.318\n",
      "Q(\"volatile acidity\")        -0.1929      0.076     -2.542      0.011      -0.342      -0.044\n",
      "Q(\"total sulfur dioxide\")    -0.0005      0.000     -1.147      0.252      -0.001       0.000\n",
      "=============================================================================================\n"
     ]
    },
    {
     "name": "stderr",
     "output_type": "stream",
     "text": [
      "/home/portugapt/.pyenv/versions/3.8.1/envs/LearnHub/lib/python3.8/site-packages/matplotlib/cbook/__init__.py:1402: FutureWarning: Support for multi-dimensional indexing (e.g. `obj[:, None]`) is deprecated and will be removed in a future version.  Convert to a numpy array before indexing instead.\n",
      "  x[:, None]\n",
      "/home/portugapt/.pyenv/versions/3.8.1/envs/LearnHub/lib/python3.8/site-packages/matplotlib/axes/_base.py:276: FutureWarning: Support for multi-dimensional indexing (e.g. `obj[:, None]`) is deprecated and will be removed in a future version.  Convert to a numpy array before indexing instead.\n",
      "  x = x[:, np.newaxis]\n",
      "/home/portugapt/.pyenv/versions/3.8.1/envs/LearnHub/lib/python3.8/site-packages/matplotlib/axes/_base.py:278: FutureWarning: Support for multi-dimensional indexing (e.g. `obj[:, None]`) is deprecated and will be removed in a future version.  Convert to a numpy array before indexing instead.\n",
      "  y = y[:, np.newaxis]\n"
     ]
    },
    {
     "data": {
      "image/png": "[encoded data removed]",
      "text/plain": [
       "<Figure size 432x288 with 2 Axes>"
      ]
     },
     "metadata": {
      "needs_background": "light"
     },
     "output_type": "display_data"
    }
   ],
   "source": [
    "(aic, rmse, mae, acc, tab, results) = glm_metrics(glm_model, dfVal, 'quality')\n",
    "\n",
    "results = np.around(glm_model.predict(dfVal))\n",
    "fig, ax1 = plt.subplots()\n",
    "ax2 = ax1.twinx()\n",
    "\n",
    "sns.histplot(results, ax=ax1)\n",
    "sns.kdeplot(results, ax=ax2, bw_method=0.8)\n",
    "\n",
    "model_results = fig\n",
    "\n",
    "print(glm_model.summary())"
   ]
  },
  {
   "cell_type": "code",
   "execution_count": 58,
   "id": "02dbd749-c1ba-4a72-82a2-d60904735c04",
   "metadata": {},
   "outputs": [],
   "source": [
    "## Log Metrics and Model into MLFlow\n",
    "with mlflow.start_run(run_name=\"GLM N Features\") as run:\n",
    "    mlflow.log_param(\"Input Features\", features)\n",
    "    mlflow.log_metric(\"aic\", aic)\n",
    "    mlflow.log_metric(\"rmse\", rmse)\n",
    "    mlflow.log_metric(\"mae\", mae)\n",
    "    mlflow.log_metric(\"acc\", acc)\n",
    "    mlflow.log_metric(\"covariance type\", acc)\n",
    "\n",
    "    with tempfile.TemporaryDirectory() as temp_dir:\n",
    "        temp_dir_path = Path(temp_dir)\n",
    "        model_file_path = temp_dir_path / \"model.pickle\"\n",
    "        dist_categories_path =  temp_dir_path / \"output.png\"\n",
    "        model_results.savefig(dist_categories_path)\n",
    "        with open(model_file_path, \"wb\") as f:\n",
    "            pickle.dump(glm_model, f)\n",
    "        mlflow.log_artifact(model_file_path)\n",
    "        mlflow.log_artifact(dist_categories_path)"
   ]
  },
  {
   "cell_type": "code",
   "execution_count": null,
   "id": "417c7eb4-999f-48d9-8d60-7e6680bc0843",
   "metadata": {},
   "outputs": [],
   "source": []
  }
 ],
 "metadata": {
  "kernelspec": {
   "display_name": "Python 3 (ipykernel)",
   "language": "python",
   "name": "python3"
  },
  "language_info": {
   "codemirror_mode": {
    "name": "ipython",
    "version": 3
   },
   "file_extension": ".py",
   "mimetype": "text/x-python",
   "name": "python",
   "nbconvert_exporter": "python",
   "pygments_lexer": "ipython3",
   "version": "3.8.1"
  },
  "toc-autonumbering": true,
  "toc-showcode": false,
  "toc-showmarkdowntxt": false
 },
 "nbformat": 4,
 "nbformat_minor": 5
}
