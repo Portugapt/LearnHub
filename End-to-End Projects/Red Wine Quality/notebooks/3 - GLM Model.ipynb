{
 "cells": [
  {
   "cell_type": "markdown",
   "id": "b6f04094",
   "metadata": {},
   "source": [
    "# Generalized Linear Model\n",
    "\n",
    "Even though the target, quality, is an ordinal feature, we can transform it into a categorical feature.  \n",
    "For example, above 7, it's High Quality. Between 5 and 6, it's Moderate quality, and below 5 is Poor quality. \n",
    "\n",
    "In the initial case, I am comparing the predicted regression quality VS the true regression."
   ]
  },
  {
   "cell_type": "code",
   "execution_count": 1,
   "id": "c464111f",
   "metadata": {},
   "outputs": [],
   "source": [
    "# Import libraries\n",
    "import os \n",
    "import tempfile\n",
    "import pickle\n",
    "from pathlib import Path\n",
    "import json\n",
    "\n",
    "import pandas as pd\n",
    "import numpy as np\n",
    "\n",
    "import matplotlib.pyplot as plt\n",
    "import seaborn as sns\n",
    "\n",
    "import scipy.stats as stats\n",
    "import statsmodels.api as sm\n",
    "\n",
    "from sklearn.metrics import accuracy_score, r2_score\n",
    "\n",
    "from urllib.parse import urlparse\n",
    "\n",
    "import mlflow\n",
    "from google.cloud import storage\n",
    "\n",
    "import logging\n",
    "\n",
    "logging.basicConfig(level=logging.WARN)\n",
    "logger = logging.getLogger(__name__)"
   ]
  },
  {
   "cell_type": "code",
   "execution_count": 2,
   "id": "70d9643e",
   "metadata": {},
   "outputs": [],
   "source": [
    "dfInput = pd.read_csv('../output/dataReady.csv', index_col = 'idx')\n",
    "\n",
    "dfTrain = dfInput.loc[dfInput.Set == 'train']\n",
    "dfVal = dfInput.loc[dfInput.Set == 'valid']"
   ]
  },
  {
   "cell_type": "code",
   "execution_count": 3,
   "id": "8311369b",
   "metadata": {},
   "outputs": [],
   "source": [
    "# \"ANOVA\" Test \n",
    "def calculate_nested_f_statistic(small_model, big_model):\n",
    "    \"\"\"Given two fitted GLMs, the larger of which contains the parameter space of the smaller, return the F Stat and P value corresponding to the larger model adding explanatory power\"\"\"\n",
    "    addtl_params = big_model.df_model - small_model.df_model\n",
    "    f_stat = (small_model.deviance - big_model.deviance) / (addtl_params * big_model.scale)\n",
    "    df_numerator = addtl_params\n",
    "    # use fitted values to obtain n_obs from model object:\n",
    "    df_denom = (big_model.fittedvalues.shape[0] - big_model.df_model)\n",
    "    p_value = stats.f.sf(f_stat, df_numerator, df_denom)\n",
    "    return (f_stat, p_value)"
   ]
  },
  {
   "cell_type": "code",
   "execution_count": 4,
   "id": "13ac9903",
   "metadata": {},
   "outputs": [],
   "source": [
    "def glm_metrics(model, df, target):\n",
    "    aic = model.aic\n",
    "    results = pd.DataFrame(columns = ['True', 'Predicted', 'RMSE'])\n",
    "    results['Predicted'] = np.around(model.predict(df))\n",
    "    results['True'] = df[target]\n",
    "    \n",
    "    results['RMSE'] = np.sqrt((results['True'] - results['Predicted'])**2)\n",
    "    results['MAE'] = np.abs((results['True'] - results['Predicted']))\n",
    "    \n",
    "    tab = pd.crosstab(results['True'], results['Predicted'])\n",
    "    acc = accuracy_score(results['True'], results['Predicted'])\n",
    "    \n",
    "    rmse = results['RMSE'].mean()\n",
    "    mae = results['MAE'].mean()\n",
    "    \n",
    "    return (aic, rmse, mae, acc, tab, results)"
   ]
  },
  {
   "cell_type": "markdown",
   "id": "c65ef31e",
   "metadata": {},
   "source": [
    "## Model Regressor\n",
    "\n",
    "I use a poisson as the family in the GLM, due to it's discrete nature. "
   ]
  },
  {
   "cell_type": "markdown",
   "id": "21dafb4b",
   "metadata": {},
   "source": [
    "### Run 1"
   ]
  },
  {
   "cell_type": "code",
   "execution_count": 6,
   "id": "e2a21b82",
   "metadata": {},
   "outputs": [],
   "source": [
    "## Model one\n",
    "# https://stats.stackexchange.com/questions/190763/how-to-decide-which-glm-family-to-use\n",
    "target = 'quality'\n",
    "features = ['alcohol']\n",
    "\n",
    "formula = f'{target}~{\"+\".join(features)}'\n",
    "\n",
    "glm_model1 = sm.GLM.from_formula(formula, \n",
    "                                 data = dfTrain, \n",
    "                                 family=sm.families.Poisson()).fit()\n",
    "\n",
    "\n",
    "(aic, rmse, mae, acc, tab, results) = glm_metrics(glm_model1, dfVal, 'quality')"
   ]
  },
  {
   "cell_type": "code",
   "execution_count": null,
   "id": "a1ef513f",
   "metadata": {},
   "outputs": [],
   "source": [
    "results = np.around(glm_model1.predict(dfVal))\n",
    "fig, ax1 = plt.subplots()\n",
    "ax2 = ax1.twinx()\n",
    "\n",
    "sns.histplot(results, ax=ax1)\n",
    "sns.kdeplot(results, ax=ax2, bw_method=0.8)\n",
    "\n",
    "model_results = fig"
   ]
  },
  {
   "cell_type": "code",
   "execution_count": null,
   "id": "c1160f4e",
   "metadata": {},
   "outputs": [],
   "source": [
    "## Log Metrics and Model into MLFlow\n",
    "with mlflow.start_run(run_name=\"GLM 1 Feature\") as run:\n",
    "    mlflow.log_param(\"Input Features\", features)\n",
    "    mlflow.log_metric(\"aic\", aic)\n",
    "    mlflow.log_metric(\"rmse\", rmse)\n",
    "    mlflow.log_metric(\"mae\", mae)\n",
    "    mlflow.log_metric(\"acc\", acc)\n",
    "\n",
    "    with tempfile.TemporaryDirectory() as temp_dir:\n",
    "        temp_dir_path = Path(temp_dir)\n",
    "        model_file_path = temp_dir_path / \"model.pickle\"\n",
    "        dist_categories_path =  temp_dir_path / \"output.png\"\n",
    "        model_results.savefig(dist_categories_path)\n",
    "        with open(model_file_path, \"wb\") as f:\n",
    "            pickle.dump(glm_model1, f)\n",
    "        mlflow.log_artifact(model_file_path)\n",
    "        mlflow.log_artifact(dist_categories_path)"
   ]
  },
  {
   "cell_type": "code",
   "execution_count": 7,
   "id": "1e56f109",
   "metadata": {},
   "outputs": [
    {
     "name": "stdout",
     "output_type": "stream",
     "text": [
      "                 Generalized Linear Model Regression Results                  \n",
      "==============================================================================\n",
      "Dep. Variable:                quality   No. Observations:                 1107\n",
      "Model:                            GLM   Df Residuals:                     1105\n",
      "Model Family:                 Poisson   Df Model:                            1\n",
      "Link Function:                    log   Scale:                          1.0000\n",
      "Method:                          IRLS   Log-Likelihood:                -2032.8\n",
      "Date:                Tue, 09 Nov 2021   Deviance:                       94.720\n",
      "Time:                        22:05:18   Pearson chi2:                     93.4\n",
      "No. Iterations:                     4                                         \n",
      "Covariance Type:            nonrobust                                         \n",
      "==============================================================================\n",
      "                 coef    std err          z      P>|z|      [0.025      0.975]\n",
      "------------------------------------------------------------------------------\n",
      "Intercept      1.0269      0.124      8.259      0.000       0.783       1.271\n",
      "alcohol        0.0673      0.012      5.699      0.000       0.044       0.090\n",
      "==============================================================================\n"
     ]
    },
    {
     "ename": "NameError",
     "evalue": "name 'model_results' is not defined",
     "output_type": "error",
     "traceback": [
      "\u001b[0;31m---------------------------------------------------------------------------\u001b[0m",
      "\u001b[0;31mNameError\u001b[0m                                 Traceback (most recent call last)",
      "\u001b[0;32m/tmp/ipykernel_101003/2823118607.py\u001b[0m in \u001b[0;36m<module>\u001b[0;34m\u001b[0m\n\u001b[1;32m      1\u001b[0m \u001b[0mprint\u001b[0m\u001b[0;34m(\u001b[0m\u001b[0mglm_model1\u001b[0m\u001b[0;34m.\u001b[0m\u001b[0msummary\u001b[0m\u001b[0;34m(\u001b[0m\u001b[0;34m)\u001b[0m\u001b[0;34m)\u001b[0m\u001b[0;34m\u001b[0m\u001b[0;34m\u001b[0m\u001b[0m\n\u001b[1;32m      2\u001b[0m \u001b[0;34m\u001b[0m\u001b[0m\n\u001b[0;32m----> 3\u001b[0;31m \u001b[0mmodel_results\u001b[0m\u001b[0;34m\u001b[0m\u001b[0;34m\u001b[0m\u001b[0m\n\u001b[0m",
      "\u001b[0;31mNameError\u001b[0m: name 'model_results' is not defined"
     ]
    }
   ],
   "source": [
    "print(glm_model1.summary())\n",
    "\n",
    "model_results"
   ]
  },
  {
   "cell_type": "markdown",
   "id": "6e1896cf",
   "metadata": {},
   "source": [
    "### Run 2"
   ]
  },
  {
   "cell_type": "code",
   "execution_count": null,
   "id": "e42c6342",
   "metadata": {},
   "outputs": [],
   "source": [
    "## Model two\n",
    "# https://stats.stackexchange.com/questions/190763/how-to-decide-which-glm-family-to-use\n",
    "target = 'quality'\n",
    "features = ['alcohol', 'sulphates']\n",
    "\n",
    "formula = f'{target}~{\"+\".join(features)}'\n",
    "\n",
    "glm_model2 = sm.GLM.from_formula(formula, \n",
    "                                 data = dfTrain, \n",
    "                                 family=sm.families.Poisson()).fit()\n",
    "\n",
    "(aic, rmse, mae, acc, tab, results) = glm_metrics(glm_model2, dfVal, 'quality')"
   ]
  },
  {
   "cell_type": "code",
   "execution_count": null,
   "id": "fae653d6",
   "metadata": {},
   "outputs": [],
   "source": [
    "results = np.around(glm_model2.predict(dfVal))\n",
    "fig, ax1 = plt.subplots()\n",
    "ax2 = ax1.twinx()\n",
    "\n",
    "sns.histplot(results, ax=ax1)\n",
    "sns.kdeplot(results, ax=ax2, bw_method=0.8)\n",
    "\n",
    "model_results = fig"
   ]
  },
  {
   "cell_type": "code",
   "execution_count": null,
   "id": "6d0ff629",
   "metadata": {},
   "outputs": [],
   "source": [
    "## Log Metrics and Model into MLFlow\n",
    "with mlflow.start_run(run_name=\"GLM 2 Features\") as run:\n",
    "    mlflow.log_param(\"Input Features\", features)\n",
    "    mlflow.log_metric(\"aic\", aic)\n",
    "    mlflow.log_metric(\"rmse\", rmse)\n",
    "    mlflow.log_metric(\"mae\", mae)\n",
    "    mlflow.log_metric(\"acc\", acc)\n",
    "\n",
    "    with tempfile.TemporaryDirectory() as temp_dir:\n",
    "        temp_dir_path = Path(temp_dir)\n",
    "        model_file_path = temp_dir_path / \"model.pickle\"\n",
    "        dist_categories_path =  temp_dir_path / \"output.png\"\n",
    "        model_results.savefig(dist_categories_path)\n",
    "        with open(model_file_path, \"wb\") as f:\n",
    "            pickle.dump(glm_model2, f)\n",
    "        mlflow.log_artifact(model_file_path)\n",
    "        mlflow.log_artifact(dist_categories_path)"
   ]
  },
  {
   "cell_type": "code",
   "execution_count": null,
   "id": "7ef7b472",
   "metadata": {},
   "outputs": [],
   "source": [
    "glm_model2.summary()"
   ]
  },
  {
   "cell_type": "code",
   "execution_count": null,
   "id": "30596870",
   "metadata": {},
   "outputs": [],
   "source": [
    "results = np.around(glm_model2.predict(dfVal))\n",
    "fig, ax1 = plt.subplots()\n",
    "ax2 = ax1.twinx()\n",
    "\n",
    "sns.histplot(results, ax=ax1)\n",
    "sns.kdeplot(results, ax=ax2, bw_method=0.8)"
   ]
  },
  {
   "cell_type": "markdown",
   "id": "ba870892",
   "metadata": {},
   "source": [
    "### Generic Run\n"
   ]
  },
  {
   "cell_type": "code",
   "execution_count": 5,
   "id": "bcc7b12c",
   "metadata": {},
   "outputs": [],
   "source": [
    "## Model two\n",
    "# https://stats.stackexchange.com/questions/190763/how-to-decide-which-glm-family-to-use\n",
    "target = 'quality'\n",
    "features = ['alcohol', 'sulphates','Q(\"volatile acidity\")', 'Q(\"total sulfur dioxide\")']\n",
    "\n",
    "formula = f'{target}~{\"+\".join(features)}'\n",
    "\n",
    "glm_model = sm.GLM.from_formula(formula, \n",
    "                                 data = dfTrain, \n",
    "                                 family=sm.families.Poisson()).fit()"
   ]
  },
  {
   "cell_type": "code",
   "execution_count": 6,
   "id": "57beae50",
   "metadata": {},
   "outputs": [
    {
     "name": "stderr",
     "output_type": "stream",
     "text": [
      "/home/portugapt/.pyenv/versions/3.8.1/envs/LearnHub/lib/python3.8/site-packages/matplotlib/cbook/__init__.py:1402: FutureWarning: Support for multi-dimensional indexing (e.g. `obj[:, None]`) is deprecated and will be removed in a future version.  Convert to a numpy array before indexing instead.\n",
      "  x[:, None]\n",
      "/home/portugapt/.pyenv/versions/3.8.1/envs/LearnHub/lib/python3.8/site-packages/matplotlib/axes/_base.py:276: FutureWarning: Support for multi-dimensional indexing (e.g. `obj[:, None]`) is deprecated and will be removed in a future version.  Convert to a numpy array before indexing instead.\n",
      "  x = x[:, np.newaxis]\n",
      "/home/portugapt/.pyenv/versions/3.8.1/envs/LearnHub/lib/python3.8/site-packages/matplotlib/axes/_base.py:278: FutureWarning: Support for multi-dimensional indexing (e.g. `obj[:, None]`) is deprecated and will be removed in a future version.  Convert to a numpy array before indexing instead.\n",
      "  y = y[:, np.newaxis]\n"
     ]
    },
    {
     "name": "stdout",
     "output_type": "stream",
     "text": [
      "                 Generalized Linear Model Regression Results                  \n",
      "==============================================================================\n",
      "Dep. Variable:                quality   No. Observations:                 1107\n",
      "Model:                            GLM   Df Residuals:                     1102\n",
      "Model Family:                 Poisson   Df Model:                            4\n",
      "Link Function:                    log   Scale:                          1.0000\n",
      "Method:                          IRLS   Log-Likelihood:                -2025.4\n",
      "Date:                Tue, 16 Nov 2021   Deviance:                       79.961\n",
      "Time:                        10:27:40   Pearson chi2:                     79.0\n",
      "No. Iterations:                     4                                         \n",
      "Covariance Type:            nonrobust                                         \n",
      "=============================================================================================\n",
      "                                coef    std err          z      P>|z|      [0.025      0.975]\n",
      "---------------------------------------------------------------------------------------------\n",
      "Intercept                     1.1891      0.159      7.469      0.000       0.877       1.501\n",
      "alcohol                       0.0540      0.012      4.326      0.000       0.030       0.078\n",
      "sulphates                     0.1522      0.084      1.801      0.072      -0.013       0.318\n",
      "Q(\"volatile acidity\")        -0.1929      0.076     -2.542      0.011      -0.342      -0.044\n",
      "Q(\"total sulfur dioxide\")    -0.0005      0.000     -1.147      0.252      -0.001       0.000\n",
      "=============================================================================================\n"
     ]
    },
    {
     "data": {
      "image/png": "[encoded data removed]",
      "text/plain": [
       "<Figure size 432x288 with 2 Axes>"
      ]
     },
     "metadata": {
      "needs_background": "light"
     },
     "output_type": "display_data"
    }
   ],
   "source": [
    "(aic, rmse, mae, acc, tab, results) = glm_metrics(glm_model, dfVal, 'quality')\n",
    "\n",
    "results = np.around(glm_model.predict(dfVal))\n",
    "fig, ax1 = plt.subplots()\n",
    "ax2 = ax1.twinx()\n",
    "\n",
    "sns.histplot(results, ax=ax1)\n",
    "sns.kdeplot(results, ax=ax2, bw_method=0.8)\n",
    "\n",
    "model_results = fig\n",
    "\n",
    "print(glm_model.summary())"
   ]
  },
  {
   "cell_type": "code",
   "execution_count": null,
   "id": "3cc11ce8",
   "metadata": {},
   "outputs": [],
   "source": [
    "## Log Metrics and Model into MLFlow\n",
    "with mlflow.start_run(run_name=\"GLM N Features\") as run:\n",
    "    mlflow.log_param(\"Input Features\", features)\n",
    "    mlflow.log_metric(\"aic\", aic)\n",
    "    mlflow.log_metric(\"rmse\", rmse)\n",
    "    mlflow.log_metric(\"mae\", mae)\n",
    "    mlflow.log_metric(\"acc\", acc)\n",
    "    mlflow.log_metric(\"covariance type\", acc)\n",
    "\n",
    "    with tempfile.TemporaryDirectory() as temp_dir:\n",
    "        temp_dir_path = Path(temp_dir)\n",
    "        model_file_path = temp_dir_path / \"model.pickle\"\n",
    "        dist_categories_path =  temp_dir_path / \"output.png\"\n",
    "        model_results.savefig(dist_categories_path)\n",
    "        with open(model_file_path, \"wb\") as f:\n",
    "            pickle.dump(glm_model, f)\n",
    "        mlflow.log_artifact(model_file_path)\n",
    "        mlflow.log_artifact(dist_categories_path)"
   ]
  },
  {
   "cell_type": "markdown",
   "id": "c722f728-5cf2-4017-96a5-45a7257cf1b5",
   "metadata": {},
   "source": [
    "# Conclusions\n",
    "\n",
    "\n",
    "I think this final model with 4 features isn't ideal, but for exercise effects, it's enough to have a baseline model.  \n",
    "It had an accuracy of 0.633, which is fairly ok given the model. I am still not sure if the distribution and link functions are the most optimal for this kind of question.  \n",
    "Lets look at some of the results."
   ]
  },
  {
   "cell_type": "code",
   "execution_count": null,
   "id": "40942cb5-0ea9-4924-908c-d9047e3f92bb",
   "metadata": {},
   "outputs": [],
   "source": []
  }
 ],
 "metadata": {
  "kernelspec": {
   "display_name": "Python 3 (ipykernel)",
   "language": "python",
   "name": "python3"
  },
  "language_info": {
   "codemirror_mode": {
    "name": "ipython",
    "version": 3
   },
   "file_extension": ".py",
   "mimetype": "text/x-python",
   "name": "python",
   "nbconvert_exporter": "python",
   "pygments_lexer": "ipython3",
   "version": "3.8.1"
  },
  "toc-autonumbering": true,
  "toc-showcode": false,
  "toc-showmarkdowntxt": false
 },
 "nbformat": 4,
 "nbformat_minor": 5
}
